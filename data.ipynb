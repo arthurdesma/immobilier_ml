{
 "cells": [
  {
   "cell_type": "code",
   "execution_count": 1,
   "metadata": {},
   "outputs": [],
   "source": [
    "import pandas as pd\n",
    "import numpy as np\n",
    "import matplotlib.pyplot as plt\n",
    "import seaborn as sns"
   ]
  },
  {
   "cell_type": "code",
   "execution_count": 2,
   "metadata": {},
   "outputs": [],
   "source": [
    "dtype_dict = {\n",
    "    'id_mutation': 'str',\n",
    "    'date_mutation': 'str',\n",
    "    'numero_disposition': 'str',\n",
    "    'nature_mutation': 'str',\n",
    "    'valeur_fonciere': 'float64',\n",
    "    'adresse_numero': 'float64',\n",
    "    'adresse_suffixe': 'str',\n",
    "    'adresse_nom_voie': 'str',\n",
    "    'adresse_code_voie': 'str',\n",
    "    'code_postal': 'str',\n",
    "    'code_commune': 'str',\n",
    "    'nom_commune': 'str',\n",
    "    'code_departement': 'str',\n",
    "    'ancien_code_commune': 'str',\n",
    "    'ancien_nom_commune': 'str',\n",
    "    'id_parcelle': 'str',\n",
    "    'ancien_id_parcelle': 'str',\n",
    "    'numero_volume': 'str',\n",
    "    'lot1_numero': 'str',\n",
    "    'lot1_surface_carrez': 'float64',\n",
    "    'lot2_numero': 'str',\n",
    "    'lot2_surface_carrez': 'float64',\n",
    "    'lot3_numero': 'str',\n",
    "    'lot3_surface_carrez': 'float64',\n",
    "    'lot4_numero': 'str',\n",
    "    'lot4_surface_carrez': 'float64',\n",
    "    'lot5_numero': 'str',\n",
    "    'lot5_surface_carrez': 'float64',\n",
    "    'nombre_lots': 'int32',\n",
    "    'code_type_local': 'str',\n",
    "    'type_local': 'str',\n",
    "    'surface_reelle_bati': 'float64',\n",
    "    'nombre_pieces_principales': 'float64',\n",
    "    'code_nature_culture': 'str',\n",
    "    'nature_culture': 'str',\n",
    "    'code_nature_culture_speciale': 'str',\n",
    "    'nature_culture_speciale': 'str',\n",
    "    'surface_terrain': 'float64',\n",
    "    'longitude': 'float64',\n",
    "    'latitude': 'float64'\n",
    "}"
   ]
  },
  {
   "cell_type": "code",
   "execution_count": 3,
   "metadata": {},
   "outputs": [],
   "source": [
    "data = pd.read_csv(\"data/full_2022.csv\",dtype=dtype_dict)\n",
    "data = data.dropna(subset=['longitude', 'latitude'])\n",
    "data = data.drop_duplicates()\n"
   ]
  },
  {
   "cell_type": "code",
   "execution_count": null,
   "metadata": {},
   "outputs": [],
   "source": [
    "\n"
   ]
  },
  {
   "cell_type": "code",
   "execution_count": 4,
   "metadata": {},
   "outputs": [
    {
     "name": "stdout",
     "output_type": "stream",
     "text": [
      "<class 'pandas.core.frame.DataFrame'>\n",
      "Index: 4233650 entries, 0 to 4617589\n",
      "Data columns (total 40 columns):\n",
      " #   Column                        Dtype  \n",
      "---  ------                        -----  \n",
      " 0   id_mutation                   object \n",
      " 1   date_mutation                 object \n",
      " 2   numero_disposition            object \n",
      " 3   nature_mutation               object \n",
      " 4   valeur_fonciere               float64\n",
      " 5   adresse_numero                float64\n",
      " 6   adresse_suffixe               object \n",
      " 7   adresse_nom_voie              object \n",
      " 8   adresse_code_voie             object \n",
      " 9   code_postal                   object \n",
      " 10  code_commune                  object \n",
      " 11  nom_commune                   object \n",
      " 12  code_departement              object \n",
      " 13  ancien_code_commune           object \n",
      " 14  ancien_nom_commune            object \n",
      " 15  id_parcelle                   object \n",
      " 16  ancien_id_parcelle            object \n",
      " 17  numero_volume                 object \n",
      " 18  lot1_numero                   object \n",
      " 19  lot1_surface_carrez           float64\n",
      " 20  lot2_numero                   object \n",
      " 21  lot2_surface_carrez           float64\n",
      " 22  lot3_numero                   object \n",
      " 23  lot3_surface_carrez           float64\n",
      " 24  lot4_numero                   object \n",
      " 25  lot4_surface_carrez           float64\n",
      " 26  lot5_numero                   object \n",
      " 27  lot5_surface_carrez           float64\n",
      " 28  nombre_lots                   int32  \n",
      " 29  code_type_local               object \n",
      " 30  type_local                    object \n",
      " 31  surface_reelle_bati           float64\n",
      " 32  nombre_pieces_principales     float64\n",
      " 33  code_nature_culture           object \n",
      " 34  nature_culture                object \n",
      " 35  code_nature_culture_speciale  object \n",
      " 36  nature_culture_speciale       object \n",
      " 37  surface_terrain               float64\n",
      " 38  longitude                     float64\n",
      " 39  latitude                      float64\n",
      "dtypes: float64(12), int32(1), object(27)\n",
      "memory usage: 1.3+ GB\n"
     ]
    }
   ],
   "source": [
    "data.info()"
   ]
  },
  {
   "cell_type": "code",
   "execution_count": 5,
   "metadata": {},
   "outputs": [
    {
     "data": {
      "text/plain": [
       "array(['Vente', \"Vente en l'état futur d'achèvement\", 'Echange',\n",
       "       'Vente terrain à bâtir', 'Adjudication', 'Expropriation'],\n",
       "      dtype=object)"
      ]
     },
     "execution_count": 5,
     "metadata": {},
     "output_type": "execute_result"
    }
   ],
   "source": [
    "data[\"nature_mutation\"].unique()"
   ]
  },
  {
   "cell_type": "code",
   "execution_count": 6,
   "metadata": {},
   "outputs": [],
   "source": [
    "sampled_data = data\n",
    "sampled_data = sampled_data[sampled_data[\"nature_mutation\"].isin([\"Vente\",\"Vente en l'état futur d'achèvement\"])]\n",
    "sampled_data = sampled_data[(sampled_data[\"nombre_lots\"] == 0) | (sampled_data[\"nombre_lots\"] == 1)]\n",
    "sampled_data = sampled_data[(sampled_data['surface_reelle_bati'].notna()) & (sampled_data['surface_reelle_bati'] != 0)]\n",
    "sampled_data = sampled_data[(sampled_data['valeur_fonciere'].notna()) & (sampled_data['valeur_fonciere'] != 0)]\n",
    "sampled_data['code_departement'] = sampled_data['code_departement'].replace(['2A', '2B'], '02')\n"
   ]
  },
  {
   "cell_type": "code",
   "execution_count": 7,
   "metadata": {},
   "outputs": [],
   "source": [
    "sampled_data = sampled_data.dropna(subset=['valeur_fonciere'])\n",
    "columns_to_drop = [\"lot1_numero\", \"lot2_numero\", \"lot3_numero\", \"lot4_numero\", \"lot5_numero\",\"ancien_code_commune\",\n",
    "                   \"ancien_nom_commune\",\"adresse_numero\",\"adresse_suffixe\",\"id_parcelle\",\"ancien_id_parcelle\",\"code_type_local\",\n",
    "                   \"numero_volume\",\"code_nature_culture_speciale\",\"nature_culture_speciale\",\"code_nature_culture\",\n",
    "                   \"code_nature_culture\",\"numero_disposition\",\"id_mutation\",\"lot2_surface_carrez\",\"lot3_surface_carrez\",\"lot4_surface_carrez\",\n",
    "                   \"lot5_surface_carrez\",\"adresse_nom_voie\",\"adresse_code_voie\",\"code_postal\",\"code_commune\",\"nom_commune\",\"nombre_lots\",\n",
    "                   \"lot1_surface_carrez\",\"nature_culture\"]\n",
    "    \n",
    "sampled_data = sampled_data.drop(columns=columns_to_drop)"
   ]
  },
  {
   "cell_type": "code",
   "execution_count": 8,
   "metadata": {},
   "outputs": [
    {
     "name": "stdout",
     "output_type": "stream",
     "text": [
      "<class 'pandas.core.frame.DataFrame'>\n",
      "Index: 1220352 entries, 0 to 4617578\n",
      "Data columns (total 10 columns):\n",
      " #   Column                     Non-Null Count    Dtype  \n",
      "---  ------                     --------------    -----  \n",
      " 0   date_mutation              1220352 non-null  object \n",
      " 1   nature_mutation            1220352 non-null  object \n",
      " 2   valeur_fonciere            1220352 non-null  float64\n",
      " 3   code_departement           1220352 non-null  object \n",
      " 4   type_local                 1220352 non-null  object \n",
      " 5   surface_reelle_bati        1220352 non-null  float64\n",
      " 6   nombre_pieces_principales  1220352 non-null  float64\n",
      " 7   surface_terrain            871221 non-null   float64\n",
      " 8   longitude                  1220352 non-null  float64\n",
      " 9   latitude                   1220352 non-null  float64\n",
      "dtypes: float64(6), object(4)\n",
      "memory usage: 102.4+ MB\n"
     ]
    }
   ],
   "source": [
    "sampled_data.info()"
   ]
  },
  {
   "cell_type": "code",
   "execution_count": 9,
   "metadata": {},
   "outputs": [],
   "source": [
    "sampled_data['latitude'] = sampled_data['latitude'].astype(float)\n",
    "sampled_data['longitude'] = sampled_data['longitude'].astype(float)\n",
    "\n",
    "\n",
    "# Fill NA values with 0 for 'surface_terrain'\n",
    "sampled_data[\"surface_terrain\"] = sampled_data[\"surface_terrain\"].fillna(0)\n",
    "\n",
    "# Convert 'valeur_fonciere' to string, replace commas with periods, and then convert to float\n",
    "sampled_data[\"valeur_fonciere\"] = sampled_data[\"valeur_fonciere\"].astype(str).apply(lambda x: x.replace(\",\", \".\")).astype(float)\n",
    "\n",
    "# Ensure that the conversion to integer happens after handling NaN or other non-numeric values\n",
    "# sampled_data[\"valeur_fonciere\"] = sampled_data[\"valeur_fonciere\"].astype(int)\n",
    "\n",
    "# Calculate 'Prix_m' and round it\n",
    "sampled_data[\"Prix_m\"] = sampled_data[\"valeur_fonciere\"] / sampled_data[\"surface_reelle_bati\"]\n",
    "sampled_data[\"Prix_m\"] = sampled_data[\"Prix_m\"].apply(lambda x: round(x))\n",
    "\n",
    "sampled_data['latitude_r'] = np.deg2rad(sampled_data['latitude'])\n",
    "sampled_data['longitude_r'] = np.deg2rad(sampled_data['longitude'])\n",
    "sampled_data=sampled_data[sampled_data.latitude.notna()]\n",
    "sampled_data=sampled_data[sampled_data.code_departement.notna()]\n",
    "\n",
    "sampled_data=sampled_data.sort_values(by = ['latitude','longitude'])\n",
    "sampled_data=sampled_data.drop(columns=['latitude','longitude'])\n",
    "sampled_data=sampled_data.reset_index(drop=True)\n"
   ]
  },
  {
   "cell_type": "code",
   "execution_count": 10,
   "metadata": {},
   "outputs": [
    {
     "name": "stdout",
     "output_type": "stream",
     "text": [
      "<class 'pandas.core.frame.DataFrame'>\n",
      "RangeIndex: 1220352 entries, 0 to 1220351\n",
      "Data columns (total 11 columns):\n",
      " #   Column                     Non-Null Count    Dtype  \n",
      "---  ------                     --------------    -----  \n",
      " 0   date_mutation              1220352 non-null  object \n",
      " 1   nature_mutation            1220352 non-null  object \n",
      " 2   valeur_fonciere            1220352 non-null  float64\n",
      " 3   code_departement           1220352 non-null  object \n",
      " 4   type_local                 1220352 non-null  object \n",
      " 5   surface_reelle_bati        1220352 non-null  float64\n",
      " 6   nombre_pieces_principales  1220352 non-null  float64\n",
      " 7   surface_terrain            1220352 non-null  float64\n",
      " 8   Prix_m                     1220352 non-null  int64  \n",
      " 9   latitude_r                 1220352 non-null  float64\n",
      " 10  longitude_r                1220352 non-null  float64\n",
      "dtypes: float64(6), int64(1), object(4)\n",
      "memory usage: 102.4+ MB\n"
     ]
    }
   ],
   "source": [
    "sampled_data.info()"
   ]
  },
  {
   "cell_type": "code",
   "execution_count": 11,
   "metadata": {},
   "outputs": [],
   "source": [
    "sampled_data = sampled_data[sampled_data['Prix_m'] <= 75000]"
   ]
  },
  {
   "cell_type": "code",
   "execution_count": 12,
   "metadata": {},
   "outputs": [],
   "source": [
    "def filter_outliers(df):\n",
    "    # Groupage par département\n",
    "    grouped = df.groupby('code_departement')\n",
    "\n",
    "    # Fonction pour filtrer les valeurs aberrantes dans chaque groupe\n",
    "    def filter_group(group):\n",
    "        Q1 = group['Prix_m'].quantile(0.25)\n",
    "        Q3 = group['Prix_m'].quantile(0.75)\n",
    "        IQR = Q3 - Q1\n",
    "        return group[(group['Prix_m'] >= (Q1 - 1.5 * IQR)) & (group['Prix_m'] <= (Q3 + 1.5 * IQR))]\n",
    "\n",
    "    # Application du filtre à chaque groupe et combinaison des résultats\n",
    "    return grouped.apply(filter_group).reset_index(drop=True)\n",
    "\n",
    "# Application de la fonction de filtrage\n",
    "sampled_data = filter_outliers(sampled_data)\n"
   ]
  },
  {
   "cell_type": "code",
   "execution_count": 13,
   "metadata": {},
   "outputs": [
    {
     "name": "stdout",
     "output_type": "stream",
     "text": [
      "<class 'pandas.core.frame.DataFrame'>\n",
      "RangeIndex: 1087075 entries, 0 to 1087074\n",
      "Data columns (total 11 columns):\n",
      " #   Column                     Non-Null Count    Dtype  \n",
      "---  ------                     --------------    -----  \n",
      " 0   date_mutation              1087075 non-null  object \n",
      " 1   nature_mutation            1087075 non-null  object \n",
      " 2   valeur_fonciere            1087075 non-null  float64\n",
      " 3   code_departement           1087075 non-null  object \n",
      " 4   type_local                 1087075 non-null  object \n",
      " 5   surface_reelle_bati        1087075 non-null  float64\n",
      " 6   nombre_pieces_principales  1087075 non-null  float64\n",
      " 7   surface_terrain            1087075 non-null  float64\n",
      " 8   Prix_m                     1087075 non-null  int64  \n",
      " 9   latitude_r                 1087075 non-null  float64\n",
      " 10  longitude_r                1087075 non-null  float64\n",
      "dtypes: float64(6), int64(1), object(4)\n",
      "memory usage: 91.2+ MB\n"
     ]
    }
   ],
   "source": [
    "sampled_data.info()"
   ]
  },
  {
   "cell_type": "code",
   "execution_count": 14,
   "metadata": {},
   "outputs": [
    {
     "data": {
      "text/html": [
       "<div>\n",
       "<style scoped>\n",
       "    .dataframe tbody tr th:only-of-type {\n",
       "        vertical-align: middle;\n",
       "    }\n",
       "\n",
       "    .dataframe tbody tr th {\n",
       "        vertical-align: top;\n",
       "    }\n",
       "\n",
       "    .dataframe thead th {\n",
       "        text-align: right;\n",
       "    }\n",
       "</style>\n",
       "<table border=\"1\" class=\"dataframe\">\n",
       "  <thead>\n",
       "    <tr style=\"text-align: right;\">\n",
       "      <th>nature_mutation</th>\n",
       "      <th>Vente</th>\n",
       "      <th>Vente en l'état futur d'achèvement</th>\n",
       "    </tr>\n",
       "    <tr>\n",
       "      <th>type_local</th>\n",
       "      <th></th>\n",
       "      <th></th>\n",
       "    </tr>\n",
       "  </thead>\n",
       "  <tbody>\n",
       "    <tr>\n",
       "      <th>Appartement</th>\n",
       "      <td>296693</td>\n",
       "      <td>7733</td>\n",
       "    </tr>\n",
       "    <tr>\n",
       "      <th>Local industriel. commercial ou assimilé</th>\n",
       "      <td>77906</td>\n",
       "      <td>686</td>\n",
       "    </tr>\n",
       "    <tr>\n",
       "      <th>Maison</th>\n",
       "      <td>703651</td>\n",
       "      <td>406</td>\n",
       "    </tr>\n",
       "  </tbody>\n",
       "</table>\n",
       "</div>"
      ],
      "text/plain": [
       "nature_mutation                            Vente  \\\n",
       "type_local                                         \n",
       "Appartement                               296693   \n",
       "Local industriel. commercial ou assimilé   77906   \n",
       "Maison                                    703651   \n",
       "\n",
       "nature_mutation                           Vente en l'état futur d'achèvement  \n",
       "type_local                                                                    \n",
       "Appartement                                                             7733  \n",
       "Local industriel. commercial ou assimilé                                 686  \n",
       "Maison                                                                   406  "
      ]
     },
     "execution_count": 14,
     "metadata": {},
     "output_type": "execute_result"
    }
   ],
   "source": [
    "sampled_data.pivot_table(values='valeur_fonciere', index='type_local', columns='nature_mutation', aggfunc='size')"
   ]
  },
  {
   "cell_type": "code",
   "execution_count": 17,
   "metadata": {},
   "outputs": [],
   "source": [
    "appart_old=sampled_data[(sampled_data['type_local']=='Appartement') & (sampled_data['nature_mutation']=='Vente') & (sampled_data['Prix_m']>500)]\n",
    "appart_old.reset_index(drop=True,inplace=True)\n",
    "maison_old=sampled_data[(sampled_data['type_local']=='Maison') & (sampled_data['nature_mutation']=='Vente')]\n",
    "maison_old=maison_old[(maison_old['valeur_fonciere']>20000)&(maison_old['Prix_m']>500)&(maison_old['surface_reelle_bati']>9)]\n",
    "maison_old.reset_index(drop=True,inplace=True)\n",
    "#local_old =sampled_data[(sampled_data['type_local']=='Local industriel. commercial ou assimilé') & (sampled_data['nature_mutation']=='Vente')]\n",
    "#local_old.reset_index(drop=True,inplace=True)\n",
    "appart_new=sampled_data[(sampled_data['type_local']=='Appartement') & (sampled_data['nature_mutation']=='Vente en l\\'état futur d\\'achèvement')]\n",
    "appart_new.reset_index(drop=True,inplace=True)"
   ]
  },
  {
   "cell_type": "code",
   "execution_count": 18,
   "metadata": {},
   "outputs": [],
   "source": [
    "#local_old.info()"
   ]
  },
  {
   "cell_type": "code",
   "execution_count": 19,
   "metadata": {},
   "outputs": [
    {
     "name": "stdout",
     "output_type": "stream",
     "text": [
      "<class 'pandas.core.frame.DataFrame'>\n",
      "RangeIndex: 292372 entries, 0 to 292371\n",
      "Data columns (total 11 columns):\n",
      " #   Column                     Non-Null Count   Dtype  \n",
      "---  ------                     --------------   -----  \n",
      " 0   date_mutation              292372 non-null  object \n",
      " 1   nature_mutation            292372 non-null  object \n",
      " 2   valeur_fonciere            292372 non-null  float64\n",
      " 3   code_departement           292372 non-null  object \n",
      " 4   type_local                 292372 non-null  object \n",
      " 5   surface_reelle_bati        292372 non-null  float64\n",
      " 6   nombre_pieces_principales  292372 non-null  float64\n",
      " 7   surface_terrain            292372 non-null  float64\n",
      " 8   Prix_m                     292372 non-null  int64  \n",
      " 9   latitude_r                 292372 non-null  float64\n",
      " 10  longitude_r                292372 non-null  float64\n",
      "dtypes: float64(6), int64(1), object(4)\n",
      "memory usage: 24.5+ MB\n"
     ]
    }
   ],
   "source": [
    "appart_old.info()"
   ]
  },
  {
   "cell_type": "code",
   "execution_count": 20,
   "metadata": {},
   "outputs": [
    {
     "name": "stdout",
     "output_type": "stream",
     "text": [
      "<class 'pandas.core.frame.DataFrame'>\n",
      "RangeIndex: 7733 entries, 0 to 7732\n",
      "Data columns (total 11 columns):\n",
      " #   Column                     Non-Null Count  Dtype  \n",
      "---  ------                     --------------  -----  \n",
      " 0   date_mutation              7733 non-null   object \n",
      " 1   nature_mutation            7733 non-null   object \n",
      " 2   valeur_fonciere            7733 non-null   float64\n",
      " 3   code_departement           7733 non-null   object \n",
      " 4   type_local                 7733 non-null   object \n",
      " 5   surface_reelle_bati        7733 non-null   float64\n",
      " 6   nombre_pieces_principales  7733 non-null   float64\n",
      " 7   surface_terrain            7733 non-null   float64\n",
      " 8   Prix_m                     7733 non-null   int64  \n",
      " 9   latitude_r                 7733 non-null   float64\n",
      " 10  longitude_r                7733 non-null   float64\n",
      "dtypes: float64(6), int64(1), object(4)\n",
      "memory usage: 664.7+ KB\n"
     ]
    }
   ],
   "source": [
    "appart_new.info()"
   ]
  },
  {
   "cell_type": "code",
   "execution_count": 21,
   "metadata": {},
   "outputs": [
    {
     "name": "stdout",
     "output_type": "stream",
     "text": [
      "<class 'pandas.core.frame.DataFrame'>\n",
      "RangeIndex: 676402 entries, 0 to 676401\n",
      "Data columns (total 11 columns):\n",
      " #   Column                     Non-Null Count   Dtype  \n",
      "---  ------                     --------------   -----  \n",
      " 0   date_mutation              676402 non-null  object \n",
      " 1   nature_mutation            676402 non-null  object \n",
      " 2   valeur_fonciere            676402 non-null  float64\n",
      " 3   code_departement           676402 non-null  object \n",
      " 4   type_local                 676402 non-null  object \n",
      " 5   surface_reelle_bati        676402 non-null  float64\n",
      " 6   nombre_pieces_principales  676402 non-null  float64\n",
      " 7   surface_terrain            676402 non-null  float64\n",
      " 8   Prix_m                     676402 non-null  int64  \n",
      " 9   latitude_r                 676402 non-null  float64\n",
      " 10  longitude_r                676402 non-null  float64\n",
      "dtypes: float64(6), int64(1), object(4)\n",
      "memory usage: 56.8+ MB\n"
     ]
    }
   ],
   "source": [
    "maison_old.info()"
   ]
  },
  {
   "cell_type": "code",
   "execution_count": 22,
   "metadata": {},
   "outputs": [
    {
     "data": {
      "image/png": "[encoded data removed]",
      "text/plain": [
       "<Figure size 1000x600 with 1 Axes>"
      ]
     },
     "metadata": {},
     "output_type": "display_data"
    }
   ],
   "source": [
    "# Calcul de la valeur maximale\n",
    "max_prix_m = sampled_data[\"Prix_m\"].max()\n",
    "\n",
    "# Création de l'histogramme\n",
    "plt.figure(figsize=(10, 6))\n",
    "plt.hist(sampled_data[\"Prix_m\"], bins=30, alpha=0.7, color='blue', edgecolor='black')\n",
    "\n",
    "# Mettre en évidence la valeur maximale\n",
    "plt.axvline(max_prix_m, color='red', linestyle='dashed', linewidth=2)\n",
    "plt.text(max_prix_m, plt.ylim()[1]*0.9, f'Max: {max_prix_m:.2f}', color = 'red')\n",
    "\n",
    "# Titre et étiquettes\n",
    "plt.title('Distribution de Prix_m')\n",
    "plt.xlabel('Prix_m')\n",
    "plt.ylabel('Fréquence')\n",
    "\n",
    "# Afficher le graphique\n",
    "plt.show()"
   ]
  },
  {
   "cell_type": "code",
   "execution_count": 23,
   "metadata": {},
   "outputs": [
    {
     "data": {
      "text/html": [
       "<div>\n",
       "<style scoped>\n",
       "    .dataframe tbody tr th:only-of-type {\n",
       "        vertical-align: middle;\n",
       "    }\n",
       "\n",
       "    .dataframe tbody tr th {\n",
       "        vertical-align: top;\n",
       "    }\n",
       "\n",
       "    .dataframe thead th {\n",
       "        text-align: right;\n",
       "    }\n",
       "</style>\n",
       "<table border=\"1\" class=\"dataframe\">\n",
       "  <thead>\n",
       "    <tr style=\"text-align: right;\">\n",
       "      <th></th>\n",
       "      <th>date_mutation</th>\n",
       "      <th>nature_mutation</th>\n",
       "      <th>valeur_fonciere</th>\n",
       "      <th>code_departement</th>\n",
       "      <th>type_local</th>\n",
       "      <th>surface_reelle_bati</th>\n",
       "      <th>nombre_pieces_principales</th>\n",
       "      <th>surface_terrain</th>\n",
       "      <th>Prix_m</th>\n",
       "      <th>latitude_r</th>\n",
       "      <th>longitude_r</th>\n",
       "    </tr>\n",
       "  </thead>\n",
       "  <tbody>\n",
       "    <tr>\n",
       "      <th>805608</th>\n",
       "      <td>2022-07-12</td>\n",
       "      <td>Vente</td>\n",
       "      <td>800000.0</td>\n",
       "      <td>75</td>\n",
       "      <td>Appartement</td>\n",
       "      <td>39.0</td>\n",
       "      <td>2.0</td>\n",
       "      <td>0.0</td>\n",
       "      <td>20513</td>\n",
       "      <td>0.852357</td>\n",
       "      <td>0.040517</td>\n",
       "    </tr>\n",
       "    <tr>\n",
       "      <th>808067</th>\n",
       "      <td>2022-08-08</td>\n",
       "      <td>Vente</td>\n",
       "      <td>205100.0</td>\n",
       "      <td>75</td>\n",
       "      <td>Appartement</td>\n",
       "      <td>10.0</td>\n",
       "      <td>1.0</td>\n",
       "      <td>0.0</td>\n",
       "      <td>20510</td>\n",
       "      <td>0.852538</td>\n",
       "      <td>0.040265</td>\n",
       "    </tr>\n",
       "    <tr>\n",
       "      <th>809508</th>\n",
       "      <td>2022-12-09</td>\n",
       "      <td>Vente</td>\n",
       "      <td>533000.0</td>\n",
       "      <td>75</td>\n",
       "      <td>Appartement</td>\n",
       "      <td>26.0</td>\n",
       "      <td>1.0</td>\n",
       "      <td>0.0</td>\n",
       "      <td>20500</td>\n",
       "      <td>0.852633</td>\n",
       "      <td>0.040736</td>\n",
       "    </tr>\n",
       "    <tr>\n",
       "      <th>807877</th>\n",
       "      <td>2022-03-02</td>\n",
       "      <td>Vente</td>\n",
       "      <td>1435000.0</td>\n",
       "      <td>75</td>\n",
       "      <td>Local industriel. commercial ou assimilé</td>\n",
       "      <td>70.0</td>\n",
       "      <td>0.0</td>\n",
       "      <td>0.0</td>\n",
       "      <td>20500</td>\n",
       "      <td>0.852527</td>\n",
       "      <td>0.041539</td>\n",
       "    </tr>\n",
       "    <tr>\n",
       "      <th>811490</th>\n",
       "      <td>2022-12-05</td>\n",
       "      <td>Vente</td>\n",
       "      <td>3072000.0</td>\n",
       "      <td>75</td>\n",
       "      <td>Appartement</td>\n",
       "      <td>150.0</td>\n",
       "      <td>6.0</td>\n",
       "      <td>0.0</td>\n",
       "      <td>20480</td>\n",
       "      <td>0.852770</td>\n",
       "      <td>0.040529</td>\n",
       "    </tr>\n",
       "    <tr>\n",
       "      <th>...</th>\n",
       "      <td>...</td>\n",
       "      <td>...</td>\n",
       "      <td>...</td>\n",
       "      <td>...</td>\n",
       "      <td>...</td>\n",
       "      <td>...</td>\n",
       "      <td>...</td>\n",
       "      <td>...</td>\n",
       "      <td>...</td>\n",
       "      <td>...</td>\n",
       "      <td>...</td>\n",
       "    </tr>\n",
       "    <tr>\n",
       "      <th>809446</th>\n",
       "      <td>2022-09-16</td>\n",
       "      <td>Vente</td>\n",
       "      <td>515687.0</td>\n",
       "      <td>75</td>\n",
       "      <td>Appartement</td>\n",
       "      <td>30.0</td>\n",
       "      <td>2.0</td>\n",
       "      <td>0.0</td>\n",
       "      <td>17190</td>\n",
       "      <td>0.852630</td>\n",
       "      <td>0.040751</td>\n",
       "    </tr>\n",
       "    <tr>\n",
       "      <th>810695</th>\n",
       "      <td>2022-06-29</td>\n",
       "      <td>Vente</td>\n",
       "      <td>962525.0</td>\n",
       "      <td>75</td>\n",
       "      <td>Local industriel. commercial ou assimilé</td>\n",
       "      <td>56.0</td>\n",
       "      <td>0.0</td>\n",
       "      <td>0.0</td>\n",
       "      <td>17188</td>\n",
       "      <td>0.852713</td>\n",
       "      <td>0.041324</td>\n",
       "    </tr>\n",
       "    <tr>\n",
       "      <th>810094</th>\n",
       "      <td>2022-12-30</td>\n",
       "      <td>Vente</td>\n",
       "      <td>515620.0</td>\n",
       "      <td>75</td>\n",
       "      <td>Appartement</td>\n",
       "      <td>30.0</td>\n",
       "      <td>2.0</td>\n",
       "      <td>0.0</td>\n",
       "      <td>17187</td>\n",
       "      <td>0.852672</td>\n",
       "      <td>0.040845</td>\n",
       "    </tr>\n",
       "    <tr>\n",
       "      <th>812900</th>\n",
       "      <td>2022-07-29</td>\n",
       "      <td>Vente</td>\n",
       "      <td>876230.0</td>\n",
       "      <td>75</td>\n",
       "      <td>Appartement</td>\n",
       "      <td>51.0</td>\n",
       "      <td>3.0</td>\n",
       "      <td>0.0</td>\n",
       "      <td>17181</td>\n",
       "      <td>0.852875</td>\n",
       "      <td>0.039973</td>\n",
       "    </tr>\n",
       "    <tr>\n",
       "      <th>817101</th>\n",
       "      <td>2022-11-30</td>\n",
       "      <td>Vente</td>\n",
       "      <td>790000.0</td>\n",
       "      <td>75</td>\n",
       "      <td>Appartement</td>\n",
       "      <td>46.0</td>\n",
       "      <td>2.0</td>\n",
       "      <td>0.0</td>\n",
       "      <td>17174</td>\n",
       "      <td>0.853146</td>\n",
       "      <td>0.040960</td>\n",
       "    </tr>\n",
       "  </tbody>\n",
       "</table>\n",
       "<p>700 rows × 11 columns</p>\n",
       "</div>"
      ],
      "text/plain": [
       "       date_mutation nature_mutation  valeur_fonciere code_departement  \\\n",
       "805608    2022-07-12           Vente         800000.0               75   \n",
       "808067    2022-08-08           Vente         205100.0               75   \n",
       "809508    2022-12-09           Vente         533000.0               75   \n",
       "807877    2022-03-02           Vente        1435000.0               75   \n",
       "811490    2022-12-05           Vente        3072000.0               75   \n",
       "...              ...             ...              ...              ...   \n",
       "809446    2022-09-16           Vente         515687.0               75   \n",
       "810695    2022-06-29           Vente         962525.0               75   \n",
       "810094    2022-12-30           Vente         515620.0               75   \n",
       "812900    2022-07-29           Vente         876230.0               75   \n",
       "817101    2022-11-30           Vente         790000.0               75   \n",
       "\n",
       "                                      type_local  surface_reelle_bati  \\\n",
       "805608                               Appartement                 39.0   \n",
       "808067                               Appartement                 10.0   \n",
       "809508                               Appartement                 26.0   \n",
       "807877  Local industriel. commercial ou assimilé                 70.0   \n",
       "811490                               Appartement                150.0   \n",
       "...                                          ...                  ...   \n",
       "809446                               Appartement                 30.0   \n",
       "810695  Local industriel. commercial ou assimilé                 56.0   \n",
       "810094                               Appartement                 30.0   \n",
       "812900                               Appartement                 51.0   \n",
       "817101                               Appartement                 46.0   \n",
       "\n",
       "        nombre_pieces_principales  surface_terrain  Prix_m  latitude_r  \\\n",
       "805608                        2.0              0.0   20513    0.852357   \n",
       "808067                        1.0              0.0   20510    0.852538   \n",
       "809508                        1.0              0.0   20500    0.852633   \n",
       "807877                        0.0              0.0   20500    0.852527   \n",
       "811490                        6.0              0.0   20480    0.852770   \n",
       "...                           ...              ...     ...         ...   \n",
       "809446                        2.0              0.0   17190    0.852630   \n",
       "810695                        0.0              0.0   17188    0.852713   \n",
       "810094                        2.0              0.0   17187    0.852672   \n",
       "812900                        3.0              0.0   17181    0.852875   \n",
       "817101                        2.0              0.0   17174    0.853146   \n",
       "\n",
       "        longitude_r  \n",
       "805608     0.040517  \n",
       "808067     0.040265  \n",
       "809508     0.040736  \n",
       "807877     0.041539  \n",
       "811490     0.040529  \n",
       "...             ...  \n",
       "809446     0.040751  \n",
       "810695     0.041324  \n",
       "810094     0.040845  \n",
       "812900     0.039973  \n",
       "817101     0.040960  \n",
       "\n",
       "[700 rows x 11 columns]"
      ]
     },
     "execution_count": 23,
     "metadata": {},
     "output_type": "execute_result"
    }
   ],
   "source": [
    "# Trier le DataFrame par 'Prix_m' en ordre décroissant et sélectionner les 10 premières lignes\n",
    "top_10_prix_m = sampled_data.sort_values(by=\"Prix_m\", ascending=False).head(700)\n",
    "\n",
    "top_10_prix_m\n"
   ]
  },
  {
   "cell_type": "code",
   "execution_count": 24,
   "metadata": {},
   "outputs": [],
   "source": [
    "top_10_prix_m = sampled_data[sampled_data['code_departement'] == 97].sort_values(by=\"Prix_m\", ascending=False).head(10)"
   ]
  },
  {
   "cell_type": "code",
   "execution_count": 25,
   "metadata": {},
   "outputs": [
    {
     "name": "stdout",
     "output_type": "stream",
     "text": [
      "<class 'pandas.core.frame.DataFrame'>\n",
      "RangeIndex: 676402 entries, 0 to 676401\n",
      "Data columns (total 11 columns):\n",
      " #   Column                     Non-Null Count   Dtype  \n",
      "---  ------                     --------------   -----  \n",
      " 0   date_mutation              676402 non-null  object \n",
      " 1   nature_mutation            676402 non-null  object \n",
      " 2   valeur_fonciere            676402 non-null  float64\n",
      " 3   code_departement           676402 non-null  object \n",
      " 4   type_local                 676402 non-null  object \n",
      " 5   surface_reelle_bati        676402 non-null  float64\n",
      " 6   nombre_pieces_principales  676402 non-null  float64\n",
      " 7   surface_terrain            676402 non-null  float64\n",
      " 8   Prix_m                     676402 non-null  int64  \n",
      " 9   latitude_r                 676402 non-null  float64\n",
      " 10  longitude_r                676402 non-null  float64\n",
      "dtypes: float64(6), int64(1), object(4)\n",
      "memory usage: 56.8+ MB\n"
     ]
    }
   ],
   "source": [
    "maison_old.info()"
   ]
  },
  {
   "cell_type": "markdown",
   "metadata": {},
   "source": [
    "## ALL ##"
   ]
  },
  {
   "cell_type": "code",
   "execution_count": 26,
   "metadata": {},
   "outputs": [],
   "source": [
    "from sklearn.neighbors import BallTree\n",
    "import os\n",
    "import pickle\n",
    "\n",
    "# Assurez-vous que vos données sont correctement chargées et préparées\n",
    "# appart_old, maison_old, appart_new doivent être définis et préparés avant ce point\n",
    "\n",
    "def save_obj(obj, name):\n",
    "    # Créez le répertoire s'il n'existe pas\n",
    "    directory = \"data/\"\n",
    "    if not os.path.exists(directory):\n",
    "        os.makedirs(directory)\n",
    "\n",
    "    # Sauvegardez l'objet\n",
    "    with open(os.path.join(directory, name + '.pkl'), 'wb') as f:\n",
    "        pickle.dump(obj, f, pickle.HIGHEST_PROTOCOL)\n",
    "\n",
    "# Initialiser les modèles\n",
    "models = {}\n",
    "\n",
    "# Fusionnez les trois types de biens dans un DataFrame unique\n",
    "all_properties = pd.concat([appart_old, maison_old,appart_new])\n",
    "\n",
    "# Calculez la distance moyenne et les indices des voisins (si nécessaire)\n",
    "all_properties['distance_moyenne'] = np.zeros(len(all_properties))\n",
    "all_properties['indices_voisins'] = np.zeros(len(all_properties))\n",
    "\n",
    "# Créez un modèle BallTree pour toute la France\n",
    "model_all = BallTree(all_properties[['latitude_r', 'longitude_r']].values, leaf_size=2, metric='haversine')\n",
    "models['france_entiere'] = model_all\n",
    "\n",
    "# Sauvegardez le modèle\n",
    "save_obj(models['france_entiere'], 'france_entiere')\n"
   ]
  },
  {
   "cell_type": "code",
   "execution_count": 27,
   "metadata": {},
   "outputs": [
    {
     "name": "stdout",
     "output_type": "stream",
     "text": [
      "<class 'pandas.core.frame.DataFrame'>\n",
      "Index: 976507 entries, 0 to 7732\n",
      "Data columns (total 13 columns):\n",
      " #   Column                     Non-Null Count   Dtype  \n",
      "---  ------                     --------------   -----  \n",
      " 0   date_mutation              976507 non-null  object \n",
      " 1   nature_mutation            976507 non-null  object \n",
      " 2   valeur_fonciere            976507 non-null  float64\n",
      " 3   code_departement           976507 non-null  object \n",
      " 4   type_local                 976507 non-null  object \n",
      " 5   surface_reelle_bati        976507 non-null  float64\n",
      " 6   nombre_pieces_principales  976507 non-null  float64\n",
      " 7   surface_terrain            976507 non-null  float64\n",
      " 8   Prix_m                     976507 non-null  int64  \n",
      " 9   latitude_r                 976507 non-null  float64\n",
      " 10  longitude_r                976507 non-null  float64\n",
      " 11  distance_moyenne           976507 non-null  float64\n",
      " 12  indices_voisins            976507 non-null  float64\n",
      "dtypes: float64(8), int64(1), object(4)\n",
      "memory usage: 104.3+ MB\n"
     ]
    }
   ],
   "source": [
    "all_properties.info()"
   ]
  },
  {
   "cell_type": "code",
   "execution_count": 28,
   "metadata": {},
   "outputs": [
    {
     "name": "stderr",
     "output_type": "stream",
     "text": [
      "C:\\Users\\arthu\\AppData\\Local\\Temp\\ipykernel_6124\\2918722754.py:35: SettingWithCopyWarning: \n",
      "A value is trying to be set on a copy of a slice from a DataFrame.\n",
      "Try using .loc[row_indexer,col_indexer] = value instead\n",
      "\n",
      "See the caveats in the documentation: https://pandas.pydata.org/pandas-docs/stable/user_guide/indexing.html#returning-a-view-versus-a-copy\n",
      "  data_old['distance_moyenne'] = np.mean(dist[:, 1:] * 6341, axis=1)\n",
      "C:\\Users\\arthu\\AppData\\Local\\Temp\\ipykernel_6124\\2918722754.py:49: SettingWithCopyWarning: \n",
      "A value is trying to be set on a copy of a slice from a DataFrame.\n",
      "Try using .loc[row_indexer,col_indexer] = value instead\n",
      "\n",
      "See the caveats in the documentation: https://pandas.pydata.org/pandas-docs/stable/user_guide/indexing.html#returning-a-view-versus-a-copy\n",
      "  data_old['Prix_moyen_du_quartier'] = prix_moyen_quartier['Prix_m']\n"
     ]
    },
    {
     "name": "stdout",
     "output_type": "stream",
     "text": [
      "Type: appart, Time taken: 44.24297380447388 seconds\n",
      "Type: maison, Time taken: 97.88275122642517 seconds\n"
     ]
    }
   ],
   "source": [
    "import time\n",
    "import pandas as pd\n",
    "import os\n",
    "import numpy as np\n",
    "from sklearn.neighbors import BallTree\n",
    "\n",
    "# Assurez-vous que vos données sont correctement chargées et préparées\n",
    "# appart_old, maison_old, doivent être définis et préparés avant ce point\n",
    "\n",
    "# Créez un répertoire pour sauvegarder les données combinées\n",
    "directory = \"data/france_entiere\"\n",
    "if not os.path.exists(directory):\n",
    "    os.makedirs(directory)\n",
    "\n",
    "# Fusionnez les trois types de biens dans un DataFrame unique\n",
    "all_properties = pd.concat([appart_old, maison_old])\n",
    "\n",
    "# Créez un modèle BallTree pour toute la France\n",
    "model_all = BallTree(all_properties[['latitude_r', 'longitude_r']].values, leaf_size=2, metric='haversine')\n",
    "\n",
    "# Initialiser une liste pour stocker les données de toutes les propriétés\n",
    "all_data = []\n",
    "\n",
    "# Itérez sur chaque type de bien\n",
    "for property_type, data_old in [('appart', appart_old), ('maison', maison_old)]:\n",
    "    start = time.time()\n",
    "\n",
    "    # Vérifiez si le DataFrame a au moins 10 lignes\n",
    "    k_nearest = min(10, len(data_old))\n",
    "\n",
    "    # Calculez la distance et les indices pour les k biens les plus proches\n",
    "    dist, indices = model_all.query(data_old[['latitude_r', 'longitude_r']].values, k=k_nearest)\n",
    "\n",
    "    # Calculez la distance moyenne (éviter l'indice 0 car c'est la propriété elle-même)\n",
    "    data_old['distance_moyenne'] = np.mean(dist[:, 1:] * 6341, axis=1)\n",
    "\n",
    "    # Initialisez le DataFrame pour le prix moyen du quartier\n",
    "    prix_moyen_quartier = pd.DataFrame({'Prix_m': np.zeros(len(data_old))})\n",
    "\n",
    "    # Boucle pour calculer le prix moyen\n",
    "    for i in range(1, k_nearest):\n",
    "        valid_indices = indices[:, i] < len(all_properties)\n",
    "        prix_valides = all_properties.iloc[indices[valid_indices, i]]['Prix_m']\n",
    "        prix_moyen_quartier.loc[valid_indices, 'Prix_m'] += prix_valides.values\n",
    "\n",
    "    # Gérer la division par zéro pour les cas où k_nearest est 1\n",
    "    diviseur = max(1, k_nearest - 1)\n",
    "    prix_moyen_quartier /= diviseur\n",
    "    data_old['Prix_moyen_du_quartier'] = prix_moyen_quartier['Prix_m']\n",
    "\n",
    "    stop = time.time()\n",
    "    print(f\"Type: {property_type}, Time taken: {stop - start} seconds\")\n",
    "\n",
    "    # Ajoutez les données traitées à la liste\n",
    "    all_data.append(data_old)\n",
    "\n",
    "# Concaténez toutes les dataframes dans la liste\n",
    "combined_data = pd.concat(all_data)\n",
    "\n",
    "# Sauvegardez les données combinées dans un seul fichier CSV\n",
    "combined_csv_filename = os.path.join(directory, \"combined_properties_france.csv\")\n",
    "combined_data.to_csv(combined_csv_filename, index=False, header=True)\n"
   ]
  },
  {
   "cell_type": "markdown",
   "metadata": {},
   "source": [
    "## graph ##"
   ]
  },
  {
   "cell_type": "code",
   "execution_count": 29,
   "metadata": {},
   "outputs": [],
   "source": [
    "all = pd.read_csv(\"data/france_entiere/combined_properties_france.csv\")\n"
   ]
  },
  {
   "cell_type": "code",
   "execution_count": 30,
   "metadata": {},
   "outputs": [
    {
     "name": "stdout",
     "output_type": "stream",
     "text": [
      "<class 'pandas.core.frame.DataFrame'>\n",
      "RangeIndex: 968774 entries, 0 to 968773\n",
      "Data columns (total 13 columns):\n",
      " #   Column                     Non-Null Count   Dtype  \n",
      "---  ------                     --------------   -----  \n",
      " 0   date_mutation              968774 non-null  object \n",
      " 1   nature_mutation            968774 non-null  object \n",
      " 2   valeur_fonciere            968774 non-null  float64\n",
      " 3   code_departement           968774 non-null  int64  \n",
      " 4   type_local                 968774 non-null  object \n",
      " 5   surface_reelle_bati        968774 non-null  float64\n",
      " 6   nombre_pieces_principales  968774 non-null  float64\n",
      " 7   surface_terrain            968774 non-null  float64\n",
      " 8   Prix_m                     968774 non-null  int64  \n",
      " 9   latitude_r                 968774 non-null  float64\n",
      " 10  longitude_r                968774 non-null  float64\n",
      " 11  distance_moyenne           968774 non-null  float64\n",
      " 12  Prix_moyen_du_quartier     968774 non-null  float64\n",
      "dtypes: float64(8), int64(2), object(3)\n",
      "memory usage: 96.1+ MB\n"
     ]
    }
   ],
   "source": [
    "all.info()"
   ]
  },
  {
   "cell_type": "code",
   "execution_count": 31,
   "metadata": {},
   "outputs": [
    {
     "data": {
      "text/plain": [
       "array([2163.22222222, 2666.55555556, 2570.44444444, ..., 5667.33333333,\n",
       "       6305.11111111, 6406.        ])"
      ]
     },
     "execution_count": 31,
     "metadata": {},
     "output_type": "execute_result"
    }
   ],
   "source": [
    "all['Prix_moyen_du_quartier'].unique()"
   ]
  },
  {
   "cell_type": "code",
   "execution_count": 32,
   "metadata": {},
   "outputs": [],
   "source": [
    "all = all.drop([\"date_mutation\", \"nature_mutation\", \"nombre_pieces_principales\", \"surface_terrain\"], axis=1)\n"
   ]
  },
  {
   "cell_type": "code",
   "execution_count": 33,
   "metadata": {},
   "outputs": [
    {
     "name": "stdout",
     "output_type": "stream",
     "text": [
      "<class 'pandas.core.frame.DataFrame'>\n",
      "RangeIndex: 968774 entries, 0 to 968773\n",
      "Data columns (total 9 columns):\n",
      " #   Column                  Non-Null Count   Dtype  \n",
      "---  ------                  --------------   -----  \n",
      " 0   valeur_fonciere         968774 non-null  float64\n",
      " 1   code_departement        968774 non-null  int64  \n",
      " 2   type_local              968774 non-null  object \n",
      " 3   surface_reelle_bati     968774 non-null  float64\n",
      " 4   Prix_m                  968774 non-null  int64  \n",
      " 5   latitude_r              968774 non-null  float64\n",
      " 6   longitude_r             968774 non-null  float64\n",
      " 7   distance_moyenne        968774 non-null  float64\n",
      " 8   Prix_moyen_du_quartier  968774 non-null  float64\n",
      "dtypes: float64(6), int64(2), object(1)\n",
      "memory usage: 66.5+ MB\n"
     ]
    }
   ],
   "source": [
    "all.info()"
   ]
  },
  {
   "cell_type": "code",
   "execution_count": 34,
   "metadata": {},
   "outputs": [],
   "source": [
    "from sklearn.preprocessing import OneHotEncoder\n",
    "a = OneHotEncoder(handle_unknown='ignore',sparse_output=False).set_output(transform='pandas')\n"
   ]
  },
  {
   "cell_type": "code",
   "execution_count": 35,
   "metadata": {},
   "outputs": [],
   "source": [
    "a_transform = a.fit_transform(all[[\"type_local\"]])"
   ]
  },
  {
   "cell_type": "code",
   "execution_count": 36,
   "metadata": {},
   "outputs": [
    {
     "name": "stdout",
     "output_type": "stream",
     "text": [
      "<class 'pandas.core.frame.DataFrame'>\n",
      "RangeIndex: 968774 entries, 0 to 968773\n",
      "Data columns (total 2 columns):\n",
      " #   Column                  Non-Null Count   Dtype  \n",
      "---  ------                  --------------   -----  \n",
      " 0   type_local_Appartement  968774 non-null  float64\n",
      " 1   type_local_Maison       968774 non-null  float64\n",
      "dtypes: float64(2)\n",
      "memory usage: 14.8 MB\n"
     ]
    }
   ],
   "source": [
    "a_transform.info()"
   ]
  },
  {
   "cell_type": "code",
   "execution_count": 37,
   "metadata": {},
   "outputs": [],
   "source": [
    "all = pd.concat([all,a_transform],axis=1).drop(columns=['type_local'])"
   ]
  },
  {
   "cell_type": "code",
   "execution_count": 38,
   "metadata": {},
   "outputs": [
    {
     "name": "stdout",
     "output_type": "stream",
     "text": [
      "<class 'pandas.core.frame.DataFrame'>\n",
      "RangeIndex: 968774 entries, 0 to 968773\n",
      "Data columns (total 10 columns):\n",
      " #   Column                  Non-Null Count   Dtype  \n",
      "---  ------                  --------------   -----  \n",
      " 0   valeur_fonciere         968774 non-null  float64\n",
      " 1   code_departement        968774 non-null  int64  \n",
      " 2   surface_reelle_bati     968774 non-null  float64\n",
      " 3   Prix_m                  968774 non-null  int64  \n",
      " 4   latitude_r              968774 non-null  float64\n",
      " 5   longitude_r             968774 non-null  float64\n",
      " 6   distance_moyenne        968774 non-null  float64\n",
      " 7   Prix_moyen_du_quartier  968774 non-null  float64\n",
      " 8   type_local_Appartement  968774 non-null  float64\n",
      " 9   type_local_Maison       968774 non-null  float64\n",
      "dtypes: float64(8), int64(2)\n",
      "memory usage: 73.9 MB\n"
     ]
    }
   ],
   "source": [
    "all.info()"
   ]
  },
  {
   "cell_type": "code",
   "execution_count": 39,
   "metadata": {},
   "outputs": [
    {
     "name": "stdout",
     "output_type": "stream",
     "text": [
      "Number of instances in X_train: 775019\n",
      "Number of instances in X_test: 193755\n",
      "Number of instances in y_train: 775019\n",
      "Number of instances in y_test: 193755\n"
     ]
    }
   ],
   "source": [
    "from sklearn.preprocessing import StandardScaler  # Import the necessary preprocessing function\n",
    "\n",
    "# Assuming 'all' is your DataFrame\n",
    "# Split the data into features (X) and target (y)\n",
    "y=all[\"Prix_m\"].values\n",
    "X=all.drop(columns=[\"valeur_fonciere\",\"Prix_m\"]).values\n",
    "\n",
    "# Apply preprocessing steps\n",
    "scaler = StandardScaler()  # Initialize a scaler (you can choose an appropriate scaler)\n",
    "X = scaler.fit_transform(X)  # Fit and transform X using the scaler\n",
    "\n",
    "# Split the data into training and testing sets\n",
    "from sklearn.model_selection import train_test_split\n",
    "X_train, X_test, y_train, y_test = train_test_split(X, y, test_size=0.2, random_state=42)\n",
    "print(\"Number of instances in X_train:\", len(X_train))\n",
    "print(\"Number of instances in X_test:\", len(X_test))\n",
    "print(\"Number of instances in y_train:\", len(y_train))\n",
    "print(\"Number of instances in y_test:\", len(y_test))\n"
   ]
  },
  {
   "cell_type": "code",
   "execution_count": 40,
   "metadata": {},
   "outputs": [
    {
     "data": {
      "text/html": [
       "<style>#sk-container-id-1 {color: black;}#sk-container-id-1 pre{padding: 0;}#sk-container-id-1 div.sk-toggleable {background-color: white;}#sk-container-id-1 label.sk-toggleable__label {cursor: pointer;display: block;width: 100%;margin-bottom: 0;padding: 0.3em;box-sizing: border-box;text-align: center;}#sk-container-id-1 label.sk-toggleable__label-arrow:before {content: \"▸\";float: left;margin-right: 0.25em;color: #696969;}#sk-container-id-1 label.sk-toggleable__label-arrow:hover:before {color: black;}#sk-container-id-1 div.sk-estimator:hover label.sk-toggleable__label-arrow:before {color: black;}#sk-container-id-1 div.sk-toggleable__content {max-height: 0;max-width: 0;overflow: hidden;text-align: left;background-color: #f0f8ff;}#sk-container-id-1 div.sk-toggleable__content pre {margin: 0.2em;color: black;border-radius: 0.25em;background-color: #f0f8ff;}#sk-container-id-1 input.sk-toggleable__control:checked~div.sk-toggleable__content {max-height: 200px;max-width: 100%;overflow: auto;}#sk-container-id-1 input.sk-toggleable__control:checked~label.sk-toggleable__label-arrow:before {content: \"▾\";}#sk-container-id-1 div.sk-estimator input.sk-toggleable__control:checked~label.sk-toggleable__label {background-color: #d4ebff;}#sk-container-id-1 div.sk-label input.sk-toggleable__control:checked~label.sk-toggleable__label {background-color: #d4ebff;}#sk-container-id-1 input.sk-hidden--visually {border: 0;clip: rect(1px 1px 1px 1px);clip: rect(1px, 1px, 1px, 1px);height: 1px;margin: -1px;overflow: hidden;padding: 0;position: absolute;width: 1px;}#sk-container-id-1 div.sk-estimator {font-family: monospace;background-color: #f0f8ff;border: 1px dotted black;border-radius: 0.25em;box-sizing: border-box;margin-bottom: 0.5em;}#sk-container-id-1 div.sk-estimator:hover {background-color: #d4ebff;}#sk-container-id-1 div.sk-parallel-item::after {content: \"\";width: 100%;border-bottom: 1px solid gray;flex-grow: 1;}#sk-container-id-1 div.sk-label:hover label.sk-toggleable__label {background-color: #d4ebff;}#sk-container-id-1 div.sk-serial::before {content: \"\";position: absolute;border-left: 1px solid gray;box-sizing: border-box;top: 0;bottom: 0;left: 50%;z-index: 0;}#sk-container-id-1 div.sk-serial {display: flex;flex-direction: column;align-items: center;background-color: white;padding-right: 0.2em;padding-left: 0.2em;position: relative;}#sk-container-id-1 div.sk-item {position: relative;z-index: 1;}#sk-container-id-1 div.sk-parallel {display: flex;align-items: stretch;justify-content: center;background-color: white;position: relative;}#sk-container-id-1 div.sk-item::before, #sk-container-id-1 div.sk-parallel-item::before {content: \"\";position: absolute;border-left: 1px solid gray;box-sizing: border-box;top: 0;bottom: 0;left: 50%;z-index: -1;}#sk-container-id-1 div.sk-parallel-item {display: flex;flex-direction: column;z-index: 1;position: relative;background-color: white;}#sk-container-id-1 div.sk-parallel-item:first-child::after {align-self: flex-end;width: 50%;}#sk-container-id-1 div.sk-parallel-item:last-child::after {align-self: flex-start;width: 50%;}#sk-container-id-1 div.sk-parallel-item:only-child::after {width: 0;}#sk-container-id-1 div.sk-dashed-wrapped {border: 1px dashed gray;margin: 0 0.4em 0.5em 0.4em;box-sizing: border-box;padding-bottom: 0.4em;background-color: white;}#sk-container-id-1 div.sk-label label {font-family: monospace;font-weight: bold;display: inline-block;line-height: 1.2em;}#sk-container-id-1 div.sk-label-container {text-align: center;}#sk-container-id-1 div.sk-container {/* jupyter's `normalize.less` sets `[hidden] { display: none; }` but bootstrap.min.css set `[hidden] { display: none !important; }` so we also need the `!important` here to be able to override the default hidden behavior on the sphinx rendered scikit-learn.org. See: https://github.com/scikit-learn/scikit-learn/issues/21755 */display: inline-block !important;position: relative;}#sk-container-id-1 div.sk-text-repr-fallback {display: none;}</style><div id=\"sk-container-id-1\" class=\"sk-top-container\"><div class=\"sk-text-repr-fallback\"><pre>RandomForestRegressor(min_samples_split=10, n_estimators=30)</pre><b>In a Jupyter environment, please rerun this cell to show the HTML representation or trust the notebook. <br />On GitHub, the HTML representation is unable to render, please try loading this page with nbviewer.org.</b></div><div class=\"sk-container\" hidden><div class=\"sk-item\"><div class=\"sk-estimator sk-toggleable\"><input class=\"sk-toggleable__control sk-hidden--visually\" id=\"sk-estimator-id-1\" type=\"checkbox\" checked><label for=\"sk-estimator-id-1\" class=\"sk-toggleable__label sk-toggleable__label-arrow\">RandomForestRegressor</label><div class=\"sk-toggleable__content\"><pre>RandomForestRegressor(min_samples_split=10, n_estimators=30)</pre></div></div></div></div></div>"
      ],
      "text/plain": [
       "RandomForestRegressor(min_samples_split=10, n_estimators=30)"
      ]
     },
     "execution_count": 40,
     "metadata": {},
     "output_type": "execute_result"
    }
   ],
   "source": [
    "from sklearn.ensemble import RandomForestRegressor\n",
    "# Initialize and train the RandomForestRegressor\n",
    "forest = RandomForestRegressor(n_estimators=30, min_samples_split=10)\n",
    "forest.fit(X_train, y_train)\n",
    "\n",
    "# Now you can use forest.predict(X_test) to make predictions on the test set\n"
   ]
  },
  {
   "cell_type": "markdown",
   "metadata": {},
   "source": [
    "## TEST ##"
   ]
  },
  {
   "cell_type": "code",
   "execution_count": 41,
   "metadata": {},
   "outputs": [
    {
     "name": "stdout",
     "output_type": "stream",
     "text": [
      "      code_departement  surface_reelle_bati  latitude_r  longitude_r  \\\n",
      "0                 80.0                 36.0    0.874448     0.031987   \n",
      "1                 17.0                 83.0    0.793605    -0.008017   \n",
      "2                 83.0                115.0    0.752369     0.103616   \n",
      "3                 77.0                 95.0    0.852675     0.048638   \n",
      "4                 63.0                112.0    0.793390     0.056540   \n",
      "...                ...                  ...         ...          ...   \n",
      "2318              83.0                 55.0    0.758643     0.114570   \n",
      "2319              47.0                115.0    0.775247    -0.000135   \n",
      "2320              35.0                108.0    0.839436    -0.031484   \n",
      "2321              95.0                 17.0    0.856086     0.036515   \n",
      "2322             974.0                 44.0   -0.371798     0.973907   \n",
      "\n",
      "      distance_moyenne  Prix_moyen_du_quartier  type_local_Appartement  \\\n",
      "0             0.124630             1802.111111                     0.0   \n",
      "1             0.626858             1777.444444                     0.0   \n",
      "2             0.050188             3664.444444                     1.0   \n",
      "3             0.054173             5073.888889                     1.0   \n",
      "4             0.251031             2200.888889                     0.0   \n",
      "...                ...                     ...                     ...   \n",
      "2318          0.300026             4150.555556                     0.0   \n",
      "2319          1.053993             2887.000000                     0.0   \n",
      "2320          0.179732             3099.888889                     0.0   \n",
      "2321          0.082921             4515.888889                     1.0   \n",
      "2322          2.043847             2076.333333                     0.0   \n",
      "\n",
      "      type_local_Maison       Actual    Predicted  Percentage Error  \n",
      "0                   1.0   903.000001  2981.137408        230.137033  \n",
      "1                   1.0   542.000001  1874.946091        245.931012  \n",
      "2                   0.0  1200.000001  3732.302267        211.025189  \n",
      "3                   0.0  1436.000001  4940.434471        244.041397  \n",
      "4                   1.0   516.000001  2309.104752        347.500920  \n",
      "...                 ...          ...          ...               ...  \n",
      "2318                1.0   545.000001  2755.377639        405.573878  \n",
      "2319                1.0   885.000001  2753.701937        211.152761  \n",
      "2320                1.0   634.000001  2822.548238        345.196882  \n",
      "2321                0.0  1047.000001  4993.595595        376.943227  \n",
      "2322                1.0   795.000001  2917.682495        267.004087  \n",
      "\n",
      "[2323 rows x 11 columns]\n"
     ]
    }
   ],
   "source": [
    "import numpy as np\n",
    "import pandas as pd\n",
    "\n",
    "# Assuming 'model', 'X_test', 'y_test', and 'scaler' are defined as before\n",
    "\n",
    "# Make predictions\n",
    "predictions = forest.predict(X_test)\n",
    "\n",
    "# Calculate percentage error for each prediction\n",
    "y_test_adjusted = y_test  +1e-6\n",
    "\n",
    "percentage_error = np.abs(predictions - y_test_adjusted) / y_test_adjusted * 100\n",
    "\n",
    "# Find indices where percentage error is greater than 200%\n",
    "high_error_indices = [i for i, error in enumerate(percentage_error) if error > 200]\n",
    "\n",
    "# Extracting the high-error instances (scaled)\n",
    "high_error_predictions_scaled = X_test[high_error_indices]\n",
    "\n",
    "# Inverting the scaling transformation\n",
    "high_error_predictions = scaler.inverse_transform(high_error_predictions_scaled)\n",
    "\n",
    "# Creating a DataFrame from the high-error predictions\n",
    "columns = all.drop(columns=[\"valeur_fonciere\", \"Prix_m\"]).columns\n",
    "high_error_df = pd.DataFrame(high_error_predictions, columns=columns)\n",
    "\n",
    "# Adding actual and predicted values and percentage error\n",
    "high_error_df['Actual'] = y_test_adjusted[high_error_indices]\n",
    "high_error_df['Predicted'] = predictions[high_error_indices]\n",
    "high_error_df['Percentage Error'] = percentage_error[high_error_indices]\n",
    "\n",
    "# Now you can analyze this DataFrame\n",
    "print(high_error_df)\n"
   ]
  },
  {
   "cell_type": "code",
   "execution_count": 42,
   "metadata": {},
   "outputs": [
    {
     "data": {
      "text/plain": [
       "'high_error_data.xlsx'"
      ]
     },
     "execution_count": 42,
     "metadata": {},
     "output_type": "execute_result"
    }
   ],
   "source": [
    "# Define the file path where you want to save the Excel file\n",
    "xlsx_file_path = 'high_error_data.xlsx'\n",
    "\n",
    "# Save the DataFrame to an Excel file\n",
    "high_error_df.to_excel(xlsx_file_path, index=False)\n",
    "\n",
    "# Print the file path for reference\n",
    "xlsx_file_path\n"
   ]
  },
  {
   "cell_type": "code",
   "execution_count": 43,
   "metadata": {},
   "outputs": [
    {
     "name": "stdout",
     "output_type": "stream",
     "text": [
      "<class 'pandas.core.frame.DataFrame'>\n",
      "RangeIndex: 2323 entries, 0 to 2322\n",
      "Data columns (total 11 columns):\n",
      " #   Column                  Non-Null Count  Dtype  \n",
      "---  ------                  --------------  -----  \n",
      " 0   code_departement        2323 non-null   float64\n",
      " 1   surface_reelle_bati     2323 non-null   float64\n",
      " 2   latitude_r              2323 non-null   float64\n",
      " 3   longitude_r             2323 non-null   float64\n",
      " 4   distance_moyenne        2323 non-null   float64\n",
      " 5   Prix_moyen_du_quartier  2323 non-null   float64\n",
      " 6   type_local_Appartement  2323 non-null   float64\n",
      " 7   type_local_Maison       2323 non-null   float64\n",
      " 8   Actual                  2323 non-null   float64\n",
      " 9   Predicted               2323 non-null   float64\n",
      " 10  Percentage Error        2323 non-null   float64\n",
      "dtypes: float64(11)\n",
      "memory usage: 199.8 KB\n"
     ]
    }
   ],
   "source": [
    "high_error_df.info()\n",
    "#854216"
   ]
  },
  {
   "cell_type": "markdown",
   "metadata": {},
   "source": [
    "## GRAPH + ANALYST ##"
   ]
  },
  {
   "cell_type": "code",
   "execution_count": 45,
   "metadata": {},
   "outputs": [
    {
     "data": {
      "image/png": "[encoded data removed]",
      "text/plain": [
       "<Figure size 1500x600 with 1 Axes>"
      ]
     },
     "metadata": {},
     "output_type": "display_data"
    }
   ],
   "source": [
    "# Assuming you have already trained your model 'forest' and have the test set 'X_test'\n",
    "y_pred = forest.predict(X_test)  # get the predictions for the test set\n",
    "\n",
    "import matplotlib.pyplot as plt\n",
    "import numpy as np\n",
    "\n",
    "# Assuming forest.predict(X_test) has been executed and y_pred contains the predictions\n",
    "# Let's create dummy data for y_pred as an example\n",
    "y_pred = np.random.normal(loc=y_test, scale=100, size=len(y_test))  # Dummy predictions\n",
    "y_test_adjusted = y_test  +1e-6\n",
    "\n",
    "# Calculate the percentage error\n",
    "percentage_error = np.abs(y_pred - y_test_adjusted) / y_test_adjusted * 100\n",
    "\n",
    "# Prepare data for plotting\n",
    "plot_data = {\n",
    "    \"Prix_m\": percentage_error,\n",
    "    \"Percentage_Error\": percentage_error\n",
    "}\n",
    "\n",
    "# Filtre pour limiter le pourcentage d'erreur entre 0% et 500%\n",
    "filtre = (percentage_error >= 0) & (percentage_error <= 100)\n",
    "percentage_error_filtre = percentage_error[filtre]\n",
    "\n",
    "# Tracer l'histogramme avec un bar pour chaque pourcentage\n",
    "plt.figure(figsize=(15, 6))  # Ajustez la taille pour mieux voir les détails\n",
    "plt.hist(percentage_error_filtre, bins=100, alpha=0.7)  # 500 bins pour 0% à 500%\n",
    "plt.title(\"Distribution du Pourcentage d'Erreur (1 barre par 1%)\")\n",
    "plt.xlabel(\"Pourcentage d'erreur (%)\")\n",
    "plt.ylabel(\"Nombre d'occurrences\")\n",
    "plt.xlim(-2, 100)  # Limiter l'axe des x à 0-500%\n",
    "plt.grid(True)\n",
    "plt.show()"
   ]
  },
  {
   "cell_type": "code",
   "execution_count": 46,
   "metadata": {},
   "outputs": [
    {
     "name": "stdout",
     "output_type": "stream",
     "text": [
      "Erreur moyenne en pourcentage (avec ajustement) : 3.865939653595114\n",
      "Erreur médiane en pourcentage (avec ajustement) : 2.5211401738146235\n"
     ]
    }
   ],
   "source": [
    "# Ajouter une petite constante à y_test pour éviter la division par zéro\n",
    "y_test_adjusted = y_test  +1e-6\n",
    "\n",
    "# Calculer le pourcentage d'erreur\n",
    "percentage_error_adjusted = np.abs(y_pred - y_test_adjusted) / y_test_adjusted * 100\n",
    "\n",
    "# Calcul de l'erreur moyenne et médiane\n",
    "mean_error_adjusted = np.mean(percentage_error_adjusted)\n",
    "median_error_adjusted = np.median(percentage_error_adjusted)\n",
    "\n",
    "print(\"Erreur moyenne en pourcentage (avec ajustement) :\", mean_error_adjusted)\n",
    "print(\"Erreur médiane en pourcentage (avec ajustement) :\", median_error_adjusted)"
   ]
  },
  {
   "cell_type": "code",
   "execution_count": 51,
   "metadata": {},
   "outputs": [
    {
     "name": "stdout",
     "output_type": "stream",
     "text": [
      "Mean Squared Error (MSE): 986500.2859008024\n",
      "Mean Absolute Error (MAE): 657.7973459154521\n",
      "R^2 Score: 0.7624714797469017\n"
     ]
    }
   ],
   "source": [
    "from sklearn.metrics import mean_squared_error, mean_absolute_error, r2_score\n",
    "\n",
    "# Prédire les valeurs sur l'ensemble de test\n",
    "y_pred = forest.predict(X_test)  # Assurez-vous que forest et X_test sont définis\n",
    "\n",
    "y_test_adjusted = y_test  +1e-6\n",
    "# Calculer les métriques\n",
    "mse = mean_squared_error(y_test, y_pred)\n",
    "mae = mean_absolute_error(y_test, y_pred)\n",
    "r2 = r2_score(y_test, y_pred)\n",
    "\n",
    "# Afficher les résultats\n",
    "print(\"Mean Squared Error (MSE):\", mse) # proche de \n",
    "print(\"Mean Absolute Error (MAE):\", mae)\n",
    "print(\"R^2 Score:\", r2)"
   ]
  },
  {
   "cell_type": "code",
   "execution_count": 48,
   "metadata": {},
   "outputs": [],
   "source": [
    "# Ajout d'une petite constante à y_test pour éviter la division par zéro\n",
    "y_test_adjusted = y_test + 1e-6\n",
    "\n",
    "# Calcul du pourcentage d'erreur\n",
    "percentage_error = np.abs(y_pred - y_test_adjusted) / y_test_adjusted * 100\n",
    "\n",
    "# Trouver les indices où le pourcentage d'erreur est supérieur à 200%\n",
    "indices_error_above_200 = np.where(percentage_error > 200)[0]\n",
    "\n",
    "# Sélectionner les X_test correspondant à ces indices\n",
    "X_test_error_above_200 = X_test[indices_error_above_200]\n",
    "\n",
    "X_test_error_above_200_df = pd.DataFrame(X_test_error_above_200)\n"
   ]
  }
 ],
 "metadata": {
  "kernelspec": {
   "display_name": "Python 3",
   "language": "python",
   "name": "python3"
  },
  "language_info": {
   "codemirror_mode": {
    "name": "ipython",
    "version": 3
   },
   "file_extension": ".py",
   "mimetype": "text/x-python",
   "name": "python",
   "nbconvert_exporter": "python",
   "pygments_lexer": "ipython3",
   "version": "3.11.5"
  }
 },
 "nbformat": 4,
 "nbformat_minor": 2
}
