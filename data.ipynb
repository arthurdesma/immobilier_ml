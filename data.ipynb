{
 "cells": [
  {
   "cell_type": "code",
   "execution_count": 1,
   "metadata": {},
   "outputs": [],
   "source": [
    "import pandas as pd\n",
    "import numpy as np\n",
    "import matplotlib.pyplot as plt\n",
    "import seaborn as sns"
   ]
  },
  {
   "cell_type": "code",
   "execution_count": 2,
   "metadata": {},
   "outputs": [],
   "source": [
    "dtype_dict = {\n",
    "    'id_mutation': 'str',\n",
    "    'date_mutation': 'str',\n",
    "    'numero_disposition': 'str',\n",
    "    'nature_mutation': 'str',\n",
    "    'valeur_fonciere': 'float64',\n",
    "    'adresse_numero': 'float64',\n",
    "    'adresse_suffixe': 'str',\n",
    "    'adresse_nom_voie': 'str',\n",
    "    'adresse_code_voie': 'str',\n",
    "    'code_postal': 'str',\n",
    "    'code_commune': 'str',\n",
    "    'nom_commune': 'str',\n",
    "    'code_departement': 'str',\n",
    "    'ancien_code_commune': 'str',\n",
    "    'ancien_nom_commune': 'str',\n",
    "    'id_parcelle': 'str',\n",
    "    'ancien_id_parcelle': 'str',\n",
    "    'numero_volume': 'str',\n",
    "    'lot1_numero': 'str',\n",
    "    'lot1_surface_carrez': 'float64',\n",
    "    'lot2_numero': 'str',\n",
    "    'lot2_surface_carrez': 'float64',\n",
    "    'lot3_numero': 'str',\n",
    "    'lot3_surface_carrez': 'float64',\n",
    "    'lot4_numero': 'str',\n",
    "    'lot4_surface_carrez': 'float64',\n",
    "    'lot5_numero': 'str',\n",
    "    'lot5_surface_carrez': 'float64',\n",
    "    'nombre_lots': 'int32',\n",
    "    'code_type_local': 'str',\n",
    "    'type_local': 'str',\n",
    "    'surface_reelle_bati': 'float64',\n",
    "    'nombre_pieces_principales': 'float64',\n",
    "    'code_nature_culture': 'str',\n",
    "    'nature_culture': 'str',\n",
    "    'code_nature_culture_speciale': 'str',\n",
    "    'nature_culture_speciale': 'str',\n",
    "    'surface_terrain': 'float64',\n",
    "    'longitude': 'float64',\n",
    "    'latitude': 'float64'\n",
    "}"
   ]
  },
  {
   "cell_type": "code",
   "execution_count": 3,
   "metadata": {},
   "outputs": [],
   "source": [
    "data = pd.read_csv(\"data/full_2022.csv\",dtype=dtype_dict)\n",
    "data = data.dropna(subset=['longitude', 'latitude'])\n",
    "data = data.drop_duplicates()"
   ]
  },
  {
   "cell_type": "code",
   "execution_count": 4,
   "metadata": {},
   "outputs": [
    {
     "data": {
      "text/html": [
       "<div>\n",
       "<style scoped>\n",
       "    .dataframe tbody tr th:only-of-type {\n",
       "        vertical-align: middle;\n",
       "    }\n",
       "\n",
       "    .dataframe tbody tr th {\n",
       "        vertical-align: top;\n",
       "    }\n",
       "\n",
       "    .dataframe thead th {\n",
       "        text-align: right;\n",
       "    }\n",
       "</style>\n",
       "<table border=\"1\" class=\"dataframe\">\n",
       "  <thead>\n",
       "    <tr style=\"text-align: right;\">\n",
       "      <th></th>\n",
       "      <th>codgeo</th>\n",
       "      <th>libgeo</th>\n",
       "      <th>an</th>\n",
       "      <th>p_pop</th>\n",
       "    </tr>\n",
       "  </thead>\n",
       "  <tbody>\n",
       "    <tr>\n",
       "      <th>0</th>\n",
       "      <td>01001</td>\n",
       "      <td>L'Abergement-Clémenciat</td>\n",
       "      <td>2020</td>\n",
       "      <td>806.0</td>\n",
       "    </tr>\n",
       "    <tr>\n",
       "      <th>1</th>\n",
       "      <td>01002</td>\n",
       "      <td>L'Abergement-de-Varey</td>\n",
       "      <td>2020</td>\n",
       "      <td>262.0</td>\n",
       "    </tr>\n",
       "    <tr>\n",
       "      <th>2</th>\n",
       "      <td>01004</td>\n",
       "      <td>Ambérieu-en-Bugey</td>\n",
       "      <td>2020</td>\n",
       "      <td>14288.0</td>\n",
       "    </tr>\n",
       "    <tr>\n",
       "      <th>3</th>\n",
       "      <td>01005</td>\n",
       "      <td>Ambérieux-en-Dombes</td>\n",
       "      <td>2020</td>\n",
       "      <td>1782.0</td>\n",
       "    </tr>\n",
       "    <tr>\n",
       "      <th>4</th>\n",
       "      <td>01006</td>\n",
       "      <td>Ambléon</td>\n",
       "      <td>2020</td>\n",
       "      <td>113.0</td>\n",
       "    </tr>\n",
       "    <tr>\n",
       "      <th>...</th>\n",
       "      <td>...</td>\n",
       "      <td>...</td>\n",
       "      <td>...</td>\n",
       "      <td>...</td>\n",
       "    </tr>\n",
       "    <tr>\n",
       "      <th>34940</th>\n",
       "      <td>97613</td>\n",
       "      <td>M'Tsangamouji</td>\n",
       "      <td>2020</td>\n",
       "      <td>NaN</td>\n",
       "    </tr>\n",
       "    <tr>\n",
       "      <th>34941</th>\n",
       "      <td>97614</td>\n",
       "      <td>Ouangani</td>\n",
       "      <td>2020</td>\n",
       "      <td>NaN</td>\n",
       "    </tr>\n",
       "    <tr>\n",
       "      <th>34942</th>\n",
       "      <td>97615</td>\n",
       "      <td>Pamandzi</td>\n",
       "      <td>2020</td>\n",
       "      <td>NaN</td>\n",
       "    </tr>\n",
       "    <tr>\n",
       "      <th>34943</th>\n",
       "      <td>97616</td>\n",
       "      <td>Sada</td>\n",
       "      <td>2020</td>\n",
       "      <td>NaN</td>\n",
       "    </tr>\n",
       "    <tr>\n",
       "      <th>34944</th>\n",
       "      <td>97617</td>\n",
       "      <td>Tsingoni</td>\n",
       "      <td>2020</td>\n",
       "      <td>NaN</td>\n",
       "    </tr>\n",
       "  </tbody>\n",
       "</table>\n",
       "<p>34945 rows × 4 columns</p>\n",
       "</div>"
      ],
      "text/plain": [
       "      codgeo                   libgeo    an    p_pop\n",
       "0      01001  L'Abergement-Clémenciat  2020    806.0\n",
       "1      01002    L'Abergement-de-Varey  2020    262.0\n",
       "2      01004        Ambérieu-en-Bugey  2020  14288.0\n",
       "3      01005      Ambérieux-en-Dombes  2020   1782.0\n",
       "4      01006                  Ambléon  2020    113.0\n",
       "...      ...                      ...   ...      ...\n",
       "34940  97613            M'Tsangamouji  2020      NaN\n",
       "34941  97614                 Ouangani  2020      NaN\n",
       "34942  97615                 Pamandzi  2020      NaN\n",
       "34943  97616                     Sada  2020      NaN\n",
       "34944  97617                 Tsingoni  2020      NaN\n",
       "\n",
       "[34945 rows x 4 columns]"
      ]
     },
     "execution_count": 4,
     "metadata": {},
     "output_type": "execute_result"
    }
   ],
   "source": [
    "code = pd.read_excel('data\\insee_rp_hist_1968.xlsx')\n",
    "code"
   ]
  },
  {
   "cell_type": "code",
   "execution_count": 5,
   "metadata": {},
   "outputs": [
    {
     "data": {
      "text/plain": [
       "array(['Vente', 'Echange', \"Vente en l'état futur d'achèvement\",\n",
       "       'Vente terrain à bâtir', 'Adjudication', 'Expropriation'],\n",
       "      dtype=object)"
      ]
     },
     "execution_count": 5,
     "metadata": {},
     "output_type": "execute_result"
    }
   ],
   "source": [
    "data[\"nature_mutation\"].unique()"
   ]
  },
  {
   "cell_type": "code",
   "execution_count": 6,
   "metadata": {},
   "outputs": [],
   "source": [
    "sampled_data = data\n",
    "sampled_data = sampled_data[sampled_data[\"nature_mutation\"].isin([\"Vente\",\"Vente en l'état futur d'achèvement\"])]\n",
    "sampled_data = sampled_data[(sampled_data[\"nombre_lots\"] == 0) | (sampled_data[\"nombre_lots\"] == 1)]\n",
    "sampled_data = sampled_data[(sampled_data['surface_reelle_bati'].notna()) & (sampled_data['surface_reelle_bati'] != 0)]\n",
    "sampled_data = sampled_data[(sampled_data['valeur_fonciere'].notna()) & (sampled_data['valeur_fonciere'] != 0)]\n",
    "sampled_data['code_departement'] = sampled_data['code_departement'].replace(['2A', '2B'], '02')\n"
   ]
  },
  {
   "cell_type": "code",
   "execution_count": 7,
   "metadata": {},
   "outputs": [],
   "source": [
    "sampled_data = sampled_data.dropna(subset=['valeur_fonciere'])\n",
    "columns_to_drop = [\"lot1_numero\", \"lot2_numero\", \"lot3_numero\", \"lot4_numero\", \"lot5_numero\",\"ancien_code_commune\",\n",
    "                   \"ancien_nom_commune\",\"adresse_numero\",\"adresse_suffixe\",\"id_parcelle\",\"ancien_id_parcelle\",\"code_type_local\",\n",
    "                   \"numero_volume\",\"code_nature_culture_speciale\",\"nature_culture_speciale\",\"code_nature_culture\",\n",
    "                   \"code_nature_culture\",\"numero_disposition\",\"id_mutation\",\"lot2_surface_carrez\",\"lot3_surface_carrez\",\"lot4_surface_carrez\",\n",
    "                   \"lot5_surface_carrez\",\"adresse_nom_voie\",\"adresse_code_voie\",\"nom_commune\",\"nombre_lots\",\n",
    "                   \"lot1_surface_carrez\",\"nature_culture\",\"code_postal\"]\n",
    "    #\"code_commune\"\n",
    "sampled_data = sampled_data.drop(columns=columns_to_drop)"
   ]
  },
  {
   "cell_type": "code",
   "execution_count": 8,
   "metadata": {},
   "outputs": [
    {
     "name": "stdout",
     "output_type": "stream",
     "text": [
      "<class 'pandas.core.frame.DataFrame'>\n",
      "Index: 397574 entries, 2 to 1532713\n",
      "Data columns (total 11 columns):\n",
      " #   Column                     Non-Null Count   Dtype  \n",
      "---  ------                     --------------   -----  \n",
      " 0   date_mutation              397574 non-null  object \n",
      " 1   nature_mutation            397574 non-null  object \n",
      " 2   valeur_fonciere            397574 non-null  float64\n",
      " 3   code_commune               397574 non-null  object \n",
      " 4   code_departement           397574 non-null  object \n",
      " 5   type_local                 397574 non-null  object \n",
      " 6   surface_reelle_bati        397574 non-null  float64\n",
      " 7   nombre_pieces_principales  397574 non-null  float64\n",
      " 8   surface_terrain            279034 non-null  float64\n",
      " 9   longitude                  397574 non-null  float64\n",
      " 10  latitude                   397574 non-null  float64\n",
      "dtypes: float64(6), object(5)\n",
      "memory usage: 36.4+ MB\n"
     ]
    }
   ],
   "source": [
    "sampled_data.info()"
   ]
  },
  {
   "cell_type": "code",
   "execution_count": 9,
   "metadata": {},
   "outputs": [],
   "source": [
    "sampled_data['latitude'] = sampled_data['latitude'].astype(float)\n",
    "sampled_data['longitude'] = sampled_data['longitude'].astype(float)\n",
    "\n",
    "\n",
    "sampled_data[\"surface_terrain\"] = sampled_data[\"surface_terrain\"].fillna(0)\n",
    "\n",
    "sampled_data[\"valeur_fonciere\"] = sampled_data[\"valeur_fonciere\"].astype(str).apply(lambda x: x.replace(\",\", \".\")).astype(float)\n",
    "\n",
    "sampled_data[\"Prix_m\"] = sampled_data[\"valeur_fonciere\"] / sampled_data[\"surface_reelle_bati\"]\n",
    "sampled_data[\"Prix_m\"] = sampled_data[\"Prix_m\"].apply(lambda x: round(x))\n",
    "\n",
    "sampled_data['latitude_r'] = np.deg2rad(sampled_data['latitude'])\n",
    "sampled_data['longitude_r'] = np.deg2rad(sampled_data['longitude'])\n",
    "sampled_data=sampled_data[sampled_data.latitude.notna()]\n",
    "sampled_data=sampled_data[sampled_data.code_departement.notna()]\n",
    "\n",
    "sampled_data=sampled_data.sort_values(by = ['latitude','longitude'])\n",
    "sampled_data=sampled_data.drop(columns=['latitude','longitude'])\n",
    "sampled_data=sampled_data.reset_index(drop=True)\n"
   ]
  },
  {
   "cell_type": "code",
   "execution_count": 10,
   "metadata": {},
   "outputs": [
    {
     "name": "stdout",
     "output_type": "stream",
     "text": [
      "<class 'pandas.core.frame.DataFrame'>\n",
      "RangeIndex: 397574 entries, 0 to 397573\n",
      "Data columns (total 12 columns):\n",
      " #   Column                     Non-Null Count   Dtype  \n",
      "---  ------                     --------------   -----  \n",
      " 0   date_mutation              397574 non-null  object \n",
      " 1   nature_mutation            397574 non-null  object \n",
      " 2   valeur_fonciere            397574 non-null  float64\n",
      " 3   code_commune               397574 non-null  object \n",
      " 4   code_departement           397574 non-null  object \n",
      " 5   type_local                 397574 non-null  object \n",
      " 6   surface_reelle_bati        397574 non-null  float64\n",
      " 7   nombre_pieces_principales  397574 non-null  float64\n",
      " 8   surface_terrain            397574 non-null  float64\n",
      " 9   Prix_m                     397574 non-null  int64  \n",
      " 10  latitude_r                 397574 non-null  float64\n",
      " 11  longitude_r                397574 non-null  float64\n",
      "dtypes: float64(6), int64(1), object(5)\n",
      "memory usage: 36.4+ MB\n"
     ]
    }
   ],
   "source": [
    "sampled_data.info()"
   ]
  },
  {
   "cell_type": "code",
   "execution_count": 11,
   "metadata": {},
   "outputs": [],
   "source": [
    "sampled_data = sampled_data[sampled_data['Prix_m'] <= 75000]"
   ]
  },
  {
   "cell_type": "code",
   "execution_count": 12,
   "metadata": {},
   "outputs": [],
   "source": [
    "def filter_outliers(df):\n",
    "    grouped = df.groupby('code_commune')\n",
    "\n",
    "    def filter_group(group):\n",
    "        Q1 = group['Prix_m'].quantile(0.25)\n",
    "        Q3 = group['Prix_m'].quantile(0.75)\n",
    "        IQR = Q3 - Q1\n",
    "        return group[(group['Prix_m'] >= (Q1 - 1.5 * IQR)) & (group['Prix_m'] <= (Q3 + 1.5 * IQR))]\n",
    "\n",
    "    return grouped.apply(filter_group).reset_index(drop=True)\n",
    "\n",
    "sampled_data = filter_outliers(sampled_data)\n"
   ]
  },
  {
   "cell_type": "code",
   "execution_count": 13,
   "metadata": {},
   "outputs": [
    {
     "name": "stdout",
     "output_type": "stream",
     "text": [
      "<class 'pandas.core.frame.DataFrame'>\n",
      "RangeIndex: 355637 entries, 0 to 355636\n",
      "Data columns (total 12 columns):\n",
      " #   Column                     Non-Null Count   Dtype  \n",
      "---  ------                     --------------   -----  \n",
      " 0   date_mutation              355637 non-null  object \n",
      " 1   nature_mutation            355637 non-null  object \n",
      " 2   valeur_fonciere            355637 non-null  float64\n",
      " 3   code_commune               355637 non-null  object \n",
      " 4   code_departement           355637 non-null  object \n",
      " 5   type_local                 355637 non-null  object \n",
      " 6   surface_reelle_bati        355637 non-null  float64\n",
      " 7   nombre_pieces_principales  355637 non-null  float64\n",
      " 8   surface_terrain            355637 non-null  float64\n",
      " 9   Prix_m                     355637 non-null  int64  \n",
      " 10  latitude_r                 355637 non-null  float64\n",
      " 11  longitude_r                355637 non-null  float64\n",
      "dtypes: float64(6), int64(1), object(5)\n",
      "memory usage: 32.6+ MB\n"
     ]
    }
   ],
   "source": [
    "sampled_data.info()"
   ]
  },
  {
   "cell_type": "code",
   "execution_count": 14,
   "metadata": {},
   "outputs": [
    {
     "name": "stdout",
     "output_type": "stream",
     "text": [
      "<class 'pandas.core.frame.DataFrame'>\n",
      "RangeIndex: 355637 entries, 0 to 355636\n",
      "Data columns (total 14 columns):\n",
      " #   Column                     Non-Null Count   Dtype  \n",
      "---  ------                     --------------   -----  \n",
      " 0   date_mutation              355637 non-null  object \n",
      " 1   nature_mutation            355637 non-null  object \n",
      " 2   valeur_fonciere            355637 non-null  float64\n",
      " 3   code_commune               355637 non-null  object \n",
      " 4   code_departement           355637 non-null  object \n",
      " 5   type_local                 355637 non-null  object \n",
      " 6   surface_reelle_bati        355637 non-null  float64\n",
      " 7   nombre_pieces_principales  355637 non-null  float64\n",
      " 8   surface_terrain            355637 non-null  float64\n",
      " 9   Prix_m                     355637 non-null  int64  \n",
      " 10  latitude_r                 355637 non-null  float64\n",
      " 11  longitude_r                355637 non-null  float64\n",
      " 12  codgeo                     342977 non-null  object \n",
      " 13  p_pop                      342977 non-null  float64\n",
      "dtypes: float64(7), int64(1), object(6)\n",
      "memory usage: 38.0+ MB\n"
     ]
    }
   ],
   "source": [
    "import pandas as pd\n",
    "\n",
    "# Merge the DataFrames\n",
    "sampled_data = pd.merge(sampled_data, code[['codgeo', 'p_pop']], left_on='code_commune', right_on='codgeo', how='left')\n",
    "\n",
    "# 'merged_data' now has the 'p_pop' column from 'code' DataFrame added to it.\n",
    "\n",
    "sampled_data.info()"
   ]
  },
  {
   "cell_type": "code",
   "execution_count": 15,
   "metadata": {},
   "outputs": [
    {
     "data": {
      "text/html": [
       "<div>\n",
       "<style scoped>\n",
       "    .dataframe tbody tr th:only-of-type {\n",
       "        vertical-align: middle;\n",
       "    }\n",
       "\n",
       "    .dataframe tbody tr th {\n",
       "        vertical-align: top;\n",
       "    }\n",
       "\n",
       "    .dataframe thead th {\n",
       "        text-align: right;\n",
       "    }\n",
       "</style>\n",
       "<table border=\"1\" class=\"dataframe\">\n",
       "  <thead>\n",
       "    <tr style=\"text-align: right;\">\n",
       "      <th>nature_mutation</th>\n",
       "      <th>Vente</th>\n",
       "      <th>Vente en l'état futur d'achèvement</th>\n",
       "    </tr>\n",
       "    <tr>\n",
       "      <th>type_local</th>\n",
       "      <th></th>\n",
       "      <th></th>\n",
       "    </tr>\n",
       "  </thead>\n",
       "  <tbody>\n",
       "    <tr>\n",
       "      <th>Appartement</th>\n",
       "      <td>105752.0</td>\n",
       "      <td>544.0</td>\n",
       "    </tr>\n",
       "    <tr>\n",
       "      <th>Dépendance</th>\n",
       "      <td>1.0</td>\n",
       "      <td>NaN</td>\n",
       "    </tr>\n",
       "    <tr>\n",
       "      <th>Local industriel. commercial ou assimilé</th>\n",
       "      <td>26299.0</td>\n",
       "      <td>126.0</td>\n",
       "    </tr>\n",
       "    <tr>\n",
       "      <th>Maison</th>\n",
       "      <td>222830.0</td>\n",
       "      <td>85.0</td>\n",
       "    </tr>\n",
       "  </tbody>\n",
       "</table>\n",
       "</div>"
      ],
      "text/plain": [
       "nature_mutation                              Vente  \\\n",
       "type_local                                           \n",
       "Appartement                               105752.0   \n",
       "Dépendance                                     1.0   \n",
       "Local industriel. commercial ou assimilé   26299.0   \n",
       "Maison                                    222830.0   \n",
       "\n",
       "nature_mutation                           Vente en l'état futur d'achèvement  \n",
       "type_local                                                                    \n",
       "Appartement                                                            544.0  \n",
       "Dépendance                                                               NaN  \n",
       "Local industriel. commercial ou assimilé                               126.0  \n",
       "Maison                                                                  85.0  "
      ]
     },
     "execution_count": 15,
     "metadata": {},
     "output_type": "execute_result"
    }
   ],
   "source": [
    "sampled_data.pivot_table(values='valeur_fonciere', index='type_local', columns='nature_mutation', aggfunc='size')"
   ]
  },
  {
   "cell_type": "code",
   "execution_count": 16,
   "metadata": {},
   "outputs": [],
   "source": [
    "appart_old=sampled_data[(sampled_data['type_local']=='Appartement') & (sampled_data['nature_mutation']=='Vente') & (sampled_data['Prix_m']>100) & (sampled_data['valeur_fonciere']>20000)]\n",
    "appart_old.reset_index(drop=True,inplace=True)\n",
    "maison_old=sampled_data[(sampled_data['type_local']=='Maison') & (sampled_data['nature_mutation']=='Vente')]\n",
    "maison_old=maison_old[(maison_old['valeur_fonciere']>20000)&(maison_old['Prix_m']>500)&(maison_old['surface_reelle_bati']>9)]\n",
    "maison_old.reset_index(drop=True,inplace=True)\n",
    "#local_old =sampled_data[(sampled_data['type_local']=='Local industriel. commercial ou assimilé') & (sampled_data['nature_mutation']=='Vente')]\n",
    "#local_old.reset_index(drop=True,inplace=True)\n",
    "appart_new=sampled_data[(sampled_data['type_local']=='Appartement') & (sampled_data['nature_mutation']=='Vente en l\\'état futur d\\'achèvement')]\n",
    "appart_new.reset_index(drop=True,inplace=True)"
   ]
  },
  {
   "cell_type": "code",
   "execution_count": 17,
   "metadata": {},
   "outputs": [
    {
     "name": "stdout",
     "output_type": "stream",
     "text": [
      "<class 'pandas.core.frame.DataFrame'>\n",
      "RangeIndex: 104490 entries, 0 to 104489\n",
      "Data columns (total 14 columns):\n",
      " #   Column                     Non-Null Count   Dtype  \n",
      "---  ------                     --------------   -----  \n",
      " 0   date_mutation              104490 non-null  object \n",
      " 1   nature_mutation            104490 non-null  object \n",
      " 2   valeur_fonciere            104490 non-null  float64\n",
      " 3   code_commune               104490 non-null  object \n",
      " 4   code_departement           104490 non-null  object \n",
      " 5   type_local                 104490 non-null  object \n",
      " 6   surface_reelle_bati        104490 non-null  float64\n",
      " 7   nombre_pieces_principales  104490 non-null  float64\n",
      " 8   surface_terrain            104490 non-null  float64\n",
      " 9   Prix_m                     104490 non-null  int64  \n",
      " 10  latitude_r                 104490 non-null  float64\n",
      " 11  longitude_r                104490 non-null  float64\n",
      " 12  codgeo                     93712 non-null   object \n",
      " 13  p_pop                      93712 non-null   float64\n",
      "dtypes: float64(7), int64(1), object(6)\n",
      "memory usage: 11.2+ MB\n"
     ]
    }
   ],
   "source": [
    "appart_old.info()"
   ]
  },
  {
   "cell_type": "markdown",
   "metadata": {},
   "source": [
    "## ALL ##"
   ]
  },
  {
   "cell_type": "code",
   "execution_count": 18,
   "metadata": {},
   "outputs": [],
   "source": [
    "from sklearn.neighbors import BallTree\n",
    "import os\n",
    "import pickle\n",
    "\n",
    "def save_obj(obj, name):\n",
    "    directory = \"data/\"\n",
    "    if not os.path.exists(directory):\n",
    "        os.makedirs(directory)\n",
    "\n",
    "    with open(os.path.join(directory, name + '.pkl'), 'wb') as f:\n",
    "        pickle.dump(obj, f, pickle.HIGHEST_PROTOCOL)\n",
    "\n",
    "models = {}\n",
    "\n",
    "all_properties = pd.concat([appart_old, maison_old,appart_new])\n",
    "\n",
    "all_properties['distance_moyenne'] = np.zeros(len(all_properties))\n",
    "all_properties['indices_voisins'] = np.zeros(len(all_properties))\n",
    "\n",
    "model_all = BallTree(all_properties[['latitude_r', 'longitude_r']].values, leaf_size=2, metric='haversine')\n",
    "models['france_entiere'] = model_all\n",
    "\n",
    "save_obj(models['france_entiere'], 'france_entiere')\n"
   ]
  },
  {
   "cell_type": "code",
   "execution_count": 19,
   "metadata": {},
   "outputs": [
    {
     "name": "stdout",
     "output_type": "stream",
     "text": [
      "<class 'pandas.core.frame.DataFrame'>\n",
      "Index: 319565 entries, 0 to 543\n",
      "Data columns (total 16 columns):\n",
      " #   Column                     Non-Null Count   Dtype  \n",
      "---  ------                     --------------   -----  \n",
      " 0   date_mutation              319565 non-null  object \n",
      " 1   nature_mutation            319565 non-null  object \n",
      " 2   valeur_fonciere            319565 non-null  float64\n",
      " 3   code_commune               319565 non-null  object \n",
      " 4   code_departement           319565 non-null  object \n",
      " 5   type_local                 319565 non-null  object \n",
      " 6   surface_reelle_bati        319565 non-null  float64\n",
      " 7   nombre_pieces_principales  319565 non-null  float64\n",
      " 8   surface_terrain            319565 non-null  float64\n",
      " 9   Prix_m                     319565 non-null  int64  \n",
      " 10  latitude_r                 319565 non-null  float64\n",
      " 11  longitude_r                319565 non-null  float64\n",
      " 12  codgeo                     308229 non-null  object \n",
      " 13  p_pop                      308229 non-null  float64\n",
      " 14  distance_moyenne           319565 non-null  float64\n",
      " 15  indices_voisins            319565 non-null  float64\n",
      "dtypes: float64(9), int64(1), object(6)\n",
      "memory usage: 41.4+ MB\n"
     ]
    }
   ],
   "source": [
    "all_properties.info()"
   ]
  },
  {
   "cell_type": "code",
   "execution_count": 20,
   "metadata": {},
   "outputs": [
    {
     "name": "stderr",
     "output_type": "stream",
     "text": [
      "C:\\Users\\arthu\\AppData\\Local\\Temp\\ipykernel_17456\\3066773894.py:23: SettingWithCopyWarning: \n",
      "A value is trying to be set on a copy of a slice from a DataFrame.\n",
      "Try using .loc[row_indexer,col_indexer] = value instead\n",
      "\n",
      "See the caveats in the documentation: https://pandas.pydata.org/pandas-docs/stable/user_guide/indexing.html#returning-a-view-versus-a-copy\n",
      "  data_old['distance_moyenne'] = np.mean(dist[:, 1:] * 6341, axis=1)\n",
      "C:\\Users\\arthu\\AppData\\Local\\Temp\\ipykernel_17456\\3066773894.py:34: SettingWithCopyWarning: \n",
      "A value is trying to be set on a copy of a slice from a DataFrame.\n",
      "Try using .loc[row_indexer,col_indexer] = value instead\n",
      "\n",
      "See the caveats in the documentation: https://pandas.pydata.org/pandas-docs/stable/user_guide/indexing.html#returning-a-view-versus-a-copy\n",
      "  data_old['Prix_moyen_du_quartier'] = prix_moyen_quartier['Prix_m']\n"
     ]
    },
    {
     "name": "stdout",
     "output_type": "stream",
     "text": [
      "Type: appart, Time taken: 12.655314683914185 seconds\n",
      "Type: maison, Time taken: 23.477031230926514 seconds\n"
     ]
    }
   ],
   "source": [
    "import time\n",
    "import pandas as pd\n",
    "import os\n",
    "import numpy as np\n",
    "from sklearn.neighbors import BallTree\n",
    "directory = \"data/france_entiere\"\n",
    "if not os.path.exists(directory):\n",
    "    os.makedirs(directory)\n",
    "\n",
    "all_properties = pd.concat([appart_old, maison_old])\n",
    "\n",
    "model_all = BallTree(all_properties[['latitude_r', 'longitude_r']].values, leaf_size=2, metric='haversine')\n",
    "\n",
    "all_data = []\n",
    "\n",
    "for property_type, data_old in [('appart', appart_old), ('maison', maison_old)]:\n",
    "    start = time.time()\n",
    "\n",
    "    k_nearest = min(10, len(data_old))\n",
    "\n",
    "    dist, indices = model_all.query(data_old[['latitude_r', 'longitude_r']].values, k=k_nearest)\n",
    "\n",
    "    data_old['distance_moyenne'] = np.mean(dist[:, 1:] * 6341, axis=1)\n",
    "\n",
    "    prix_moyen_quartier = pd.DataFrame({'Prix_m': np.zeros(len(data_old))})\n",
    "\n",
    "    for i in range(1, k_nearest):\n",
    "        valid_indices = indices[:, i] < len(all_properties)\n",
    "        prix_valides = all_properties.iloc[indices[valid_indices, i]]['Prix_m']\n",
    "        prix_moyen_quartier.loc[valid_indices, 'Prix_m'] += prix_valides.values\n",
    "\n",
    "    diviseur = max(1, k_nearest - 1)\n",
    "    prix_moyen_quartier /= diviseur\n",
    "    data_old['Prix_moyen_du_quartier'] = prix_moyen_quartier['Prix_m']\n",
    "\n",
    "    stop = time.time()\n",
    "    print(f\"Type: {property_type}, Time taken: {stop - start} seconds\")\n",
    "\n",
    "    all_data.append(data_old)\n",
    "\n",
    "combined_data = pd.concat(all_data)\n",
    "\n",
    "combined_csv_filename = os.path.join(directory, \"combined_properties_france.csv\")\n",
    "combined_data.to_csv(combined_csv_filename, index=False, header=True)"
   ]
  },
  {
   "cell_type": "code",
   "execution_count": 21,
   "metadata": {},
   "outputs": [
    {
     "name": "stdout",
     "output_type": "stream",
     "text": [
      "BallTree model saved to data\\balltree_model_all.pkl\n"
     ]
    }
   ],
   "source": [
    "import pickle \n",
    "directory = \"data\"\n",
    "if not os.path.exists(directory):\n",
    "    os.makedirs(directory)\n",
    "\n",
    "# Save the BallTree model using pickle\n",
    "model_filename = os.path.join(directory, \"balltree_model_all.pkl\")\n",
    "with open(model_filename, 'wb') as file:\n",
    "    pickle.dump(model_all, file)\n",
    "\n",
    "print(f\"BallTree model saved to {model_filename}\")\n"
   ]
  },
  {
   "cell_type": "markdown",
   "metadata": {},
   "source": [
    "## graph (start here) ##"
   ]
  },
  {
   "cell_type": "code",
   "execution_count": 22,
   "metadata": {},
   "outputs": [
    {
     "name": "stderr",
     "output_type": "stream",
     "text": [
      "C:\\Users\\arthu\\AppData\\Local\\Temp\\ipykernel_17456\\400155825.py:1: DtypeWarning: Columns (3,12) have mixed types. Specify dtype option on import or set low_memory=False.\n",
      "  all = pd.read_csv(\"data/france_entiere/combined_properties_france.csv\")\n"
     ]
    }
   ],
   "source": [
    "all = pd.read_csv(\"data/france_entiere/combined_properties_france.csv\")"
   ]
  },
  {
   "cell_type": "code",
   "execution_count": 23,
   "metadata": {},
   "outputs": [
    {
     "name": "stdout",
     "output_type": "stream",
     "text": [
      "       code_commune  number_of_sales\n",
      "0             01004               20\n",
      "1             01004               20\n",
      "2             01004               20\n",
      "3             01004               20\n",
      "4             01004               20\n",
      "...             ...              ...\n",
      "319016        97424               13\n",
      "319017        97424               13\n",
      "319018        97424               13\n",
      "319019        97424               13\n",
      "319020        97424               13\n",
      "\n",
      "[319021 rows x 2 columns]\n"
     ]
    }
   ],
   "source": [
    "# Group by 'code_commune' and count the number of sales\n",
    "commune_sales_count = all.groupby('code_commune').size()\n",
    "\n",
    "# Map the count back to the original DataFrame\n",
    "all['number_of_sales'] = all['code_commune'].map(commune_sales_count)\n",
    "\n",
    "# This line is optional, to show the updated DataFrame\n",
    "print(all[['code_commune', 'number_of_sales']])\n"
   ]
  },
  {
   "cell_type": "code",
   "execution_count": 24,
   "metadata": {},
   "outputs": [
    {
     "data": {
      "text/html": [
       "<div>\n",
       "<style scoped>\n",
       "    .dataframe tbody tr th:only-of-type {\n",
       "        vertical-align: middle;\n",
       "    }\n",
       "\n",
       "    .dataframe tbody tr th {\n",
       "        vertical-align: top;\n",
       "    }\n",
       "\n",
       "    .dataframe thead th {\n",
       "        text-align: right;\n",
       "    }\n",
       "</style>\n",
       "<table border=\"1\" class=\"dataframe\">\n",
       "  <thead>\n",
       "    <tr style=\"text-align: right;\">\n",
       "      <th></th>\n",
       "      <th>date_mutation</th>\n",
       "      <th>nature_mutation</th>\n",
       "      <th>valeur_fonciere</th>\n",
       "      <th>code_commune</th>\n",
       "      <th>code_departement</th>\n",
       "      <th>type_local</th>\n",
       "      <th>surface_reelle_bati</th>\n",
       "      <th>nombre_pieces_principales</th>\n",
       "      <th>surface_terrain</th>\n",
       "      <th>Prix_m</th>\n",
       "      <th>latitude_r</th>\n",
       "      <th>longitude_r</th>\n",
       "      <th>codgeo</th>\n",
       "      <th>p_pop</th>\n",
       "      <th>distance_moyenne</th>\n",
       "      <th>Prix_moyen_du_quartier</th>\n",
       "      <th>number_of_sales</th>\n",
       "    </tr>\n",
       "  </thead>\n",
       "  <tbody>\n",
       "    <tr>\n",
       "      <th>33253</th>\n",
       "      <td>2023-01-17</td>\n",
       "      <td>Vente</td>\n",
       "      <td>49426.0</td>\n",
       "      <td>33529</td>\n",
       "      <td>33</td>\n",
       "      <td>Appartement</td>\n",
       "      <td>21.0</td>\n",
       "      <td>2.0</td>\n",
       "      <td>0.0</td>\n",
       "      <td>2354</td>\n",
       "      <td>0.778592</td>\n",
       "      <td>-0.019518</td>\n",
       "      <td>33529.0</td>\n",
       "      <td>26269.0</td>\n",
       "      <td>0.109295</td>\n",
       "      <td>2865.000000</td>\n",
       "      <td>237</td>\n",
       "    </tr>\n",
       "    <tr>\n",
       "      <th>33254</th>\n",
       "      <td>2023-03-20</td>\n",
       "      <td>Vente</td>\n",
       "      <td>47400.0</td>\n",
       "      <td>33529</td>\n",
       "      <td>33</td>\n",
       "      <td>Appartement</td>\n",
       "      <td>17.0</td>\n",
       "      <td>2.0</td>\n",
       "      <td>0.0</td>\n",
       "      <td>2788</td>\n",
       "      <td>0.778592</td>\n",
       "      <td>-0.019518</td>\n",
       "      <td>33529.0</td>\n",
       "      <td>26269.0</td>\n",
       "      <td>0.109295</td>\n",
       "      <td>2865.000000</td>\n",
       "      <td>237</td>\n",
       "    </tr>\n",
       "    <tr>\n",
       "      <th>33255</th>\n",
       "      <td>2023-04-11</td>\n",
       "      <td>Vente</td>\n",
       "      <td>82204.0</td>\n",
       "      <td>33529</td>\n",
       "      <td>33</td>\n",
       "      <td>Appartement</td>\n",
       "      <td>37.0</td>\n",
       "      <td>2.0</td>\n",
       "      <td>0.0</td>\n",
       "      <td>2222</td>\n",
       "      <td>0.778592</td>\n",
       "      <td>-0.019518</td>\n",
       "      <td>33529.0</td>\n",
       "      <td>26269.0</td>\n",
       "      <td>0.109295</td>\n",
       "      <td>2865.000000</td>\n",
       "      <td>237</td>\n",
       "    </tr>\n",
       "    <tr>\n",
       "      <th>33256</th>\n",
       "      <td>2023-04-13</td>\n",
       "      <td>Vente</td>\n",
       "      <td>75000.0</td>\n",
       "      <td>33529</td>\n",
       "      <td>33</td>\n",
       "      <td>Appartement</td>\n",
       "      <td>38.0</td>\n",
       "      <td>2.0</td>\n",
       "      <td>0.0</td>\n",
       "      <td>1974</td>\n",
       "      <td>0.778592</td>\n",
       "      <td>-0.019518</td>\n",
       "      <td>33529.0</td>\n",
       "      <td>26269.0</td>\n",
       "      <td>0.109295</td>\n",
       "      <td>2865.000000</td>\n",
       "      <td>237</td>\n",
       "    </tr>\n",
       "    <tr>\n",
       "      <th>33257</th>\n",
       "      <td>2023-05-23</td>\n",
       "      <td>Vente</td>\n",
       "      <td>75926.0</td>\n",
       "      <td>33529</td>\n",
       "      <td>33</td>\n",
       "      <td>Appartement</td>\n",
       "      <td>38.0</td>\n",
       "      <td>2.0</td>\n",
       "      <td>0.0</td>\n",
       "      <td>1998</td>\n",
       "      <td>0.778592</td>\n",
       "      <td>-0.019518</td>\n",
       "      <td>33529.0</td>\n",
       "      <td>26269.0</td>\n",
       "      <td>0.109295</td>\n",
       "      <td>2865.000000</td>\n",
       "      <td>237</td>\n",
       "    </tr>\n",
       "    <tr>\n",
       "      <th>...</th>\n",
       "      <td>...</td>\n",
       "      <td>...</td>\n",
       "      <td>...</td>\n",
       "      <td>...</td>\n",
       "      <td>...</td>\n",
       "      <td>...</td>\n",
       "      <td>...</td>\n",
       "      <td>...</td>\n",
       "      <td>...</td>\n",
       "      <td>...</td>\n",
       "      <td>...</td>\n",
       "      <td>...</td>\n",
       "      <td>...</td>\n",
       "      <td>...</td>\n",
       "      <td>...</td>\n",
       "      <td>...</td>\n",
       "      <td>...</td>\n",
       "    </tr>\n",
       "    <tr>\n",
       "      <th>171972</th>\n",
       "      <td>2023-04-07</td>\n",
       "      <td>Vente</td>\n",
       "      <td>1140000.0</td>\n",
       "      <td>33529</td>\n",
       "      <td>33</td>\n",
       "      <td>Maison</td>\n",
       "      <td>169.0</td>\n",
       "      <td>6.0</td>\n",
       "      <td>706.0</td>\n",
       "      <td>6746</td>\n",
       "      <td>0.779173</td>\n",
       "      <td>-0.019941</td>\n",
       "      <td>33529</td>\n",
       "      <td>26269.0</td>\n",
       "      <td>0.173056</td>\n",
       "      <td>7754.111111</td>\n",
       "      <td>237</td>\n",
       "    </tr>\n",
       "    <tr>\n",
       "      <th>171973</th>\n",
       "      <td>2023-02-17</td>\n",
       "      <td>Vente</td>\n",
       "      <td>1578200.0</td>\n",
       "      <td>33529</td>\n",
       "      <td>33</td>\n",
       "      <td>Maison</td>\n",
       "      <td>230.0</td>\n",
       "      <td>6.0</td>\n",
       "      <td>263.0</td>\n",
       "      <td>6862</td>\n",
       "      <td>0.779186</td>\n",
       "      <td>-0.019973</td>\n",
       "      <td>33529</td>\n",
       "      <td>26269.0</td>\n",
       "      <td>0.212603</td>\n",
       "      <td>7741.222222</td>\n",
       "      <td>237</td>\n",
       "    </tr>\n",
       "    <tr>\n",
       "      <th>171974</th>\n",
       "      <td>2023-06-28</td>\n",
       "      <td>Vente</td>\n",
       "      <td>1180000.0</td>\n",
       "      <td>33529</td>\n",
       "      <td>33</td>\n",
       "      <td>Maison</td>\n",
       "      <td>142.0</td>\n",
       "      <td>4.0</td>\n",
       "      <td>477.0</td>\n",
       "      <td>8310</td>\n",
       "      <td>0.779189</td>\n",
       "      <td>-0.019956</td>\n",
       "      <td>33529</td>\n",
       "      <td>26269.0</td>\n",
       "      <td>0.209794</td>\n",
       "      <td>7580.333333</td>\n",
       "      <td>237</td>\n",
       "    </tr>\n",
       "    <tr>\n",
       "      <th>171975</th>\n",
       "      <td>2023-02-24</td>\n",
       "      <td>Vente</td>\n",
       "      <td>1500000.0</td>\n",
       "      <td>33529</td>\n",
       "      <td>33</td>\n",
       "      <td>Maison</td>\n",
       "      <td>190.0</td>\n",
       "      <td>6.0</td>\n",
       "      <td>1289.0</td>\n",
       "      <td>7895</td>\n",
       "      <td>0.779205</td>\n",
       "      <td>-0.019990</td>\n",
       "      <td>33529</td>\n",
       "      <td>26269.0</td>\n",
       "      <td>0.332473</td>\n",
       "      <td>7626.444444</td>\n",
       "      <td>237</td>\n",
       "    </tr>\n",
       "    <tr>\n",
       "      <th>171976</th>\n",
       "      <td>2023-03-01</td>\n",
       "      <td>Vente</td>\n",
       "      <td>320000.0</td>\n",
       "      <td>33529</td>\n",
       "      <td>33</td>\n",
       "      <td>Maison</td>\n",
       "      <td>98.0</td>\n",
       "      <td>4.0</td>\n",
       "      <td>280.0</td>\n",
       "      <td>3265</td>\n",
       "      <td>0.779277</td>\n",
       "      <td>-0.020141</td>\n",
       "      <td>33529</td>\n",
       "      <td>26269.0</td>\n",
       "      <td>0.415620</td>\n",
       "      <td>5893.000000</td>\n",
       "      <td>237</td>\n",
       "    </tr>\n",
       "  </tbody>\n",
       "</table>\n",
       "<p>237 rows × 17 columns</p>\n",
       "</div>"
      ],
      "text/plain": [
       "       date_mutation nature_mutation  valeur_fonciere code_commune  \\\n",
       "33253     2023-01-17           Vente          49426.0        33529   \n",
       "33254     2023-03-20           Vente          47400.0        33529   \n",
       "33255     2023-04-11           Vente          82204.0        33529   \n",
       "33256     2023-04-13           Vente          75000.0        33529   \n",
       "33257     2023-05-23           Vente          75926.0        33529   \n",
       "...              ...             ...              ...          ...   \n",
       "171972    2023-04-07           Vente        1140000.0        33529   \n",
       "171973    2023-02-17           Vente        1578200.0        33529   \n",
       "171974    2023-06-28           Vente        1180000.0        33529   \n",
       "171975    2023-02-24           Vente        1500000.0        33529   \n",
       "171976    2023-03-01           Vente         320000.0        33529   \n",
       "\n",
       "        code_departement   type_local  surface_reelle_bati  \\\n",
       "33253                 33  Appartement                 21.0   \n",
       "33254                 33  Appartement                 17.0   \n",
       "33255                 33  Appartement                 37.0   \n",
       "33256                 33  Appartement                 38.0   \n",
       "33257                 33  Appartement                 38.0   \n",
       "...                  ...          ...                  ...   \n",
       "171972                33       Maison                169.0   \n",
       "171973                33       Maison                230.0   \n",
       "171974                33       Maison                142.0   \n",
       "171975                33       Maison                190.0   \n",
       "171976                33       Maison                 98.0   \n",
       "\n",
       "        nombre_pieces_principales  surface_terrain  Prix_m  latitude_r  \\\n",
       "33253                         2.0              0.0    2354    0.778592   \n",
       "33254                         2.0              0.0    2788    0.778592   \n",
       "33255                         2.0              0.0    2222    0.778592   \n",
       "33256                         2.0              0.0    1974    0.778592   \n",
       "33257                         2.0              0.0    1998    0.778592   \n",
       "...                           ...              ...     ...         ...   \n",
       "171972                        6.0            706.0    6746    0.779173   \n",
       "171973                        6.0            263.0    6862    0.779186   \n",
       "171974                        4.0            477.0    8310    0.779189   \n",
       "171975                        6.0           1289.0    7895    0.779205   \n",
       "171976                        4.0            280.0    3265    0.779277   \n",
       "\n",
       "        longitude_r   codgeo    p_pop  distance_moyenne  \\\n",
       "33253     -0.019518  33529.0  26269.0          0.109295   \n",
       "33254     -0.019518  33529.0  26269.0          0.109295   \n",
       "33255     -0.019518  33529.0  26269.0          0.109295   \n",
       "33256     -0.019518  33529.0  26269.0          0.109295   \n",
       "33257     -0.019518  33529.0  26269.0          0.109295   \n",
       "...             ...      ...      ...               ...   \n",
       "171972    -0.019941    33529  26269.0          0.173056   \n",
       "171973    -0.019973    33529  26269.0          0.212603   \n",
       "171974    -0.019956    33529  26269.0          0.209794   \n",
       "171975    -0.019990    33529  26269.0          0.332473   \n",
       "171976    -0.020141    33529  26269.0          0.415620   \n",
       "\n",
       "        Prix_moyen_du_quartier  number_of_sales  \n",
       "33253              2865.000000              237  \n",
       "33254              2865.000000              237  \n",
       "33255              2865.000000              237  \n",
       "33256              2865.000000              237  \n",
       "33257              2865.000000              237  \n",
       "...                        ...              ...  \n",
       "171972             7754.111111              237  \n",
       "171973             7741.222222              237  \n",
       "171974             7580.333333              237  \n",
       "171975             7626.444444              237  \n",
       "171976             5893.000000              237  \n",
       "\n",
       "[237 rows x 17 columns]"
      ]
     },
     "execution_count": 24,
     "metadata": {},
     "output_type": "execute_result"
    }
   ],
   "source": [
    "all[all['code_commune'] == 33529]\n",
    "\n"
   ]
  },
  {
   "cell_type": "code",
   "execution_count": 25,
   "metadata": {},
   "outputs": [
    {
     "data": {
      "text/html": [
       "<div>\n",
       "<style scoped>\n",
       "    .dataframe tbody tr th:only-of-type {\n",
       "        vertical-align: middle;\n",
       "    }\n",
       "\n",
       "    .dataframe tbody tr th {\n",
       "        vertical-align: top;\n",
       "    }\n",
       "\n",
       "    .dataframe thead th {\n",
       "        text-align: right;\n",
       "    }\n",
       "</style>\n",
       "<table border=\"1\" class=\"dataframe\">\n",
       "  <thead>\n",
       "    <tr style=\"text-align: right;\">\n",
       "      <th></th>\n",
       "      <th>date_mutation</th>\n",
       "      <th>nature_mutation</th>\n",
       "      <th>valeur_fonciere</th>\n",
       "      <th>code_commune</th>\n",
       "      <th>code_departement</th>\n",
       "      <th>type_local</th>\n",
       "      <th>surface_reelle_bati</th>\n",
       "      <th>nombre_pieces_principales</th>\n",
       "      <th>surface_terrain</th>\n",
       "      <th>Prix_m</th>\n",
       "      <th>latitude_r</th>\n",
       "      <th>longitude_r</th>\n",
       "      <th>codgeo</th>\n",
       "      <th>p_pop</th>\n",
       "      <th>distance_moyenne</th>\n",
       "      <th>Prix_moyen_du_quartier</th>\n",
       "      <th>number_of_sales</th>\n",
       "    </tr>\n",
       "  </thead>\n",
       "  <tbody>\n",
       "    <tr>\n",
       "      <th>0</th>\n",
       "      <td>2023-02-13</td>\n",
       "      <td>Vente</td>\n",
       "      <td>135000.0</td>\n",
       "      <td>01004</td>\n",
       "      <td>1</td>\n",
       "      <td>Appartement</td>\n",
       "      <td>52.0</td>\n",
       "      <td>1.0</td>\n",
       "      <td>0.0</td>\n",
       "      <td>2596</td>\n",
       "      <td>0.801986</td>\n",
       "      <td>0.093576</td>\n",
       "      <td>01004</td>\n",
       "      <td>14288.0</td>\n",
       "      <td>0.330807</td>\n",
       "      <td>2868.666667</td>\n",
       "      <td>20</td>\n",
       "    </tr>\n",
       "    <tr>\n",
       "      <th>1</th>\n",
       "      <td>2023-03-29</td>\n",
       "      <td>Vente</td>\n",
       "      <td>170000.0</td>\n",
       "      <td>01004</td>\n",
       "      <td>1</td>\n",
       "      <td>Appartement</td>\n",
       "      <td>72.0</td>\n",
       "      <td>3.0</td>\n",
       "      <td>0.0</td>\n",
       "      <td>2361</td>\n",
       "      <td>0.801986</td>\n",
       "      <td>0.093576</td>\n",
       "      <td>01004</td>\n",
       "      <td>14288.0</td>\n",
       "      <td>0.330807</td>\n",
       "      <td>2868.666667</td>\n",
       "      <td>20</td>\n",
       "    </tr>\n",
       "    <tr>\n",
       "      <th>2</th>\n",
       "      <td>2023-04-11</td>\n",
       "      <td>Vente</td>\n",
       "      <td>179000.0</td>\n",
       "      <td>01004</td>\n",
       "      <td>1</td>\n",
       "      <td>Appartement</td>\n",
       "      <td>70.0</td>\n",
       "      <td>3.0</td>\n",
       "      <td>0.0</td>\n",
       "      <td>2557</td>\n",
       "      <td>0.801986</td>\n",
       "      <td>0.093576</td>\n",
       "      <td>01004</td>\n",
       "      <td>14288.0</td>\n",
       "      <td>0.330807</td>\n",
       "      <td>2868.666667</td>\n",
       "      <td>20</td>\n",
       "    </tr>\n",
       "    <tr>\n",
       "      <th>3</th>\n",
       "      <td>2023-04-14</td>\n",
       "      <td>Vente</td>\n",
       "      <td>132000.0</td>\n",
       "      <td>01004</td>\n",
       "      <td>1</td>\n",
       "      <td>Appartement</td>\n",
       "      <td>52.0</td>\n",
       "      <td>2.0</td>\n",
       "      <td>0.0</td>\n",
       "      <td>2538</td>\n",
       "      <td>0.801986</td>\n",
       "      <td>0.093576</td>\n",
       "      <td>01004</td>\n",
       "      <td>14288.0</td>\n",
       "      <td>0.330807</td>\n",
       "      <td>2868.666667</td>\n",
       "      <td>20</td>\n",
       "    </tr>\n",
       "    <tr>\n",
       "      <th>4</th>\n",
       "      <td>2023-03-30</td>\n",
       "      <td>Vente</td>\n",
       "      <td>121050.0</td>\n",
       "      <td>01004</td>\n",
       "      <td>1</td>\n",
       "      <td>Appartement</td>\n",
       "      <td>57.0</td>\n",
       "      <td>2.0</td>\n",
       "      <td>807.0</td>\n",
       "      <td>2124</td>\n",
       "      <td>0.802058</td>\n",
       "      <td>0.093275</td>\n",
       "      <td>01004</td>\n",
       "      <td>14288.0</td>\n",
       "      <td>0.247855</td>\n",
       "      <td>2309.666667</td>\n",
       "      <td>20</td>\n",
       "    </tr>\n",
       "  </tbody>\n",
       "</table>\n",
       "</div>"
      ],
      "text/plain": [
       "  date_mutation nature_mutation  valeur_fonciere code_commune  \\\n",
       "0    2023-02-13           Vente         135000.0        01004   \n",
       "1    2023-03-29           Vente         170000.0        01004   \n",
       "2    2023-04-11           Vente         179000.0        01004   \n",
       "3    2023-04-14           Vente         132000.0        01004   \n",
       "4    2023-03-30           Vente         121050.0        01004   \n",
       "\n",
       "   code_departement   type_local  surface_reelle_bati  \\\n",
       "0                 1  Appartement                 52.0   \n",
       "1                 1  Appartement                 72.0   \n",
       "2                 1  Appartement                 70.0   \n",
       "3                 1  Appartement                 52.0   \n",
       "4                 1  Appartement                 57.0   \n",
       "\n",
       "   nombre_pieces_principales  surface_terrain  Prix_m  latitude_r  \\\n",
       "0                        1.0              0.0    2596    0.801986   \n",
       "1                        3.0              0.0    2361    0.801986   \n",
       "2                        3.0              0.0    2557    0.801986   \n",
       "3                        2.0              0.0    2538    0.801986   \n",
       "4                        2.0            807.0    2124    0.802058   \n",
       "\n",
       "   longitude_r codgeo    p_pop  distance_moyenne  Prix_moyen_du_quartier  \\\n",
       "0     0.093576  01004  14288.0          0.330807             2868.666667   \n",
       "1     0.093576  01004  14288.0          0.330807             2868.666667   \n",
       "2     0.093576  01004  14288.0          0.330807             2868.666667   \n",
       "3     0.093576  01004  14288.0          0.330807             2868.666667   \n",
       "4     0.093275  01004  14288.0          0.247855             2309.666667   \n",
       "\n",
       "   number_of_sales  \n",
       "0               20  \n",
       "1               20  \n",
       "2               20  \n",
       "3               20  \n",
       "4               20  "
      ]
     },
     "execution_count": 25,
     "metadata": {},
     "output_type": "execute_result"
    }
   ],
   "source": [
    "all.head()"
   ]
  },
  {
   "cell_type": "code",
   "execution_count": 26,
   "metadata": {},
   "outputs": [],
   "source": [
    "all = all.drop(columns=['code_commune'])\n",
    "all = all.drop(columns=['codgeo'])"
   ]
  },
  {
   "cell_type": "code",
   "execution_count": 27,
   "metadata": {},
   "outputs": [
    {
     "name": "stdout",
     "output_type": "stream",
     "text": [
      "<class 'pandas.core.frame.DataFrame'>\n",
      "RangeIndex: 319021 entries, 0 to 319020\n",
      "Data columns (total 15 columns):\n",
      " #   Column                     Non-Null Count   Dtype  \n",
      "---  ------                     --------------   -----  \n",
      " 0   date_mutation              319021 non-null  object \n",
      " 1   nature_mutation            319021 non-null  object \n",
      " 2   valeur_fonciere            319021 non-null  float64\n",
      " 3   code_departement           319021 non-null  int64  \n",
      " 4   type_local                 319021 non-null  object \n",
      " 5   surface_reelle_bati        319021 non-null  float64\n",
      " 6   nombre_pieces_principales  319021 non-null  float64\n",
      " 7   surface_terrain            319021 non-null  float64\n",
      " 8   Prix_m                     319021 non-null  int64  \n",
      " 9   latitude_r                 319021 non-null  float64\n",
      " 10  longitude_r                319021 non-null  float64\n",
      " 11  p_pop                      307701 non-null  float64\n",
      " 12  distance_moyenne           319021 non-null  float64\n",
      " 13  Prix_moyen_du_quartier     319021 non-null  float64\n",
      " 14  number_of_sales            319021 non-null  int64  \n",
      "dtypes: float64(9), int64(3), object(3)\n",
      "memory usage: 36.5+ MB\n"
     ]
    }
   ],
   "source": [
    "all.info()"
   ]
  },
  {
   "cell_type": "code",
   "execution_count": 28,
   "metadata": {},
   "outputs": [
    {
     "data": {
      "text/plain": [
       "array([2868.66666667, 2309.66666667, 2506.11111111, ..., 4657.44444444,\n",
       "       7760.33333333, 6689.33333333])"
      ]
     },
     "execution_count": 28,
     "metadata": {},
     "output_type": "execute_result"
    }
   ],
   "source": [
    "all['Prix_moyen_du_quartier'].unique()"
   ]
  },
  {
   "cell_type": "code",
   "execution_count": 29,
   "metadata": {},
   "outputs": [],
   "source": [
    "all = all.drop([\"date_mutation\", \"nature_mutation\"], axis=1)"
   ]
  },
  {
   "cell_type": "code",
   "execution_count": 30,
   "metadata": {},
   "outputs": [
    {
     "name": "stdout",
     "output_type": "stream",
     "text": [
      "<class 'pandas.core.frame.DataFrame'>\n",
      "RangeIndex: 319021 entries, 0 to 319020\n",
      "Data columns (total 13 columns):\n",
      " #   Column                     Non-Null Count   Dtype  \n",
      "---  ------                     --------------   -----  \n",
      " 0   valeur_fonciere            319021 non-null  float64\n",
      " 1   code_departement           319021 non-null  int64  \n",
      " 2   type_local                 319021 non-null  object \n",
      " 3   surface_reelle_bati        319021 non-null  float64\n",
      " 4   nombre_pieces_principales  319021 non-null  float64\n",
      " 5   surface_terrain            319021 non-null  float64\n",
      " 6   Prix_m                     319021 non-null  int64  \n",
      " 7   latitude_r                 319021 non-null  float64\n",
      " 8   longitude_r                319021 non-null  float64\n",
      " 9   p_pop                      307701 non-null  float64\n",
      " 10  distance_moyenne           319021 non-null  float64\n",
      " 11  Prix_moyen_du_quartier     319021 non-null  float64\n",
      " 12  number_of_sales            319021 non-null  int64  \n",
      "dtypes: float64(9), int64(3), object(1)\n",
      "memory usage: 31.6+ MB\n"
     ]
    }
   ],
   "source": [
    "all.info()"
   ]
  },
  {
   "cell_type": "code",
   "execution_count": 31,
   "metadata": {},
   "outputs": [],
   "source": [
    "from sklearn.preprocessing import OneHotEncoder\n",
    "a = OneHotEncoder(handle_unknown='ignore',sparse_output=False).set_output(transform='pandas')\n"
   ]
  },
  {
   "cell_type": "code",
   "execution_count": 32,
   "metadata": {},
   "outputs": [],
   "source": [
    "a_transform = a.fit_transform(all[[\"type_local\"]])"
   ]
  },
  {
   "cell_type": "code",
   "execution_count": 33,
   "metadata": {},
   "outputs": [
    {
     "name": "stdout",
     "output_type": "stream",
     "text": [
      "<class 'pandas.core.frame.DataFrame'>\n",
      "RangeIndex: 319021 entries, 0 to 319020\n",
      "Data columns (total 2 columns):\n",
      " #   Column                  Non-Null Count   Dtype  \n",
      "---  ------                  --------------   -----  \n",
      " 0   type_local_Appartement  319021 non-null  float64\n",
      " 1   type_local_Maison       319021 non-null  float64\n",
      "dtypes: float64(2)\n",
      "memory usage: 4.9 MB\n"
     ]
    }
   ],
   "source": [
    "a_transform.info()"
   ]
  },
  {
   "cell_type": "code",
   "execution_count": 34,
   "metadata": {},
   "outputs": [],
   "source": [
    "all = pd.concat([all,a_transform],axis=1).drop(columns=['type_local'])"
   ]
  },
  {
   "cell_type": "code",
   "execution_count": 35,
   "metadata": {},
   "outputs": [
    {
     "name": "stdout",
     "output_type": "stream",
     "text": [
      "<class 'pandas.core.frame.DataFrame'>\n",
      "RangeIndex: 319021 entries, 0 to 319020\n",
      "Data columns (total 14 columns):\n",
      " #   Column                     Non-Null Count   Dtype  \n",
      "---  ------                     --------------   -----  \n",
      " 0   valeur_fonciere            319021 non-null  float64\n",
      " 1   code_departement           319021 non-null  int64  \n",
      " 2   surface_reelle_bati        319021 non-null  float64\n",
      " 3   nombre_pieces_principales  319021 non-null  float64\n",
      " 4   surface_terrain            319021 non-null  float64\n",
      " 5   Prix_m                     319021 non-null  int64  \n",
      " 6   latitude_r                 319021 non-null  float64\n",
      " 7   longitude_r                319021 non-null  float64\n",
      " 8   p_pop                      307701 non-null  float64\n",
      " 9   distance_moyenne           319021 non-null  float64\n",
      " 10  Prix_moyen_du_quartier     319021 non-null  float64\n",
      " 11  number_of_sales            319021 non-null  int64  \n",
      " 12  type_local_Appartement     319021 non-null  float64\n",
      " 13  type_local_Maison          319021 non-null  float64\n",
      "dtypes: float64(11), int64(3)\n",
      "memory usage: 34.1 MB\n"
     ]
    }
   ],
   "source": [
    "all.info()"
   ]
  },
  {
   "cell_type": "code",
   "execution_count": 36,
   "metadata": {},
   "outputs": [],
   "source": [
    "all = all.dropna()"
   ]
  },
  {
   "cell_type": "code",
   "execution_count": 37,
   "metadata": {},
   "outputs": [
    {
     "name": "stdout",
     "output_type": "stream",
     "text": [
      "<class 'pandas.core.frame.DataFrame'>\n",
      "Index: 307701 entries, 0 to 319020\n",
      "Data columns (total 14 columns):\n",
      " #   Column                     Non-Null Count   Dtype  \n",
      "---  ------                     --------------   -----  \n",
      " 0   valeur_fonciere            307701 non-null  float64\n",
      " 1   code_departement           307701 non-null  int64  \n",
      " 2   surface_reelle_bati        307701 non-null  float64\n",
      " 3   nombre_pieces_principales  307701 non-null  float64\n",
      " 4   surface_terrain            307701 non-null  float64\n",
      " 5   Prix_m                     307701 non-null  int64  \n",
      " 6   latitude_r                 307701 non-null  float64\n",
      " 7   longitude_r                307701 non-null  float64\n",
      " 8   p_pop                      307701 non-null  float64\n",
      " 9   distance_moyenne           307701 non-null  float64\n",
      " 10  Prix_moyen_du_quartier     307701 non-null  float64\n",
      " 11  number_of_sales            307701 non-null  int64  \n",
      " 12  type_local_Appartement     307701 non-null  float64\n",
      " 13  type_local_Maison          307701 non-null  float64\n",
      "dtypes: float64(11), int64(3)\n",
      "memory usage: 35.2 MB\n"
     ]
    }
   ],
   "source": [
    "all.info()"
   ]
  },
  {
   "cell_type": "code",
   "execution_count": 38,
   "metadata": {},
   "outputs": [
    {
     "data": {
      "image/png": "[encoded data removed]",
      "text/plain": [
       "<Figure size 1200x800 with 2 Axes>"
      ]
     },
     "metadata": {},
     "output_type": "display_data"
    }
   ],
   "source": [
    "import seaborn as sns\n",
    "import matplotlib.pyplot as plt\n",
    "\n",
    "# Assuming your DataFrame is named 'all'\n",
    "# Replace 'all' with the actual name of your DataFrame if it's different\n",
    "correlation_matrix = all.corr()\n",
    "\n",
    "# Set up the matplotlib figure\n",
    "plt.figure(figsize=(12, 8))\n",
    "\n",
    "# Draw the heatmap\n",
    "sns.heatmap(correlation_matrix, annot=True, fmt=\".2f\", cmap='coolwarm')\n",
    "\n",
    "# Show the plot\n",
    "plt.show()"
   ]
  },
  {
   "cell_type": "code",
   "execution_count": 39,
   "metadata": {},
   "outputs": [],
   "source": [
    "from sklearn.preprocessing import StandardScaler\n",
    "from sklearn.model_selection import train_test_split\n",
    "import pickle\n",
    "\n",
    "# Separate target variable and features\n",
    "y = all[\"Prix_m\"].values\n",
    "X = all.drop(columns=[\"valeur_fonciere\", \"Prix_m\"]).values\n",
    "\n",
    "# Scale the features\n",
    "scaler = StandardScaler()\n",
    "X_scaled = scaler.fit_transform(X)\n",
    "\n",
    "# Split the data into training and test sets\n",
    "X_train, X_test, y_train, y_test = train_test_split(X_scaled, y, test_size=0.2, random_state=42)"
   ]
  },
  {
   "cell_type": "code",
   "execution_count": 40,
   "metadata": {},
   "outputs": [
    {
     "name": "stdout",
     "output_type": "stream",
     "text": [
      "Best Parameters: {'max_depth': None, 'max_features': 'sqrt', 'min_samples_leaf': 1, 'min_samples_split': 8, 'min_weight_fraction_leaf': 0, 'n_estimators': 50}\n"
     ]
    }
   ],
   "source": [
    "from sklearn.model_selection import GridSearchCV\n",
    "from sklearn.ensemble import RandomForestRegressor\n",
    "\n",
    "# Define the model\n",
    "forest = RandomForestRegressor()\n",
    "\n",
    "# Set up the parameter grid for hyperparameter tuning\n",
    "param_grid = {\n",
    "    'n_estimators': [50],\n",
    "    'min_samples_split': [8],\n",
    "    'max_depth': [None],\n",
    "    'min_samples_leaf' :[1],\n",
    "    'min_weight_fraction_leaf' :[0],\n",
    "    'max_features': ['sqrt']\n",
    "}\n",
    "\n",
    "# Initialize Grid Search with cross-validation\n",
    "grid_search = GridSearchCV(estimator=forest, param_grid=param_grid, cv=10, n_jobs=-1, scoring='neg_mean_squared_error')\n",
    "\n",
    "# Fit the grid search to the data\n",
    "grid_search.fit(X_train, y_train)\n",
    "\n",
    "# Extract the best parameters and the best model\n",
    "best_params = grid_search.best_params_\n",
    "best_model = grid_search.best_estimator_\n",
    "\n",
    "# Optionally, evaluate the best model on test data\n",
    "#test_score = best_model.score(X_test, y_test)  # Uncomment to evaluate\n",
    "\n",
    "# Save the scaler and the best model to disk\n",
    "with open('data/scaler.pkl', 'wb') as scaler_file:\n",
    "    pickle.dump(scaler, scaler_file)\n",
    "\n",
    "with open('data/model.pkl', 'wb') as model_file:\n",
    "    pickle.dump(best_model, model_file)\n",
    "\n",
    "# Optionally, print the best parameters and the test score\n",
    "print(\"Best Parameters:\", best_params)\n",
    "#print(\"Test Score:\", test_score)  # Uncomment to print test score"
   ]
  },
  {
   "cell_type": "markdown",
   "metadata": {},
   "source": [
    "## TEST ##"
   ]
  },
  {
   "cell_type": "code",
   "execution_count": 41,
   "metadata": {},
   "outputs": [],
   "source": [
    "import pickle\n",
    "\n",
    "with open('data/model.pkl', 'rb') as model_file:\n",
    "    forest = pickle.load(model_file)\n",
    "\n",
    "with open('data/scaler.pkl', 'rb') as scaler_file:\n",
    "    scaler = pickle.load(scaler_file)"
   ]
  },
  {
   "cell_type": "code",
   "execution_count": 42,
   "metadata": {},
   "outputs": [],
   "source": [
    "import numpy as np\n",
    "import pandas as pd\n",
    "predictions = forest.predict(X_test)\n",
    "\n",
    "y_test_adjusted = y_test  +1e-6\n",
    "\n",
    "percentage_error = np.abs(predictions - y_test_adjusted) / y_test_adjusted * 100\n",
    "\n",
    "high_error_indices = [i for i, error in enumerate(percentage_error) if error > 0]\n",
    "\n",
    "high_error_predictions_scaled = X_test[high_error_indices]\n",
    "\n",
    "high_error_predictions = scaler.inverse_transform(high_error_predictions_scaled)\n",
    "\n",
    "columns = all.drop(columns=[\"valeur_fonciere\", \"Prix_m\"]).columns\n",
    "high_error_df = pd.DataFrame(high_error_predictions, columns=columns)\n",
    "\n",
    "high_error_df['Actual'] = y_test_adjusted[high_error_indices]\n",
    "high_error_df['Predicted'] = predictions[high_error_indices]\n",
    "high_error_df['Percentage Error'] = percentage_error[high_error_indices]"
   ]
  },
  {
   "cell_type": "code",
   "execution_count": 43,
   "metadata": {},
   "outputs": [
    {
     "data": {
      "text/plain": [
       "'high_error_data.xlsx'"
      ]
     },
     "execution_count": 43,
     "metadata": {},
     "output_type": "execute_result"
    }
   ],
   "source": [
    "xlsx_file_path = 'high_error_data.xlsx'\n",
    "\n",
    "high_error_df.to_excel(xlsx_file_path, index=False)\n",
    "\n",
    "xlsx_file_path"
   ]
  },
  {
   "cell_type": "code",
   "execution_count": 44,
   "metadata": {},
   "outputs": [
    {
     "name": "stdout",
     "output_type": "stream",
     "text": [
      "<class 'pandas.core.frame.DataFrame'>\n",
      "RangeIndex: 61541 entries, 0 to 61540\n",
      "Data columns (total 15 columns):\n",
      " #   Column                     Non-Null Count  Dtype  \n",
      "---  ------                     --------------  -----  \n",
      " 0   code_departement           61541 non-null  float64\n",
      " 1   surface_reelle_bati        61541 non-null  float64\n",
      " 2   nombre_pieces_principales  61541 non-null  float64\n",
      " 3   surface_terrain            61541 non-null  float64\n",
      " 4   latitude_r                 61541 non-null  float64\n",
      " 5   longitude_r                61541 non-null  float64\n",
      " 6   p_pop                      61541 non-null  float64\n",
      " 7   distance_moyenne           61541 non-null  float64\n",
      " 8   Prix_moyen_du_quartier     61541 non-null  float64\n",
      " 9   number_of_sales            61541 non-null  float64\n",
      " 10  type_local_Appartement     61541 non-null  float64\n",
      " 11  type_local_Maison          61541 non-null  float64\n",
      " 12  Actual                     61541 non-null  float64\n",
      " 13  Predicted                  61541 non-null  float64\n",
      " 14  Percentage Error           61541 non-null  float64\n",
      "dtypes: float64(15)\n",
      "memory usage: 7.0 MB\n"
     ]
    }
   ],
   "source": [
    "high_error_df.info()\n",
    "#854216"
   ]
  },
  {
   "cell_type": "markdown",
   "metadata": {},
   "source": [
    "## GRAPH + ANALYST ##"
   ]
  },
  {
   "cell_type": "code",
   "execution_count": 45,
   "metadata": {},
   "outputs": [
    {
     "data": {
      "image/png": "[encoded data removed]",
      "text/plain": [
       "<Figure size 1500x600 with 1 Axes>"
      ]
     },
     "metadata": {},
     "output_type": "display_data"
    }
   ],
   "source": [
    "y_pred = forest.predict(X_test)\n",
    "\n",
    "import matplotlib.pyplot as plt\n",
    "import numpy as np\n",
    "\n",
    "\n",
    "y_pred = np.random.normal(loc=y_test, scale=100, size=len(y_test))\n",
    "y_test_adjusted = y_test  +1e-6\n",
    "\n",
    "percentage_error = np.abs(y_pred - y_test_adjusted) / y_test_adjusted * 100\n",
    "\n",
    "plot_data = {\n",
    "    \"Prix_m\": percentage_error,\n",
    "    \"Percentage_Error\": percentage_error\n",
    "}\n",
    "\n",
    "\n",
    "filtre = (percentage_error >= 0) & (percentage_error <= 100)\n",
    "percentage_error_filtre = percentage_error[filtre]\n",
    "\n",
    "plt.figure(figsize=(15, 6))\n",
    "plt.hist(percentage_error_filtre, bins=100, alpha=0.7)\n",
    "plt.title(\"Distribution du Pourcentage d'Erreur (1 barre par 1%)\")\n",
    "plt.xlabel(\"Pourcentage d'erreur (%)\")\n",
    "plt.ylabel(\"Nombre d'occurrences\")\n",
    "plt.xlim(-2, 100)\n",
    "plt.grid(True)\n",
    "plt.show()"
   ]
  },
  {
   "cell_type": "code",
   "execution_count": 46,
   "metadata": {},
   "outputs": [
    {
     "name": "stdout",
     "output_type": "stream",
     "text": [
      "Erreur moyenne en pourcentage (avec ajustement) : 29.93979528361451\n",
      "Erreur médiane en pourcentage (avec ajustement) : 16.898052337815013\n",
      "R^2 Score: 0.7962438196973232\n"
     ]
    }
   ],
   "source": [
    "from sklearn.metrics import r2_score\n",
    "y_pred = forest.predict(X_test)\n",
    "\n",
    "y_test_adjusted = y_test  +1e-6\n",
    "\n",
    "# Calculer le pourcentage d'erreur\n",
    "percentage_error_adjusted = np.abs(y_pred - y_test_adjusted) / y_test_adjusted * 100\n",
    "\n",
    "# Calcul de l'erreur moyenne et médiane\n",
    "mean_error_adjusted = np.mean(percentage_error_adjusted)\n",
    "median_error_adjusted = np.median(percentage_error_adjusted)\n",
    "r2 = r2_score(y_test, y_pred)\n",
    "\n",
    "print(\"Erreur moyenne en pourcentage (avec ajustement) :\", mean_error_adjusted)\n",
    "print(\"Erreur médiane en pourcentage (avec ajustement) :\", median_error_adjusted)\n",
    "print(\"R^2 Score:\", r2)"
   ]
  },
  {
   "cell_type": "code",
   "execution_count": 47,
   "metadata": {},
   "outputs": [
    {
     "name": "stdout",
     "output_type": "stream",
     "text": [
      "Mean Squared Error (MSE): 1588104.5804160186\n",
      "Mean Absolute Error (MAE): 694.071230471675\n",
      "R^2 Score: 0.7962438196973232\n"
     ]
    }
   ],
   "source": [
    "from sklearn.metrics import mean_squared_error, mean_absolute_error, r2_score\n",
    "\n",
    "y_pred = forest.predict(X_test)\n",
    "\n",
    "y_test_adjusted = y_test  +1e-6\n",
    "\n",
    "mse = mean_squared_error(y_test, y_pred)\n",
    "mae = mean_absolute_error(y_test, y_pred)\n",
    "r2 = r2_score(y_test, y_pred)\n",
    "\n",
    "print(\"Mean Squared Error (MSE):\", mse)\n",
    "print(\"Mean Absolute Error (MAE):\", mae)\n",
    "print(\"R^2 Score:\", r2)"
   ]
  },
  {
   "cell_type": "markdown",
   "metadata": {},
   "source": [
    "## AI APLICATION ##"
   ]
  },
  {
   "cell_type": "code",
   "execution_count": 48,
   "metadata": {},
   "outputs": [],
   "source": [
    "from joblib import load\n",
    "model_all = load('data/france_entiere.pkl')"
   ]
  },
  {
   "cell_type": "code",
   "execution_count": 49,
   "metadata": {},
   "outputs": [],
   "source": [
    "def find_nearest_properties_mean(latitude, longitude, model, all_properties, property_type, k=10, max_attempts=10):\n",
    "    attempt = 0\n",
    "    mean_price = None\n",
    "\n",
    "    while attempt < max_attempts:\n",
    "        # Query the model for nearest properties\n",
    "        dist, indices = model.query(np.array([[latitude, longitude]]), k=k)\n",
    "\n",
    "        # Get the nearest properties\n",
    "        nearest_properties = all_properties.iloc[indices[0]]\n",
    "\n",
    "        # Filter properties by type\n",
    "        filtered_properties = nearest_properties[nearest_properties['type_local'] == property_type]\n",
    "\n",
    "        # Check if there are at least 10 properties\n",
    "        if len(filtered_properties) >= 10:\n",
    "            # Calculate average price based on the 10 nearest properties of the specified type\n",
    "            mean_price = filtered_properties.head(10)['Prix_m'].mean()\n",
    "            break\n",
    "        else:\n",
    "            # Increase k by 100 for the next attempt\n",
    "            k += 20\n",
    "            attempt += 1\n",
    "\n",
    "    return mean_price\n"
   ]
  },
  {
   "cell_type": "code",
   "execution_count": 50,
   "metadata": {},
   "outputs": [],
   "source": [
    "def calculate_distance_moyenne(latitude, longitude, model, k=10):\n",
    "    \n",
    "    # Query the model for nearest properties\n",
    "    dist, indices = model.query(np.array([[latitude, longitude]]), k=k)\n",
    "\n",
    "    # Calculate the mean distance (excluding the first element which is zero)\n",
    "    mean_distance = np.mean(dist[0][1:]) * 6371 # Convert to meters\n",
    "\n",
    "    return mean_distance\n"
   ]
  },
  {
   "cell_type": "code",
   "execution_count": 60,
   "metadata": {},
   "outputs": [
    {
     "name": "stderr",
     "output_type": "stream",
     "text": [
      "C:\\Users\\arthu\\AppData\\Local\\Temp\\ipykernel_17456\\2125869122.py:17: DtypeWarning: Columns (3,12) have mixed types. Specify dtype option on import or set low_memory=False.\n",
      "  properties_data = pd.read_csv('data/france_entiere/combined_properties_france.csv')\n",
      "c:\\Users\\arthu\\AppData\\Local\\Programs\\Python\\Python311\\Lib\\site-packages\\sklearn\\base.py:458: UserWarning: X has feature names, but StandardScaler was fitted without feature names\n",
      "  warnings.warn(\n"
     ]
    }
   ],
   "source": [
    "import numpy as np\n",
    "import pandas as pd\n",
    "import pickle\n",
    "from sklearn.neighbors import BallTree\n",
    "\n",
    "# Load scaler and model\n",
    "with open('data/scaler.pkl', 'rb') as scaler_file:\n",
    "    scaler = pickle.load(scaler_file)\n",
    "\n",
    "with open('data/model.pkl', 'rb') as model_file:\n",
    "    model = pickle.load(model_file)\n",
    "\n",
    "# Load your BallTree model and properties data\n",
    "with open('data/balltree_model_all.pkl', 'rb') as balltree_file:\n",
    "    balltree_model = pickle.load(balltree_file)\n",
    "\n",
    "properties_data = pd.read_csv('data/france_entiere/combined_properties_france.csv')\n",
    "\n",
    "\n",
    "# Convert coordinates to radians\n",
    "latitude_r = np.deg2rad(44.636693) #43.643516540527344\n",
    "longitude_r = np.deg2rad(-1.197042) #5.097583293914795\n",
    "\n",
    "# Use the functions to get the needed data\n",
    "Prix_moyen_du_quartier = find_nearest_properties_mean(latitude_r, longitude_r, balltree_model, properties_data, \"Maison\")\n",
    "distance_moyenne = calculate_distance_moyenne(latitude_r, longitude_r, balltree_model)\n",
    "\n",
    "# Other property details\n",
    "surface_reelle_bati = 91\n",
    "surface_terrain = 450\n",
    "nombre_pieces_principales = 5\n",
    "p_pop = 26269\n",
    "number_of_sales = 457\n",
    "\n",
    "# Other property details\n",
    "# surface_reelle_bati = 170\n",
    "# surface_terrain = 240\n",
    "# nombre_pieces_principales = 6\n",
    "# p_pop = 45009\n",
    "# number_of_sales = 517\n",
    "\n",
    "\n",
    "# Prepare data for prediction\n",
    "data_for_prediction = {\n",
    "    'code_departement': [33],\n",
    "    'surface_reelle_bati': [surface_reelle_bati],\n",
    "    \"nombre_pieces_principales\": [nombre_pieces_principales],\n",
    "    \"surface_terrain\": [surface_terrain],\n",
    "    'latitude_r': [latitude_r],\n",
    "    'longitude_r': [longitude_r],\n",
    "    'p_pop': [p_pop],\n",
    "    'distance_moyenne': [distance_moyenne],\n",
    "    'Prix_moyen_du_quartier': [Prix_moyen_du_quartier],\n",
    "    'type_local_Appartement': [0],\n",
    "    'type_local_Maison': [1],\n",
    "    'number_of_sales': [number_of_sales]\n",
    "}\n",
    "\n",
    "# Create DataFrame from the data\n",
    "new_sample = pd.DataFrame(data_for_prediction)\n",
    "\n",
    "# Scale the data\n",
    "new_sample_scaled = scaler.transform(new_sample)"
   ]
  },
  {
   "cell_type": "code",
   "execution_count": 61,
   "metadata": {},
   "outputs": [
    {
     "name": "stdout",
     "output_type": "stream",
     "text": [
      "Predicted Price: 10818.673723526475\n",
      "Prix du bien [984499.30884091]\n"
     ]
    }
   ],
   "source": [
    "# Predict the price\n",
    "predicted_price = model.predict(new_sample_scaled)\n",
    "\n",
    "# Output the prediction\n",
    "print(\"Predicted Price:\", predicted_price[0])\n",
    "print(\"Prix du bien\", predicted_price * surface_reelle_bati)"
   ]
  },
  {
   "cell_type": "code",
   "execution_count": 62,
   "metadata": {},
   "outputs": [
    {
     "data": {
      "text/plain": [
       "13385"
      ]
     },
     "execution_count": 62,
     "metadata": {},
     "output_type": "execute_result"
    }
   ],
   "source": [
    "Prix_moyen_du_quartier"
   ]
  },
  {
   "cell_type": "code",
   "execution_count": 54,
   "metadata": {},
   "outputs": [
    {
     "data": {
      "text/plain": [
       "0.18145545443982894"
      ]
     },
     "execution_count": 54,
     "metadata": {},
     "output_type": "execute_result"
    }
   ],
   "source": [
    "distance_moyenne"
   ]
  },
  {
   "cell_type": "code",
   "execution_count": 55,
   "metadata": {},
   "outputs": [],
   "source": [
    "import winsound\n",
    "\n",
    "# Votre code ici\n",
    "\n",
    "# Jouer un son à la fin\n",
    "frequency = 2500  # en Hertz\n",
    "duration = 500   # en millisecondes\n",
    "winsound.Beep(frequency, duration)"
   ]
  }
 ],
 "metadata": {
  "kernelspec": {
   "display_name": "Python 3",
   "language": "python",
   "name": "python3"
  },
  "language_info": {
   "codemirror_mode": {
    "name": "ipython",
    "version": 3
   },
   "file_extension": ".py",
   "mimetype": "text/x-python",
   "name": "python",
   "nbconvert_exporter": "python",
   "pygments_lexer": "ipython3",
   "version": "3.11.5"
  }
 },
 "nbformat": 4,
 "nbformat_minor": 2
}
