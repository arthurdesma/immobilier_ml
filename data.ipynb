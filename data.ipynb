{
 "cells": [
  {
   "cell_type": "code",
   "execution_count": 56,
   "metadata": {},
   "outputs": [],
   "source": [
    "import pandas as pd\n",
    "import numpy as np\n",
    "import matplotlib.pyplot as plt\n",
    "import seaborn as sns"
   ]
  },
  {
   "cell_type": "code",
   "execution_count": 57,
   "metadata": {},
   "outputs": [],
   "source": [
    "dtype_dict = {\n",
    "    'id_mutation': 'str',\n",
    "    'date_mutation': 'str',\n",
    "    'numero_disposition': 'str',\n",
    "    'nature_mutation': 'str',\n",
    "    'valeur_fonciere': 'float64',\n",
    "    'adresse_numero': 'float64',\n",
    "    'adresse_suffixe': 'str',\n",
    "    'adresse_nom_voie': 'str',\n",
    "    'adresse_code_voie': 'str',\n",
    "    'code_postal': 'str',\n",
    "    'code_commune': 'str',\n",
    "    'nom_commune': 'str',\n",
    "    'code_departement': 'str',\n",
    "    'ancien_code_commune': 'str',\n",
    "    'ancien_nom_commune': 'str',\n",
    "    'id_parcelle': 'str',\n",
    "    'ancien_id_parcelle': 'str',\n",
    "    'numero_volume': 'str',\n",
    "    'lot1_numero': 'str',\n",
    "    'lot1_surface_carrez': 'float64',\n",
    "    'lot2_numero': 'str',\n",
    "    'lot2_surface_carrez': 'float64',\n",
    "    'lot3_numero': 'str',\n",
    "    'lot3_surface_carrez': 'float64',\n",
    "    'lot4_numero': 'str',\n",
    "    'lot4_surface_carrez': 'float64',\n",
    "    'lot5_numero': 'str',\n",
    "    'lot5_surface_carrez': 'float64',\n",
    "    'nombre_lots': 'int32',\n",
    "    'code_type_local': 'str',\n",
    "    'type_local': 'str',\n",
    "    'surface_reelle_bati': 'float64',\n",
    "    'nombre_pieces_principales': 'float64',\n",
    "    'code_nature_culture': 'str',\n",
    "    'nature_culture': 'str',\n",
    "    'code_nature_culture_speciale': 'str',\n",
    "    'nature_culture_speciale': 'str',\n",
    "    'surface_terrain': 'float64',\n",
    "    'longitude': 'float64',\n",
    "    'latitude': 'float64'\n",
    "}"
   ]
  },
  {
   "cell_type": "code",
   "execution_count": 58,
   "metadata": {},
   "outputs": [],
   "source": [
    "data = pd.read_csv(\"data/full_2022.csv\",dtype=dtype_dict)\n",
    "data = data.dropna(subset=['longitude', 'latitude'])\n",
    "data = data.drop_duplicates()"
   ]
  },
  {
   "cell_type": "code",
   "execution_count": 59,
   "metadata": {},
   "outputs": [
    {
     "data": {
      "text/html": [
       "<div>\n",
       "<style scoped>\n",
       "    .dataframe tbody tr th:only-of-type {\n",
       "        vertical-align: middle;\n",
       "    }\n",
       "\n",
       "    .dataframe tbody tr th {\n",
       "        vertical-align: top;\n",
       "    }\n",
       "\n",
       "    .dataframe thead th {\n",
       "        text-align: right;\n",
       "    }\n",
       "</style>\n",
       "<table border=\"1\" class=\"dataframe\">\n",
       "  <thead>\n",
       "    <tr style=\"text-align: right;\">\n",
       "      <th></th>\n",
       "      <th>codgeo</th>\n",
       "      <th>libgeo</th>\n",
       "      <th>an</th>\n",
       "      <th>p_pop</th>\n",
       "    </tr>\n",
       "  </thead>\n",
       "  <tbody>\n",
       "    <tr>\n",
       "      <th>0</th>\n",
       "      <td>01001</td>\n",
       "      <td>L'Abergement-Clémenciat</td>\n",
       "      <td>2020</td>\n",
       "      <td>806.0</td>\n",
       "    </tr>\n",
       "    <tr>\n",
       "      <th>1</th>\n",
       "      <td>01002</td>\n",
       "      <td>L'Abergement-de-Varey</td>\n",
       "      <td>2020</td>\n",
       "      <td>262.0</td>\n",
       "    </tr>\n",
       "    <tr>\n",
       "      <th>2</th>\n",
       "      <td>01004</td>\n",
       "      <td>Ambérieu-en-Bugey</td>\n",
       "      <td>2020</td>\n",
       "      <td>14288.0</td>\n",
       "    </tr>\n",
       "    <tr>\n",
       "      <th>3</th>\n",
       "      <td>01005</td>\n",
       "      <td>Ambérieux-en-Dombes</td>\n",
       "      <td>2020</td>\n",
       "      <td>1782.0</td>\n",
       "    </tr>\n",
       "    <tr>\n",
       "      <th>4</th>\n",
       "      <td>01006</td>\n",
       "      <td>Ambléon</td>\n",
       "      <td>2020</td>\n",
       "      <td>113.0</td>\n",
       "    </tr>\n",
       "    <tr>\n",
       "      <th>...</th>\n",
       "      <td>...</td>\n",
       "      <td>...</td>\n",
       "      <td>...</td>\n",
       "      <td>...</td>\n",
       "    </tr>\n",
       "    <tr>\n",
       "      <th>34940</th>\n",
       "      <td>97613</td>\n",
       "      <td>M'Tsangamouji</td>\n",
       "      <td>2020</td>\n",
       "      <td>NaN</td>\n",
       "    </tr>\n",
       "    <tr>\n",
       "      <th>34941</th>\n",
       "      <td>97614</td>\n",
       "      <td>Ouangani</td>\n",
       "      <td>2020</td>\n",
       "      <td>NaN</td>\n",
       "    </tr>\n",
       "    <tr>\n",
       "      <th>34942</th>\n",
       "      <td>97615</td>\n",
       "      <td>Pamandzi</td>\n",
       "      <td>2020</td>\n",
       "      <td>NaN</td>\n",
       "    </tr>\n",
       "    <tr>\n",
       "      <th>34943</th>\n",
       "      <td>97616</td>\n",
       "      <td>Sada</td>\n",
       "      <td>2020</td>\n",
       "      <td>NaN</td>\n",
       "    </tr>\n",
       "    <tr>\n",
       "      <th>34944</th>\n",
       "      <td>97617</td>\n",
       "      <td>Tsingoni</td>\n",
       "      <td>2020</td>\n",
       "      <td>NaN</td>\n",
       "    </tr>\n",
       "  </tbody>\n",
       "</table>\n",
       "<p>34945 rows × 4 columns</p>\n",
       "</div>"
      ],
      "text/plain": [
       "      codgeo                   libgeo    an    p_pop\n",
       "0      01001  L'Abergement-Clémenciat  2020    806.0\n",
       "1      01002    L'Abergement-de-Varey  2020    262.0\n",
       "2      01004        Ambérieu-en-Bugey  2020  14288.0\n",
       "3      01005      Ambérieux-en-Dombes  2020   1782.0\n",
       "4      01006                  Ambléon  2020    113.0\n",
       "...      ...                      ...   ...      ...\n",
       "34940  97613            M'Tsangamouji  2020      NaN\n",
       "34941  97614                 Ouangani  2020      NaN\n",
       "34942  97615                 Pamandzi  2020      NaN\n",
       "34943  97616                     Sada  2020      NaN\n",
       "34944  97617                 Tsingoni  2020      NaN\n",
       "\n",
       "[34945 rows x 4 columns]"
      ]
     },
     "execution_count": 59,
     "metadata": {},
     "output_type": "execute_result"
    }
   ],
   "source": [
    "code = pd.read_excel('data/insee_rp_hist_1968.xlsx')\n",
    "code"
   ]
  },
  {
   "cell_type": "code",
   "execution_count": 60,
   "metadata": {},
   "outputs": [
    {
     "data": {
      "text/plain": [
       "array(['Vente', \"Vente en l'état futur d'achèvement\", 'Echange',\n",
       "       'Vente terrain à bâtir', 'Adjudication', 'Expropriation'],\n",
       "      dtype=object)"
      ]
     },
     "execution_count": 60,
     "metadata": {},
     "output_type": "execute_result"
    }
   ],
   "source": [
    "data[\"nature_mutation\"].unique()"
   ]
  },
  {
   "cell_type": "code",
   "execution_count": 61,
   "metadata": {},
   "outputs": [],
   "source": [
    "sampled_data = data\n",
    "sampled_data = sampled_data[sampled_data[\"nature_mutation\"].isin([\"Vente\",\"Vente en l'état futur d'achèvement\"])]\n",
    "sampled_data = sampled_data[(sampled_data[\"nombre_lots\"] == 0) | (sampled_data[\"nombre_lots\"] == 1)]\n",
    "sampled_data = sampled_data[(sampled_data['surface_reelle_bati'].notna()) & (sampled_data['surface_reelle_bati'] != 0)]\n",
    "sampled_data = sampled_data[(sampled_data['valeur_fonciere'].notna()) & (sampled_data['valeur_fonciere'] != 0)]\n",
    "sampled_data['code_departement'] = sampled_data['code_departement'].replace(['2A', '2B'], '02')\n"
   ]
  },
  {
   "cell_type": "code",
   "execution_count": 62,
   "metadata": {},
   "outputs": [],
   "source": [
    "sampled_data = sampled_data.dropna(subset=['valeur_fonciere'])\n",
    "columns_to_drop = [\"lot1_numero\", \"lot2_numero\", \"lot3_numero\", \"lot4_numero\", \"lot5_numero\",\"ancien_code_commune\",\n",
    "                   \"ancien_nom_commune\",\"adresse_numero\",\"adresse_suffixe\",\"id_parcelle\",\"ancien_id_parcelle\",\"code_type_local\",\n",
    "                   \"numero_volume\",\"code_nature_culture_speciale\",\"nature_culture_speciale\",\"code_nature_culture\",\n",
    "                   \"code_nature_culture\",\"numero_disposition\",\"id_mutation\",\"lot2_surface_carrez\",\"lot3_surface_carrez\",\"lot4_surface_carrez\",\n",
    "                   \"lot5_surface_carrez\",\"adresse_nom_voie\",\"adresse_code_voie\",\"nom_commune\",\"nombre_lots\",\n",
    "                   \"lot1_surface_carrez\",\"nature_culture\",\"code_postal\"]\n",
    "    #\"code_commune\"\n",
    "sampled_data = sampled_data.drop(columns=columns_to_drop)"
   ]
  },
  {
   "cell_type": "code",
   "execution_count": 63,
   "metadata": {},
   "outputs": [
    {
     "name": "stdout",
     "output_type": "stream",
     "text": [
      "<class 'pandas.core.frame.DataFrame'>\n",
      "Index: 1220352 entries, 0 to 4617578\n",
      "Data columns (total 11 columns):\n",
      " #   Column                     Non-Null Count    Dtype  \n",
      "---  ------                     --------------    -----  \n",
      " 0   date_mutation              1220352 non-null  object \n",
      " 1   nature_mutation            1220352 non-null  object \n",
      " 2   valeur_fonciere            1220352 non-null  float64\n",
      " 3   code_commune               1220352 non-null  object \n",
      " 4   code_departement           1220352 non-null  object \n",
      " 5   type_local                 1220352 non-null  object \n",
      " 6   surface_reelle_bati        1220352 non-null  float64\n",
      " 7   nombre_pieces_principales  1220352 non-null  float64\n",
      " 8   surface_terrain            871221 non-null   float64\n",
      " 9   longitude                  1220352 non-null  float64\n",
      " 10  latitude                   1220352 non-null  float64\n",
      "dtypes: float64(6), object(5)\n",
      "memory usage: 111.7+ MB\n"
     ]
    }
   ],
   "source": [
    "sampled_data.info()"
   ]
  },
  {
   "cell_type": "code",
   "execution_count": 64,
   "metadata": {},
   "outputs": [],
   "source": [
    "sampled_data['latitude'] = sampled_data['latitude'].astype(float)\n",
    "sampled_data['longitude'] = sampled_data['longitude'].astype(float)\n",
    "\n",
    "\n",
    "sampled_data[\"surface_terrain\"] = sampled_data[\"surface_terrain\"].fillna(0)\n",
    "\n",
    "sampled_data[\"valeur_fonciere\"] = sampled_data[\"valeur_fonciere\"].astype(str).apply(lambda x: x.replace(\",\", \".\")).astype(float)\n",
    "\n",
    "sampled_data[\"Prix_m\"] = sampled_data[\"valeur_fonciere\"] / sampled_data[\"surface_reelle_bati\"]\n",
    "sampled_data[\"Prix_m\"] = sampled_data[\"Prix_m\"].apply(lambda x: round(x))\n",
    "\n",
    "sampled_data['latitude_r'] = np.deg2rad(sampled_data['latitude'])\n",
    "sampled_data['longitude_r'] = np.deg2rad(sampled_data['longitude'])\n",
    "sampled_data=sampled_data[sampled_data.latitude.notna()]\n",
    "sampled_data=sampled_data[sampled_data.code_departement.notna()]\n",
    "\n",
    "sampled_data=sampled_data.sort_values(by = ['latitude','longitude'])\n",
    "sampled_data=sampled_data.drop(columns=['latitude','longitude'])\n",
    "sampled_data=sampled_data.reset_index(drop=True)\n"
   ]
  },
  {
   "cell_type": "code",
   "execution_count": 65,
   "metadata": {},
   "outputs": [
    {
     "name": "stdout",
     "output_type": "stream",
     "text": [
      "<class 'pandas.core.frame.DataFrame'>\n",
      "RangeIndex: 1220352 entries, 0 to 1220351\n",
      "Data columns (total 12 columns):\n",
      " #   Column                     Non-Null Count    Dtype  \n",
      "---  ------                     --------------    -----  \n",
      " 0   date_mutation              1220352 non-null  object \n",
      " 1   nature_mutation            1220352 non-null  object \n",
      " 2   valeur_fonciere            1220352 non-null  float64\n",
      " 3   code_commune               1220352 non-null  object \n",
      " 4   code_departement           1220352 non-null  object \n",
      " 5   type_local                 1220352 non-null  object \n",
      " 6   surface_reelle_bati        1220352 non-null  float64\n",
      " 7   nombre_pieces_principales  1220352 non-null  float64\n",
      " 8   surface_terrain            1220352 non-null  float64\n",
      " 9   Prix_m                     1220352 non-null  int64  \n",
      " 10  latitude_r                 1220352 non-null  float64\n",
      " 11  longitude_r                1220352 non-null  float64\n",
      "dtypes: float64(6), int64(1), object(5)\n",
      "memory usage: 111.7+ MB\n"
     ]
    }
   ],
   "source": [
    "sampled_data.info()"
   ]
  },
  {
   "cell_type": "code",
   "execution_count": 66,
   "metadata": {},
   "outputs": [],
   "source": [
    "sampled_data = sampled_data[sampled_data['Prix_m'] <= 75000]"
   ]
  },
  {
   "cell_type": "code",
   "execution_count": 67,
   "metadata": {},
   "outputs": [
    {
     "name": "stderr",
     "output_type": "stream",
     "text": [
      "/var/folders/tz/clsh4w9x0wjbfnz7p3jr9xch0000gn/T/ipykernel_2968/2797811846.py:10: DeprecationWarning: DataFrameGroupBy.apply operated on the grouping columns. This behavior is deprecated, and in a future version of pandas the grouping columns will be excluded from the operation. Either pass `include_groups=False` to exclude the groupings or explicitly select the grouping columns after groupby to silence this warning.\n",
      "  return grouped.apply(filter_group).reset_index(drop=True)\n"
     ]
    }
   ],
   "source": [
    "def filter_outliers(df):\n",
    "    grouped = df.groupby('code_commune')\n",
    "\n",
    "    def filter_group(group):\n",
    "        Q1 = group['Prix_m'].quantile(0.25)\n",
    "        Q3 = group['Prix_m'].quantile(0.75)\n",
    "        IQR = Q3 - Q1\n",
    "        return group[(group['Prix_m'] >= (Q1 - 1.5 * IQR)) & (group['Prix_m'] <= (Q3 + 1.5 * IQR))]\n",
    "\n",
    "    return grouped.apply(filter_group).reset_index(drop=True)\n",
    "\n",
    "sampled_data = filter_outliers(sampled_data)\n"
   ]
  },
  {
   "cell_type": "code",
   "execution_count": 68,
   "metadata": {},
   "outputs": [
    {
     "name": "stdout",
     "output_type": "stream",
     "text": [
      "<class 'pandas.core.frame.DataFrame'>\n",
      "RangeIndex: 1081423 entries, 0 to 1081422\n",
      "Data columns (total 12 columns):\n",
      " #   Column                     Non-Null Count    Dtype  \n",
      "---  ------                     --------------    -----  \n",
      " 0   date_mutation              1081423 non-null  object \n",
      " 1   nature_mutation            1081423 non-null  object \n",
      " 2   valeur_fonciere            1081423 non-null  float64\n",
      " 3   code_commune               1081423 non-null  object \n",
      " 4   code_departement           1081423 non-null  object \n",
      " 5   type_local                 1081423 non-null  object \n",
      " 6   surface_reelle_bati        1081423 non-null  float64\n",
      " 7   nombre_pieces_principales  1081423 non-null  float64\n",
      " 8   surface_terrain            1081423 non-null  float64\n",
      " 9   Prix_m                     1081423 non-null  int64  \n",
      " 10  latitude_r                 1081423 non-null  float64\n",
      " 11  longitude_r                1081423 non-null  float64\n",
      "dtypes: float64(6), int64(1), object(5)\n",
      "memory usage: 99.0+ MB\n"
     ]
    }
   ],
   "source": [
    "sampled_data.info()"
   ]
  },
  {
   "cell_type": "code",
   "execution_count": 69,
   "metadata": {},
   "outputs": [
    {
     "name": "stdout",
     "output_type": "stream",
     "text": [
      "<class 'pandas.core.frame.DataFrame'>\n",
      "RangeIndex: 1081423 entries, 0 to 1081422\n",
      "Data columns (total 14 columns):\n",
      " #   Column                     Non-Null Count    Dtype  \n",
      "---  ------                     --------------    -----  \n",
      " 0   date_mutation              1081423 non-null  object \n",
      " 1   nature_mutation            1081423 non-null  object \n",
      " 2   valeur_fonciere            1081423 non-null  float64\n",
      " 3   code_commune               1081423 non-null  object \n",
      " 4   code_departement           1081423 non-null  object \n",
      " 5   type_local                 1081423 non-null  object \n",
      " 6   surface_reelle_bati        1081423 non-null  float64\n",
      " 7   nombre_pieces_principales  1081423 non-null  float64\n",
      " 8   surface_terrain            1081423 non-null  float64\n",
      " 9   Prix_m                     1081423 non-null  int64  \n",
      " 10  latitude_r                 1081423 non-null  float64\n",
      " 11  longitude_r                1081423 non-null  float64\n",
      " 12  codgeo                     1046664 non-null  object \n",
      " 13  p_pop                      1046664 non-null  float64\n",
      "dtypes: float64(7), int64(1), object(6)\n",
      "memory usage: 115.5+ MB\n"
     ]
    }
   ],
   "source": [
    "import pandas as pd\n",
    "\n",
    "# Merge the DataFrames\n",
    "sampled_data = pd.merge(sampled_data, code[['codgeo', 'p_pop']], left_on='code_commune', right_on='codgeo', how='left')\n",
    "\n",
    "# 'merged_data' now has the 'p_pop' column from 'code' DataFrame added to it.\n",
    "\n",
    "sampled_data.info()"
   ]
  },
  {
   "cell_type": "code",
   "execution_count": 70,
   "metadata": {},
   "outputs": [
    {
     "data": {
      "text/html": [
       "<div>\n",
       "<style scoped>\n",
       "    .dataframe tbody tr th:only-of-type {\n",
       "        vertical-align: middle;\n",
       "    }\n",
       "\n",
       "    .dataframe tbody tr th {\n",
       "        vertical-align: top;\n",
       "    }\n",
       "\n",
       "    .dataframe thead th {\n",
       "        text-align: right;\n",
       "    }\n",
       "</style>\n",
       "<table border=\"1\" class=\"dataframe\">\n",
       "  <thead>\n",
       "    <tr style=\"text-align: right;\">\n",
       "      <th>nature_mutation</th>\n",
       "      <th>Vente</th>\n",
       "      <th>Vente en l'état futur d'achèvement</th>\n",
       "    </tr>\n",
       "    <tr>\n",
       "      <th>type_local</th>\n",
       "      <th></th>\n",
       "      <th></th>\n",
       "    </tr>\n",
       "  </thead>\n",
       "  <tbody>\n",
       "    <tr>\n",
       "      <th>Appartement</th>\n",
       "      <td>301093</td>\n",
       "      <td>7795</td>\n",
       "    </tr>\n",
       "    <tr>\n",
       "      <th>Local industriel. commercial ou assimilé</th>\n",
       "      <td>74716</td>\n",
       "      <td>816</td>\n",
       "    </tr>\n",
       "    <tr>\n",
       "      <th>Maison</th>\n",
       "      <td>696599</td>\n",
       "      <td>404</td>\n",
       "    </tr>\n",
       "  </tbody>\n",
       "</table>\n",
       "</div>"
      ],
      "text/plain": [
       "nature_mutation                            Vente  \\\n",
       "type_local                                         \n",
       "Appartement                               301093   \n",
       "Local industriel. commercial ou assimilé   74716   \n",
       "Maison                                    696599   \n",
       "\n",
       "nature_mutation                           Vente en l'état futur d'achèvement  \n",
       "type_local                                                                    \n",
       "Appartement                                                             7795  \n",
       "Local industriel. commercial ou assimilé                                 816  \n",
       "Maison                                                                   404  "
      ]
     },
     "execution_count": 70,
     "metadata": {},
     "output_type": "execute_result"
    }
   ],
   "source": [
    "sampled_data.pivot_table(values='valeur_fonciere', index='type_local', columns='nature_mutation', aggfunc='size')"
   ]
  },
  {
   "cell_type": "code",
   "execution_count": 71,
   "metadata": {},
   "outputs": [],
   "source": [
    "appart_old=sampled_data[(sampled_data['type_local']=='Appartement') & (sampled_data['nature_mutation']=='Vente') & (sampled_data['Prix_m']>100) & (sampled_data['valeur_fonciere']>20000)]\n",
    "appart_old.reset_index(drop=True,inplace=True)\n",
    "maison_old=sampled_data[(sampled_data['type_local']=='Maison') & (sampled_data['nature_mutation']=='Vente')]\n",
    "maison_old=maison_old[(maison_old['valeur_fonciere']>20000)&(maison_old['Prix_m']>500)&(maison_old['surface_reelle_bati']>9)]\n",
    "maison_old.reset_index(drop=True,inplace=True)\n",
    "#local_old =sampled_data[(sampled_data['type_local']=='Local industriel. commercial ou assimilé') & (sampled_data['nature_mutation']=='Vente')]\n",
    "#local_old.reset_index(drop=True,inplace=True)\n",
    "appart_new=sampled_data[(sampled_data['type_local']=='Appartement') & (sampled_data['nature_mutation']=='Vente en l\\'état futur d\\'achèvement')]\n",
    "appart_new.reset_index(drop=True,inplace=True)"
   ]
  },
  {
   "cell_type": "code",
   "execution_count": 72,
   "metadata": {},
   "outputs": [
    {
     "name": "stdout",
     "output_type": "stream",
     "text": [
      "<class 'pandas.core.frame.DataFrame'>\n",
      "RangeIndex: 297944 entries, 0 to 297943\n",
      "Data columns (total 14 columns):\n",
      " #   Column                     Non-Null Count   Dtype  \n",
      "---  ------                     --------------   -----  \n",
      " 0   date_mutation              297944 non-null  object \n",
      " 1   nature_mutation            297944 non-null  object \n",
      " 2   valeur_fonciere            297944 non-null  float64\n",
      " 3   code_commune               297944 non-null  object \n",
      " 4   code_departement           297944 non-null  object \n",
      " 5   type_local                 297944 non-null  object \n",
      " 6   surface_reelle_bati        297944 non-null  float64\n",
      " 7   nombre_pieces_principales  297944 non-null  float64\n",
      " 8   surface_terrain            297944 non-null  float64\n",
      " 9   Prix_m                     297944 non-null  int64  \n",
      " 10  latitude_r                 297944 non-null  float64\n",
      " 11  longitude_r                297944 non-null  float64\n",
      " 12  codgeo                     269275 non-null  object \n",
      " 13  p_pop                      269275 non-null  float64\n",
      "dtypes: float64(7), int64(1), object(6)\n",
      "memory usage: 31.8+ MB\n"
     ]
    }
   ],
   "source": [
    "appart_old.info()"
   ]
  },
  {
   "cell_type": "markdown",
   "metadata": {},
   "source": [
    "## ALL ##"
   ]
  },
  {
   "cell_type": "code",
   "execution_count": 73,
   "metadata": {},
   "outputs": [],
   "source": [
    "from sklearn.neighbors import BallTree\n",
    "import os\n",
    "import pickle\n",
    "\n",
    "def save_obj(obj, name):\n",
    "    directory = \"data/\"\n",
    "    if not os.path.exists(directory):\n",
    "        os.makedirs(directory)\n",
    "\n",
    "    with open(os.path.join(directory, name + '.pkl'), 'wb') as f:\n",
    "        pickle.dump(obj, f, pickle.HIGHEST_PROTOCOL)\n",
    "\n",
    "models = {}\n",
    "\n",
    "all_properties = pd.concat([appart_old, maison_old,appart_new])\n",
    "\n",
    "all_properties['distance_moyenne'] = np.zeros(len(all_properties))\n",
    "all_properties['indices_voisins'] = np.zeros(len(all_properties))\n",
    "\n",
    "model_all = BallTree(all_properties[['latitude_r', 'longitude_r']].values, leaf_size=2, metric='haversine')\n",
    "models['france_entiere'] = model_all\n",
    "\n",
    "save_obj(models['france_entiere'], 'france_entiere')\n"
   ]
  },
  {
   "cell_type": "code",
   "execution_count": 74,
   "metadata": {},
   "outputs": [
    {
     "name": "stdout",
     "output_type": "stream",
     "text": [
      "<class 'pandas.core.frame.DataFrame'>\n",
      "Index: 977145 entries, 0 to 7794\n",
      "Data columns (total 16 columns):\n",
      " #   Column                     Non-Null Count   Dtype  \n",
      "---  ------                     --------------   -----  \n",
      " 0   date_mutation              977145 non-null  object \n",
      " 1   nature_mutation            977145 non-null  object \n",
      " 2   valeur_fonciere            977145 non-null  float64\n",
      " 3   code_commune               977145 non-null  object \n",
      " 4   code_departement           977145 non-null  object \n",
      " 5   type_local                 977145 non-null  object \n",
      " 6   surface_reelle_bati        977145 non-null  float64\n",
      " 7   nombre_pieces_principales  977145 non-null  float64\n",
      " 8   surface_terrain            977145 non-null  float64\n",
      " 9   Prix_m                     977145 non-null  int64  \n",
      " 10  latitude_r                 977145 non-null  float64\n",
      " 11  longitude_r                977145 non-null  float64\n",
      " 12  codgeo                     945981 non-null  object \n",
      " 13  p_pop                      945981 non-null  float64\n",
      " 14  distance_moyenne           977145 non-null  float64\n",
      " 15  indices_voisins            977145 non-null  float64\n",
      "dtypes: float64(9), int64(1), object(6)\n",
      "memory usage: 126.7+ MB\n"
     ]
    }
   ],
   "source": [
    "all_properties.info()"
   ]
  },
  {
   "cell_type": "code",
   "execution_count": 75,
   "metadata": {},
   "outputs": [
    {
     "name": "stderr",
     "output_type": "stream",
     "text": [
      "/var/folders/tz/clsh4w9x0wjbfnz7p3jr9xch0000gn/T/ipykernel_2968/585818706.py:20: SettingWithCopyWarning: \n",
      "A value is trying to be set on a copy of a slice from a DataFrame.\n",
      "Try using .loc[row_indexer,col_indexer] = value instead\n",
      "\n",
      "See the caveats in the documentation: https://pandas.pydata.org/pandas-docs/stable/user_guide/indexing.html#returning-a-view-versus-a-copy\n",
      "  data_old['distance_moyenne'] = np.mean(dist[:, 1:] * 6341, axis=1)\n",
      "/var/folders/tz/clsh4w9x0wjbfnz7p3jr9xch0000gn/T/ipykernel_2968/585818706.py:31: SettingWithCopyWarning: \n",
      "A value is trying to be set on a copy of a slice from a DataFrame.\n",
      "Try using .loc[row_indexer,col_indexer] = value instead\n",
      "\n",
      "See the caveats in the documentation: https://pandas.pydata.org/pandas-docs/stable/user_guide/indexing.html#returning-a-view-versus-a-copy\n",
      "  data_old['Prix_moyen_du_quartier'] = prix_moyen_quartier['Prix_m']\n"
     ]
    },
    {
     "name": "stdout",
     "output_type": "stream",
     "text": [
      "Type: appart, Time taken: 17.722431182861328 seconds\n",
      "Type: maison, Time taken: 36.42080092430115 seconds\n"
     ]
    }
   ],
   "source": [
    "import time\n",
    "import pandas as pd\n",
    "import os\n",
    "import numpy as np\n",
    "from sklearn.neighbors import BallTree\n",
    "\n",
    "all_properties = pd.concat([appart_old, maison_old])\n",
    "\n",
    "model_all = BallTree(all_properties[['latitude_r', 'longitude_r']].values, leaf_size=2, metric='haversine')\n",
    "\n",
    "all_data = []\n",
    "\n",
    "for property_type, data_old in [('appart', appart_old), ('maison', maison_old)]:\n",
    "    start = time.time()\n",
    "\n",
    "    k_nearest = min(10, len(data_old))\n",
    "\n",
    "    dist, indices = model_all.query(data_old[['latitude_r', 'longitude_r']].values, k=k_nearest)\n",
    "\n",
    "    data_old['distance_moyenne'] = np.mean(dist[:, 1:] * 6341, axis=1)\n",
    "\n",
    "    prix_moyen_quartier = pd.DataFrame({'Prix_m': np.zeros(len(data_old))})\n",
    "\n",
    "    for i in range(1, k_nearest):\n",
    "        valid_indices = indices[:, i] < len(all_properties)\n",
    "        prix_valides = all_properties.iloc[indices[valid_indices, i]]['Prix_m']\n",
    "        prix_moyen_quartier.loc[valid_indices, 'Prix_m'] += prix_valides.values\n",
    "\n",
    "    diviseur = max(1, k_nearest - 1)\n",
    "    prix_moyen_quartier /= diviseur\n",
    "    data_old['Prix_moyen_du_quartier'] = prix_moyen_quartier['Prix_m']\n",
    "\n",
    "    stop = time.time()\n",
    "    print(f\"Type: {property_type}, Time taken: {stop - start} seconds\")\n",
    "\n",
    "    all_data.append(data_old)\n",
    "\n",
    "combined_data = pd.concat(all_data)"
   ]
  },
  {
   "cell_type": "code",
   "execution_count": 76,
   "metadata": {},
   "outputs": [
    {
     "name": "stdout",
     "output_type": "stream",
     "text": [
      "BallTree model saved to data/balltree_model_all.pkl\n"
     ]
    }
   ],
   "source": [
    "import pickle \n",
    "directory = \"data\"\n",
    "if not os.path.exists(directory):\n",
    "    os.makedirs(directory)\n",
    "\n",
    "# Save the BallTree model using pickle\n",
    "model_filename = os.path.join(directory, \"balltree_model_all.pkl\")\n",
    "with open(model_filename, 'wb') as file:\n",
    "    pickle.dump(model_all, file)\n",
    "\n",
    "print(f\"BallTree model saved to {model_filename}\")\n"
   ]
  },
  {
   "cell_type": "markdown",
   "metadata": {},
   "source": [
    "## graph (start here) ##"
   ]
  },
  {
   "cell_type": "code",
   "execution_count": 77,
   "metadata": {},
   "outputs": [],
   "source": [
    "all = combined_data"
   ]
  },
  {
   "cell_type": "code",
   "execution_count": 78,
   "metadata": {},
   "outputs": [
    {
     "name": "stdout",
     "output_type": "stream",
     "text": [
      "       code_commune  number_of_sales\n",
      "0             01004              183\n",
      "1             01004              183\n",
      "2             01004              183\n",
      "3             01004              183\n",
      "4             01004              183\n",
      "...             ...              ...\n",
      "671401        97424               32\n",
      "671402        97424               32\n",
      "671403        97424               32\n",
      "671404        97424               32\n",
      "671405        97424               32\n",
      "\n",
      "[969350 rows x 2 columns]\n"
     ]
    }
   ],
   "source": [
    "# Group by 'code_commune' and count the number of sales\n",
    "commune_sales_count = all.groupby('code_commune').size()\n",
    "\n",
    "# Map the count back to the original DataFrame\n",
    "all['number_of_sales'] = all['code_commune'].map(commune_sales_count)\n",
    "\n",
    "# This line is optional, to show the updated DataFrame\n",
    "print(all[['code_commune', 'number_of_sales']])\n"
   ]
  },
  {
   "cell_type": "code",
   "execution_count": 79,
   "metadata": {},
   "outputs": [
    {
     "data": {
      "text/html": [
       "<div>\n",
       "<style scoped>\n",
       "    .dataframe tbody tr th:only-of-type {\n",
       "        vertical-align: middle;\n",
       "    }\n",
       "\n",
       "    .dataframe tbody tr th {\n",
       "        vertical-align: top;\n",
       "    }\n",
       "\n",
       "    .dataframe thead th {\n",
       "        text-align: right;\n",
       "    }\n",
       "</style>\n",
       "<table border=\"1\" class=\"dataframe\">\n",
       "  <thead>\n",
       "    <tr style=\"text-align: right;\">\n",
       "      <th></th>\n",
       "      <th>date_mutation</th>\n",
       "      <th>nature_mutation</th>\n",
       "      <th>valeur_fonciere</th>\n",
       "      <th>code_commune</th>\n",
       "      <th>code_departement</th>\n",
       "      <th>type_local</th>\n",
       "      <th>surface_reelle_bati</th>\n",
       "      <th>nombre_pieces_principales</th>\n",
       "      <th>surface_terrain</th>\n",
       "      <th>Prix_m</th>\n",
       "      <th>latitude_r</th>\n",
       "      <th>longitude_r</th>\n",
       "      <th>codgeo</th>\n",
       "      <th>p_pop</th>\n",
       "      <th>distance_moyenne</th>\n",
       "      <th>Prix_moyen_du_quartier</th>\n",
       "      <th>number_of_sales</th>\n",
       "    </tr>\n",
       "  </thead>\n",
       "  <tbody>\n",
       "  </tbody>\n",
       "</table>\n",
       "</div>"
      ],
      "text/plain": [
       "Empty DataFrame\n",
       "Columns: [date_mutation, nature_mutation, valeur_fonciere, code_commune, code_departement, type_local, surface_reelle_bati, nombre_pieces_principales, surface_terrain, Prix_m, latitude_r, longitude_r, codgeo, p_pop, distance_moyenne, Prix_moyen_du_quartier, number_of_sales]\n",
       "Index: []"
      ]
     },
     "execution_count": 79,
     "metadata": {},
     "output_type": "execute_result"
    }
   ],
   "source": [
    "all[all['code_commune'] == 74056]\n",
    "\n"
   ]
  },
  {
   "cell_type": "code",
   "execution_count": 80,
   "metadata": {},
   "outputs": [
    {
     "data": {
      "text/html": [
       "<div>\n",
       "<style scoped>\n",
       "    .dataframe tbody tr th:only-of-type {\n",
       "        vertical-align: middle;\n",
       "    }\n",
       "\n",
       "    .dataframe tbody tr th {\n",
       "        vertical-align: top;\n",
       "    }\n",
       "\n",
       "    .dataframe thead th {\n",
       "        text-align: right;\n",
       "    }\n",
       "</style>\n",
       "<table border=\"1\" class=\"dataframe\">\n",
       "  <thead>\n",
       "    <tr style=\"text-align: right;\">\n",
       "      <th></th>\n",
       "      <th>date_mutation</th>\n",
       "      <th>nature_mutation</th>\n",
       "      <th>valeur_fonciere</th>\n",
       "      <th>code_commune</th>\n",
       "      <th>code_departement</th>\n",
       "      <th>type_local</th>\n",
       "      <th>surface_reelle_bati</th>\n",
       "      <th>nombre_pieces_principales</th>\n",
       "      <th>surface_terrain</th>\n",
       "      <th>Prix_m</th>\n",
       "      <th>latitude_r</th>\n",
       "      <th>longitude_r</th>\n",
       "      <th>codgeo</th>\n",
       "      <th>p_pop</th>\n",
       "      <th>distance_moyenne</th>\n",
       "      <th>Prix_moyen_du_quartier</th>\n",
       "      <th>number_of_sales</th>\n",
       "    </tr>\n",
       "  </thead>\n",
       "  <tbody>\n",
       "    <tr>\n",
       "      <th>0</th>\n",
       "      <td>2022-11-02</td>\n",
       "      <td>Vente</td>\n",
       "      <td>181000.0</td>\n",
       "      <td>01004</td>\n",
       "      <td>01</td>\n",
       "      <td>Appartement</td>\n",
       "      <td>91.0</td>\n",
       "      <td>4.0</td>\n",
       "      <td>0.0</td>\n",
       "      <td>1989</td>\n",
       "      <td>0.801983</td>\n",
       "      <td>0.093649</td>\n",
       "      <td>01004</td>\n",
       "      <td>14288.0</td>\n",
       "      <td>0.145538</td>\n",
       "      <td>3401.666667</td>\n",
       "      <td>183</td>\n",
       "    </tr>\n",
       "    <tr>\n",
       "      <th>1</th>\n",
       "      <td>2022-07-22</td>\n",
       "      <td>Vente</td>\n",
       "      <td>155000.0</td>\n",
       "      <td>01004</td>\n",
       "      <td>01</td>\n",
       "      <td>Appartement</td>\n",
       "      <td>68.0</td>\n",
       "      <td>3.0</td>\n",
       "      <td>0.0</td>\n",
       "      <td>2279</td>\n",
       "      <td>0.801986</td>\n",
       "      <td>0.093576</td>\n",
       "      <td>01004</td>\n",
       "      <td>14288.0</td>\n",
       "      <td>0.243429</td>\n",
       "      <td>3146.333333</td>\n",
       "      <td>183</td>\n",
       "    </tr>\n",
       "    <tr>\n",
       "      <th>2</th>\n",
       "      <td>2022-12-05</td>\n",
       "      <td>Vente</td>\n",
       "      <td>349000.0</td>\n",
       "      <td>01004</td>\n",
       "      <td>01</td>\n",
       "      <td>Appartement</td>\n",
       "      <td>70.0</td>\n",
       "      <td>3.0</td>\n",
       "      <td>914.0</td>\n",
       "      <td>4986</td>\n",
       "      <td>0.802037</td>\n",
       "      <td>0.093587</td>\n",
       "      <td>01004</td>\n",
       "      <td>14288.0</td>\n",
       "      <td>0.176317</td>\n",
       "      <td>3315.111111</td>\n",
       "      <td>183</td>\n",
       "    </tr>\n",
       "    <tr>\n",
       "      <th>3</th>\n",
       "      <td>2022-12-05</td>\n",
       "      <td>Vente</td>\n",
       "      <td>349000.0</td>\n",
       "      <td>01004</td>\n",
       "      <td>01</td>\n",
       "      <td>Appartement</td>\n",
       "      <td>98.0</td>\n",
       "      <td>4.0</td>\n",
       "      <td>914.0</td>\n",
       "      <td>3561</td>\n",
       "      <td>0.802037</td>\n",
       "      <td>0.093587</td>\n",
       "      <td>01004</td>\n",
       "      <td>14288.0</td>\n",
       "      <td>0.176317</td>\n",
       "      <td>3315.111111</td>\n",
       "      <td>183</td>\n",
       "    </tr>\n",
       "    <tr>\n",
       "      <th>4</th>\n",
       "      <td>2022-07-06</td>\n",
       "      <td>Vente</td>\n",
       "      <td>78000.0</td>\n",
       "      <td>01004</td>\n",
       "      <td>01</td>\n",
       "      <td>Appartement</td>\n",
       "      <td>40.0</td>\n",
       "      <td>2.0</td>\n",
       "      <td>0.0</td>\n",
       "      <td>1950</td>\n",
       "      <td>0.802057</td>\n",
       "      <td>0.093249</td>\n",
       "      <td>01004</td>\n",
       "      <td>14288.0</td>\n",
       "      <td>0.186236</td>\n",
       "      <td>2660.444444</td>\n",
       "      <td>183</td>\n",
       "    </tr>\n",
       "  </tbody>\n",
       "</table>\n",
       "</div>"
      ],
      "text/plain": [
       "  date_mutation nature_mutation  valeur_fonciere code_commune  \\\n",
       "0    2022-11-02           Vente         181000.0        01004   \n",
       "1    2022-07-22           Vente         155000.0        01004   \n",
       "2    2022-12-05           Vente         349000.0        01004   \n",
       "3    2022-12-05           Vente         349000.0        01004   \n",
       "4    2022-07-06           Vente          78000.0        01004   \n",
       "\n",
       "  code_departement   type_local  surface_reelle_bati  \\\n",
       "0               01  Appartement                 91.0   \n",
       "1               01  Appartement                 68.0   \n",
       "2               01  Appartement                 70.0   \n",
       "3               01  Appartement                 98.0   \n",
       "4               01  Appartement                 40.0   \n",
       "\n",
       "   nombre_pieces_principales  surface_terrain  Prix_m  latitude_r  \\\n",
       "0                        4.0              0.0    1989    0.801983   \n",
       "1                        3.0              0.0    2279    0.801986   \n",
       "2                        3.0            914.0    4986    0.802037   \n",
       "3                        4.0            914.0    3561    0.802037   \n",
       "4                        2.0              0.0    1950    0.802057   \n",
       "\n",
       "   longitude_r codgeo    p_pop  distance_moyenne  Prix_moyen_du_quartier  \\\n",
       "0     0.093649  01004  14288.0          0.145538             3401.666667   \n",
       "1     0.093576  01004  14288.0          0.243429             3146.333333   \n",
       "2     0.093587  01004  14288.0          0.176317             3315.111111   \n",
       "3     0.093587  01004  14288.0          0.176317             3315.111111   \n",
       "4     0.093249  01004  14288.0          0.186236             2660.444444   \n",
       "\n",
       "   number_of_sales  \n",
       "0              183  \n",
       "1              183  \n",
       "2              183  \n",
       "3              183  \n",
       "4              183  "
      ]
     },
     "execution_count": 80,
     "metadata": {},
     "output_type": "execute_result"
    }
   ],
   "source": [
    "all.head()"
   ]
  },
  {
   "cell_type": "code",
   "execution_count": 81,
   "metadata": {},
   "outputs": [],
   "source": [
    "all = all.drop(columns=['code_commune'])\n",
    "all = all.drop(columns=['codgeo'])"
   ]
  },
  {
   "cell_type": "code",
   "execution_count": 82,
   "metadata": {},
   "outputs": [
    {
     "name": "stdout",
     "output_type": "stream",
     "text": [
      "<class 'pandas.core.frame.DataFrame'>\n",
      "Index: 969350 entries, 0 to 671405\n",
      "Data columns (total 15 columns):\n",
      " #   Column                     Non-Null Count   Dtype  \n",
      "---  ------                     --------------   -----  \n",
      " 0   date_mutation              969350 non-null  object \n",
      " 1   nature_mutation            969350 non-null  object \n",
      " 2   valeur_fonciere            969350 non-null  float64\n",
      " 3   code_departement           969350 non-null  object \n",
      " 4   type_local                 969350 non-null  object \n",
      " 5   surface_reelle_bati        969350 non-null  float64\n",
      " 6   nombre_pieces_principales  969350 non-null  float64\n",
      " 7   surface_terrain            969350 non-null  float64\n",
      " 8   Prix_m                     969350 non-null  int64  \n",
      " 9   latitude_r                 969350 non-null  float64\n",
      " 10  longitude_r                969350 non-null  float64\n",
      " 11  p_pop                      938450 non-null  float64\n",
      " 12  distance_moyenne           969350 non-null  float64\n",
      " 13  Prix_moyen_du_quartier     969350 non-null  float64\n",
      " 14  number_of_sales            969350 non-null  int64  \n",
      "dtypes: float64(9), int64(2), object(4)\n",
      "memory usage: 118.3+ MB\n"
     ]
    }
   ],
   "source": [
    "all.info()"
   ]
  },
  {
   "cell_type": "code",
   "execution_count": 83,
   "metadata": {},
   "outputs": [
    {
     "data": {
      "text/plain": [
       "array([3401.66666667, 3146.33333333, 3315.11111111, ..., 6704.44444444,\n",
       "       6833.55555556, 6628.44444444])"
      ]
     },
     "execution_count": 83,
     "metadata": {},
     "output_type": "execute_result"
    }
   ],
   "source": [
    "all['Prix_moyen_du_quartier'].unique()"
   ]
  },
  {
   "cell_type": "code",
   "execution_count": 84,
   "metadata": {},
   "outputs": [],
   "source": [
    "all = all.drop([\"date_mutation\", \"nature_mutation\"], axis=1)"
   ]
  },
  {
   "cell_type": "code",
   "execution_count": 85,
   "metadata": {},
   "outputs": [
    {
     "name": "stdout",
     "output_type": "stream",
     "text": [
      "<class 'pandas.core.frame.DataFrame'>\n",
      "Index: 969350 entries, 0 to 671405\n",
      "Data columns (total 13 columns):\n",
      " #   Column                     Non-Null Count   Dtype  \n",
      "---  ------                     --------------   -----  \n",
      " 0   valeur_fonciere            969350 non-null  float64\n",
      " 1   code_departement           969350 non-null  object \n",
      " 2   type_local                 969350 non-null  object \n",
      " 3   surface_reelle_bati        969350 non-null  float64\n",
      " 4   nombre_pieces_principales  969350 non-null  float64\n",
      " 5   surface_terrain            969350 non-null  float64\n",
      " 6   Prix_m                     969350 non-null  int64  \n",
      " 7   latitude_r                 969350 non-null  float64\n",
      " 8   longitude_r                969350 non-null  float64\n",
      " 9   p_pop                      938450 non-null  float64\n",
      " 10  distance_moyenne           969350 non-null  float64\n",
      " 11  Prix_moyen_du_quartier     969350 non-null  float64\n",
      " 12  number_of_sales            969350 non-null  int64  \n",
      "dtypes: float64(9), int64(2), object(2)\n",
      "memory usage: 103.5+ MB\n"
     ]
    }
   ],
   "source": [
    "all.info()"
   ]
  },
  {
   "cell_type": "code",
   "execution_count": 86,
   "metadata": {},
   "outputs": [],
   "source": [
    "from sklearn.preprocessing import OneHotEncoder\n",
    "a = OneHotEncoder(handle_unknown='ignore',sparse_output=False).set_output(transform='pandas')\n"
   ]
  },
  {
   "cell_type": "code",
   "execution_count": 87,
   "metadata": {},
   "outputs": [],
   "source": [
    "a_transform = a.fit_transform(all[[\"type_local\"]])"
   ]
  },
  {
   "cell_type": "code",
   "execution_count": 88,
   "metadata": {},
   "outputs": [
    {
     "name": "stdout",
     "output_type": "stream",
     "text": [
      "<class 'pandas.core.frame.DataFrame'>\n",
      "Index: 969350 entries, 0 to 671405\n",
      "Data columns (total 2 columns):\n",
      " #   Column                  Non-Null Count   Dtype  \n",
      "---  ------                  --------------   -----  \n",
      " 0   type_local_Appartement  969350 non-null  float64\n",
      " 1   type_local_Maison       969350 non-null  float64\n",
      "dtypes: float64(2)\n",
      "memory usage: 22.2 MB\n"
     ]
    }
   ],
   "source": [
    "a_transform.info()"
   ]
  },
  {
   "cell_type": "code",
   "execution_count": 89,
   "metadata": {},
   "outputs": [],
   "source": [
    "all = pd.concat([all,a_transform],axis=1).drop(columns=['type_local'])"
   ]
  },
  {
   "cell_type": "code",
   "execution_count": 90,
   "metadata": {},
   "outputs": [
    {
     "name": "stdout",
     "output_type": "stream",
     "text": [
      "<class 'pandas.core.frame.DataFrame'>\n",
      "Index: 969350 entries, 0 to 671405\n",
      "Data columns (total 14 columns):\n",
      " #   Column                     Non-Null Count   Dtype  \n",
      "---  ------                     --------------   -----  \n",
      " 0   valeur_fonciere            969350 non-null  float64\n",
      " 1   code_departement           969350 non-null  object \n",
      " 2   surface_reelle_bati        969350 non-null  float64\n",
      " 3   nombre_pieces_principales  969350 non-null  float64\n",
      " 4   surface_terrain            969350 non-null  float64\n",
      " 5   Prix_m                     969350 non-null  int64  \n",
      " 6   latitude_r                 969350 non-null  float64\n",
      " 7   longitude_r                969350 non-null  float64\n",
      " 8   p_pop                      938450 non-null  float64\n",
      " 9   distance_moyenne           969350 non-null  float64\n",
      " 10  Prix_moyen_du_quartier     969350 non-null  float64\n",
      " 11  number_of_sales            969350 non-null  int64  \n",
      " 12  type_local_Appartement     969350 non-null  float64\n",
      " 13  type_local_Maison          969350 non-null  float64\n",
      "dtypes: float64(11), int64(2), object(1)\n",
      "memory usage: 110.9+ MB\n"
     ]
    }
   ],
   "source": [
    "all.info()"
   ]
  },
  {
   "cell_type": "code",
   "execution_count": 91,
   "metadata": {},
   "outputs": [],
   "source": [
    "all = all.dropna()"
   ]
  },
  {
   "cell_type": "code",
   "execution_count": 92,
   "metadata": {},
   "outputs": [
    {
     "name": "stdout",
     "output_type": "stream",
     "text": [
      "<class 'pandas.core.frame.DataFrame'>\n",
      "Index: 938450 entries, 0 to 671405\n",
      "Data columns (total 14 columns):\n",
      " #   Column                     Non-Null Count   Dtype  \n",
      "---  ------                     --------------   -----  \n",
      " 0   valeur_fonciere            938450 non-null  float64\n",
      " 1   code_departement           938450 non-null  object \n",
      " 2   surface_reelle_bati        938450 non-null  float64\n",
      " 3   nombre_pieces_principales  938450 non-null  float64\n",
      " 4   surface_terrain            938450 non-null  float64\n",
      " 5   Prix_m                     938450 non-null  int64  \n",
      " 6   latitude_r                 938450 non-null  float64\n",
      " 7   longitude_r                938450 non-null  float64\n",
      " 8   p_pop                      938450 non-null  float64\n",
      " 9   distance_moyenne           938450 non-null  float64\n",
      " 10  Prix_moyen_du_quartier     938450 non-null  float64\n",
      " 11  number_of_sales            938450 non-null  int64  \n",
      " 12  type_local_Appartement     938450 non-null  float64\n",
      " 13  type_local_Maison          938450 non-null  float64\n",
      "dtypes: float64(11), int64(2), object(1)\n",
      "memory usage: 107.4+ MB\n"
     ]
    }
   ],
   "source": [
    "all.info()"
   ]
  },
  {
   "cell_type": "code",
   "execution_count": 93,
   "metadata": {},
   "outputs": [
    {
     "data": {
      "image/png": "[encoded data removed]",
      "text/plain": [
       "<Figure size 1200x800 with 2 Axes>"
      ]
     },
     "metadata": {},
     "output_type": "display_data"
    }
   ],
   "source": [
    "import seaborn as sns\n",
    "import matplotlib.pyplot as plt\n",
    "\n",
    "# Assuming your DataFrame is named 'all'\n",
    "# Replace 'all' with the actual name of your DataFrame if it's different\n",
    "correlation_matrix = all.corr()\n",
    "\n",
    "# Set up the matplotlib figure\n",
    "plt.figure(figsize=(12, 8))\n",
    "\n",
    "# Draw the heatmap\n",
    "sns.heatmap(correlation_matrix, annot=True, fmt=\".2f\", cmap='coolwarm')\n",
    "\n",
    "# Show the plot\n",
    "plt.show()"
   ]
  },
  {
   "cell_type": "code",
   "execution_count": 94,
   "metadata": {},
   "outputs": [],
   "source": [
    "directory = \"data\"\n",
    "if not os.path.exists(directory):\n",
    "    os.makedirs(directory)\n",
    "    \n",
    "combined_csv_filename = os.path.join(directory, \"combined_properties_france.csv\")\n",
    "all.to_csv(combined_csv_filename, index=False, header=True)"
   ]
  },
  {
   "cell_type": "code",
   "execution_count": 1,
   "metadata": {},
   "outputs": [],
   "source": [
    "import pandas as pd\n",
    "import numpy as np\n",
    "import matplotlib.pyplot as plt\n",
    "import seaborn as sns\n",
    "all = pd.read_csv(\"data/combined_properties_france.csv\")\n"
   ]
  },
  {
   "cell_type": "code",
   "execution_count": 2,
   "metadata": {},
   "outputs": [
    {
     "name": "stdout",
     "output_type": "stream",
     "text": [
      "<class 'pandas.core.frame.DataFrame'>\n",
      "RangeIndex: 938450 entries, 0 to 938449\n",
      "Data columns (total 14 columns):\n",
      " #   Column                     Non-Null Count   Dtype  \n",
      "---  ------                     --------------   -----  \n",
      " 0   valeur_fonciere            938450 non-null  float64\n",
      " 1   code_departement           938450 non-null  int64  \n",
      " 2   surface_reelle_bati        938450 non-null  float64\n",
      " 3   nombre_pieces_principales  938450 non-null  float64\n",
      " 4   surface_terrain            938450 non-null  float64\n",
      " 5   Prix_m                     938450 non-null  int64  \n",
      " 6   latitude_r                 938450 non-null  float64\n",
      " 7   longitude_r                938450 non-null  float64\n",
      " 8   p_pop                      938450 non-null  float64\n",
      " 9   distance_moyenne           938450 non-null  float64\n",
      " 10  Prix_moyen_du_quartier     938450 non-null  float64\n",
      " 11  number_of_sales            938450 non-null  int64  \n",
      " 12  type_local_Appartement     938450 non-null  float64\n",
      " 13  type_local_Maison          938450 non-null  float64\n",
      "dtypes: float64(11), int64(3)\n",
      "memory usage: 100.2 MB\n"
     ]
    }
   ],
   "source": [
    "all.info()"
   ]
  },
  {
   "cell_type": "code",
   "execution_count": 3,
   "metadata": {},
   "outputs": [],
   "source": [
    "from sklearn.preprocessing import StandardScaler\n",
    "from sklearn.model_selection import train_test_split\n",
    "import pickle\n",
    "import numpy as np\n",
    "\n",
    "# Assuming 'all' is your DataFrame\n",
    "y = all[\"Prix_m\"].values\n",
    "X = all.drop(columns=[\"valeur_fonciere\", \"Prix_m\"]).values\n",
    "\n",
    "# Scale the features\n",
    "scaler = StandardScaler()\n",
    "X_scaled = scaler.fit_transform(X)\n",
    "\n",
    "# Randomly sample 10% of the data\n",
    "np.random.seed(42) # Ensure reproducibility\n",
    "indices = np.random.permutation(len(X_scaled))\n",
    "reduced_size = int(len(X_scaled) * 1) # 10% of the total data\n",
    "selected_indices = indices[:reduced_size]\n",
    "\n",
    "X_reduced = X_scaled[selected_indices]\n",
    "y_reduced = y[selected_indices]\n",
    "\n",
    "# Now, split the reduced dataset into training and test sets\n",
    "X_train, X_test, y_train, y_test = train_test_split(X_reduced, y_reduced, test_size=0.2, random_state=42)"
   ]
  },
  {
   "cell_type": "code",
   "execution_count": 8,
   "metadata": {},
   "outputs": [
    {
     "name": "stdout",
     "output_type": "stream",
     "text": [
      "Epoch 1/100\n",
      "18769/18769 [==============================] - 210s 11ms/step - loss: 12308596.0000 - mae: 2589.9329 - val_loss: 8447049.0000 - val_mae: 2130.2546\n",
      "Epoch 2/100\n",
      "18769/18769 [==============================] - 212s 11ms/step - loss: 5476719.0000 - mae: 1573.1011 - val_loss: 3071846.7500 - val_mae: 1173.7710\n",
      "Epoch 3/100\n",
      "18769/18769 [==============================] - 210s 11ms/step - loss: 3061089.2500 - mae: 933.7042 - val_loss: 2921394.5000 - val_mae: 1140.8263\n",
      "Epoch 4/100\n",
      "18769/18769 [==============================] - 210s 11ms/step - loss: 3192322.0000 - mae: 866.0272 - val_loss: 3202763.0000 - val_mae: 1173.6298\n",
      "Epoch 5/100\n",
      "14132/18769 [=====================>........] - ETA: 45s - loss: 6238278.0000 - mae: 860.8126"
     ]
    },
    {
     "ename": "KeyboardInterrupt",
     "evalue": "",
     "output_type": "error",
     "traceback": [
      "\u001b[0;31m---------------------------------------------------------------------------\u001b[0m",
      "\u001b[0;31mKeyboardInterrupt\u001b[0m                         Traceback (most recent call last)",
      "Cell \u001b[0;32mIn[8], line 20\u001b[0m\n\u001b[1;32m     16\u001b[0m model\u001b[38;5;241m.\u001b[39mcompile(optimizer\u001b[38;5;241m=\u001b[39moptimizer, loss\u001b[38;5;241m=\u001b[39m\u001b[38;5;124m'\u001b[39m\u001b[38;5;124mmean_squared_error\u001b[39m\u001b[38;5;124m'\u001b[39m, metrics\u001b[38;5;241m=\u001b[39m[\u001b[38;5;124m'\u001b[39m\u001b[38;5;124mmae\u001b[39m\u001b[38;5;124m'\u001b[39m])\n\u001b[1;32m     18\u001b[0m early_stopping \u001b[38;5;241m=\u001b[39m EarlyStopping(monitor\u001b[38;5;241m=\u001b[39m\u001b[38;5;124m'\u001b[39m\u001b[38;5;124mval_loss\u001b[39m\u001b[38;5;124m'\u001b[39m, patience\u001b[38;5;241m=\u001b[39m\u001b[38;5;241m10\u001b[39m, restore_best_weights\u001b[38;5;241m=\u001b[39m\u001b[38;5;28;01mTrue\u001b[39;00m)\n\u001b[0;32m---> 20\u001b[0m \u001b[43mmodel\u001b[49m\u001b[38;5;241;43m.\u001b[39;49m\u001b[43mfit\u001b[49m\u001b[43m(\u001b[49m\u001b[43mX_train\u001b[49m\u001b[43m,\u001b[49m\u001b[43m \u001b[49m\u001b[43my_train\u001b[49m\u001b[43m,\u001b[49m\u001b[43m \u001b[49m\u001b[43mvalidation_split\u001b[49m\u001b[38;5;241;43m=\u001b[39;49m\u001b[38;5;241;43m0.2\u001b[39;49m\u001b[43m,\u001b[49m\u001b[43m \u001b[49m\u001b[43mepochs\u001b[49m\u001b[38;5;241;43m=\u001b[39;49m\u001b[38;5;241;43m100\u001b[39;49m\u001b[43m,\u001b[49m\u001b[43m \u001b[49m\u001b[43mbatch_size\u001b[49m\u001b[38;5;241;43m=\u001b[39;49m\u001b[38;5;241;43m32\u001b[39;49m\u001b[43m,\u001b[49m\u001b[43m \u001b[49m\u001b[43mverbose\u001b[49m\u001b[38;5;241;43m=\u001b[39;49m\u001b[38;5;241;43m1\u001b[39;49m\u001b[43m,\u001b[49m\u001b[43m \u001b[49m\u001b[43mcallbacks\u001b[49m\u001b[38;5;241;43m=\u001b[39;49m\u001b[43m[\u001b[49m\u001b[43mearly_stopping\u001b[49m\u001b[43m]\u001b[49m\u001b[43m)\u001b[49m\n\u001b[1;32m     22\u001b[0m \u001b[38;5;66;03m# Evaluate the model on the test data\u001b[39;00m\n\u001b[1;32m     23\u001b[0m loss, mae \u001b[38;5;241m=\u001b[39m model\u001b[38;5;241m.\u001b[39mevaluate(X_test, y_test, verbose\u001b[38;5;241m=\u001b[39m\u001b[38;5;241m0\u001b[39m)\n",
      "File \u001b[0;32m~/venv-metal/lib/python3.9/site-packages/keras/src/utils/traceback_utils.py:65\u001b[0m, in \u001b[0;36mfilter_traceback.<locals>.error_handler\u001b[0;34m(*args, **kwargs)\u001b[0m\n\u001b[1;32m     63\u001b[0m filtered_tb \u001b[38;5;241m=\u001b[39m \u001b[38;5;28;01mNone\u001b[39;00m\n\u001b[1;32m     64\u001b[0m \u001b[38;5;28;01mtry\u001b[39;00m:\n\u001b[0;32m---> 65\u001b[0m     \u001b[38;5;28;01mreturn\u001b[39;00m \u001b[43mfn\u001b[49m\u001b[43m(\u001b[49m\u001b[38;5;241;43m*\u001b[39;49m\u001b[43margs\u001b[49m\u001b[43m,\u001b[49m\u001b[43m \u001b[49m\u001b[38;5;241;43m*\u001b[39;49m\u001b[38;5;241;43m*\u001b[39;49m\u001b[43mkwargs\u001b[49m\u001b[43m)\u001b[49m\n\u001b[1;32m     66\u001b[0m \u001b[38;5;28;01mexcept\u001b[39;00m \u001b[38;5;167;01mException\u001b[39;00m \u001b[38;5;28;01mas\u001b[39;00m e:\n\u001b[1;32m     67\u001b[0m     filtered_tb \u001b[38;5;241m=\u001b[39m _process_traceback_frames(e\u001b[38;5;241m.\u001b[39m__traceback__)\n",
      "File \u001b[0;32m~/venv-metal/lib/python3.9/site-packages/keras/src/engine/training.py:1807\u001b[0m, in \u001b[0;36mModel.fit\u001b[0;34m(self, x, y, batch_size, epochs, verbose, callbacks, validation_split, validation_data, shuffle, class_weight, sample_weight, initial_epoch, steps_per_epoch, validation_steps, validation_batch_size, validation_freq, max_queue_size, workers, use_multiprocessing)\u001b[0m\n\u001b[1;32m   1799\u001b[0m \u001b[38;5;28;01mwith\u001b[39;00m tf\u001b[38;5;241m.\u001b[39mprofiler\u001b[38;5;241m.\u001b[39mexperimental\u001b[38;5;241m.\u001b[39mTrace(\n\u001b[1;32m   1800\u001b[0m     \u001b[38;5;124m\"\u001b[39m\u001b[38;5;124mtrain\u001b[39m\u001b[38;5;124m\"\u001b[39m,\n\u001b[1;32m   1801\u001b[0m     epoch_num\u001b[38;5;241m=\u001b[39mepoch,\n\u001b[0;32m   (...)\u001b[0m\n\u001b[1;32m   1804\u001b[0m     _r\u001b[38;5;241m=\u001b[39m\u001b[38;5;241m1\u001b[39m,\n\u001b[1;32m   1805\u001b[0m ):\n\u001b[1;32m   1806\u001b[0m     callbacks\u001b[38;5;241m.\u001b[39mon_train_batch_begin(step)\n\u001b[0;32m-> 1807\u001b[0m     tmp_logs \u001b[38;5;241m=\u001b[39m \u001b[38;5;28;43mself\u001b[39;49m\u001b[38;5;241;43m.\u001b[39;49m\u001b[43mtrain_function\u001b[49m\u001b[43m(\u001b[49m\u001b[43miterator\u001b[49m\u001b[43m)\u001b[49m\n\u001b[1;32m   1808\u001b[0m     \u001b[38;5;28;01mif\u001b[39;00m data_handler\u001b[38;5;241m.\u001b[39mshould_sync:\n\u001b[1;32m   1809\u001b[0m         context\u001b[38;5;241m.\u001b[39masync_wait()\n",
      "File \u001b[0;32m~/venv-metal/lib/python3.9/site-packages/tensorflow/python/util/traceback_utils.py:150\u001b[0m, in \u001b[0;36mfilter_traceback.<locals>.error_handler\u001b[0;34m(*args, **kwargs)\u001b[0m\n\u001b[1;32m    148\u001b[0m filtered_tb \u001b[38;5;241m=\u001b[39m \u001b[38;5;28;01mNone\u001b[39;00m\n\u001b[1;32m    149\u001b[0m \u001b[38;5;28;01mtry\u001b[39;00m:\n\u001b[0;32m--> 150\u001b[0m   \u001b[38;5;28;01mreturn\u001b[39;00m \u001b[43mfn\u001b[49m\u001b[43m(\u001b[49m\u001b[38;5;241;43m*\u001b[39;49m\u001b[43margs\u001b[49m\u001b[43m,\u001b[49m\u001b[43m \u001b[49m\u001b[38;5;241;43m*\u001b[39;49m\u001b[38;5;241;43m*\u001b[39;49m\u001b[43mkwargs\u001b[49m\u001b[43m)\u001b[49m\n\u001b[1;32m    151\u001b[0m \u001b[38;5;28;01mexcept\u001b[39;00m \u001b[38;5;167;01mException\u001b[39;00m \u001b[38;5;28;01mas\u001b[39;00m e:\n\u001b[1;32m    152\u001b[0m   filtered_tb \u001b[38;5;241m=\u001b[39m _process_traceback_frames(e\u001b[38;5;241m.\u001b[39m__traceback__)\n",
      "File \u001b[0;32m~/venv-metal/lib/python3.9/site-packages/tensorflow/python/eager/polymorphic_function/polymorphic_function.py:832\u001b[0m, in \u001b[0;36mFunction.__call__\u001b[0;34m(self, *args, **kwds)\u001b[0m\n\u001b[1;32m    829\u001b[0m compiler \u001b[38;5;241m=\u001b[39m \u001b[38;5;124m\"\u001b[39m\u001b[38;5;124mxla\u001b[39m\u001b[38;5;124m\"\u001b[39m \u001b[38;5;28;01mif\u001b[39;00m \u001b[38;5;28mself\u001b[39m\u001b[38;5;241m.\u001b[39m_jit_compile \u001b[38;5;28;01melse\u001b[39;00m \u001b[38;5;124m\"\u001b[39m\u001b[38;5;124mnonXla\u001b[39m\u001b[38;5;124m\"\u001b[39m\n\u001b[1;32m    831\u001b[0m \u001b[38;5;28;01mwith\u001b[39;00m OptionalXlaContext(\u001b[38;5;28mself\u001b[39m\u001b[38;5;241m.\u001b[39m_jit_compile):\n\u001b[0;32m--> 832\u001b[0m   result \u001b[38;5;241m=\u001b[39m \u001b[38;5;28;43mself\u001b[39;49m\u001b[38;5;241;43m.\u001b[39;49m\u001b[43m_call\u001b[49m\u001b[43m(\u001b[49m\u001b[38;5;241;43m*\u001b[39;49m\u001b[43margs\u001b[49m\u001b[43m,\u001b[49m\u001b[43m \u001b[49m\u001b[38;5;241;43m*\u001b[39;49m\u001b[38;5;241;43m*\u001b[39;49m\u001b[43mkwds\u001b[49m\u001b[43m)\u001b[49m\n\u001b[1;32m    834\u001b[0m new_tracing_count \u001b[38;5;241m=\u001b[39m \u001b[38;5;28mself\u001b[39m\u001b[38;5;241m.\u001b[39mexperimental_get_tracing_count()\n\u001b[1;32m    835\u001b[0m without_tracing \u001b[38;5;241m=\u001b[39m (tracing_count \u001b[38;5;241m==\u001b[39m new_tracing_count)\n",
      "File \u001b[0;32m~/venv-metal/lib/python3.9/site-packages/tensorflow/python/eager/polymorphic_function/polymorphic_function.py:868\u001b[0m, in \u001b[0;36mFunction._call\u001b[0;34m(self, *args, **kwds)\u001b[0m\n\u001b[1;32m    865\u001b[0m   \u001b[38;5;28mself\u001b[39m\u001b[38;5;241m.\u001b[39m_lock\u001b[38;5;241m.\u001b[39mrelease()\n\u001b[1;32m    866\u001b[0m   \u001b[38;5;66;03m# In this case we have created variables on the first call, so we run the\u001b[39;00m\n\u001b[1;32m    867\u001b[0m   \u001b[38;5;66;03m# defunned version which is guaranteed to never create variables.\u001b[39;00m\n\u001b[0;32m--> 868\u001b[0m   \u001b[38;5;28;01mreturn\u001b[39;00m \u001b[43mtracing_compilation\u001b[49m\u001b[38;5;241;43m.\u001b[39;49m\u001b[43mcall_function\u001b[49m\u001b[43m(\u001b[49m\n\u001b[1;32m    869\u001b[0m \u001b[43m      \u001b[49m\u001b[43margs\u001b[49m\u001b[43m,\u001b[49m\u001b[43m \u001b[49m\u001b[43mkwds\u001b[49m\u001b[43m,\u001b[49m\u001b[43m \u001b[49m\u001b[38;5;28;43mself\u001b[39;49m\u001b[38;5;241;43m.\u001b[39;49m\u001b[43m_no_variable_creation_config\u001b[49m\n\u001b[1;32m    870\u001b[0m \u001b[43m  \u001b[49m\u001b[43m)\u001b[49m\n\u001b[1;32m    871\u001b[0m \u001b[38;5;28;01melif\u001b[39;00m \u001b[38;5;28mself\u001b[39m\u001b[38;5;241m.\u001b[39m_variable_creation_config \u001b[38;5;129;01mis\u001b[39;00m \u001b[38;5;129;01mnot\u001b[39;00m \u001b[38;5;28;01mNone\u001b[39;00m:\n\u001b[1;32m    872\u001b[0m   \u001b[38;5;66;03m# Release the lock early so that multiple threads can perform the call\u001b[39;00m\n\u001b[1;32m    873\u001b[0m   \u001b[38;5;66;03m# in parallel.\u001b[39;00m\n\u001b[1;32m    874\u001b[0m   \u001b[38;5;28mself\u001b[39m\u001b[38;5;241m.\u001b[39m_lock\u001b[38;5;241m.\u001b[39mrelease()\n",
      "File \u001b[0;32m~/venv-metal/lib/python3.9/site-packages/tensorflow/python/eager/polymorphic_function/tracing_compilation.py:139\u001b[0m, in \u001b[0;36mcall_function\u001b[0;34m(args, kwargs, tracing_options)\u001b[0m\n\u001b[1;32m    137\u001b[0m bound_args \u001b[38;5;241m=\u001b[39m function\u001b[38;5;241m.\u001b[39mfunction_type\u001b[38;5;241m.\u001b[39mbind(\u001b[38;5;241m*\u001b[39margs, \u001b[38;5;241m*\u001b[39m\u001b[38;5;241m*\u001b[39mkwargs)\n\u001b[1;32m    138\u001b[0m flat_inputs \u001b[38;5;241m=\u001b[39m function\u001b[38;5;241m.\u001b[39mfunction_type\u001b[38;5;241m.\u001b[39munpack_inputs(bound_args)\n\u001b[0;32m--> 139\u001b[0m \u001b[38;5;28;01mreturn\u001b[39;00m \u001b[43mfunction\u001b[49m\u001b[38;5;241;43m.\u001b[39;49m\u001b[43m_call_flat\u001b[49m\u001b[43m(\u001b[49m\u001b[43m  \u001b[49m\u001b[38;5;66;43;03m# pylint: disable=protected-access\u001b[39;49;00m\n\u001b[1;32m    140\u001b[0m \u001b[43m    \u001b[49m\u001b[43mflat_inputs\u001b[49m\u001b[43m,\u001b[49m\u001b[43m \u001b[49m\u001b[43mcaptured_inputs\u001b[49m\u001b[38;5;241;43m=\u001b[39;49m\u001b[43mfunction\u001b[49m\u001b[38;5;241;43m.\u001b[39;49m\u001b[43mcaptured_inputs\u001b[49m\n\u001b[1;32m    141\u001b[0m \u001b[43m\u001b[49m\u001b[43m)\u001b[49m\n",
      "File \u001b[0;32m~/venv-metal/lib/python3.9/site-packages/tensorflow/python/eager/polymorphic_function/concrete_function.py:1323\u001b[0m, in \u001b[0;36mConcreteFunction._call_flat\u001b[0;34m(self, tensor_inputs, captured_inputs)\u001b[0m\n\u001b[1;32m   1319\u001b[0m possible_gradient_type \u001b[38;5;241m=\u001b[39m gradients_util\u001b[38;5;241m.\u001b[39mPossibleTapeGradientTypes(args)\n\u001b[1;32m   1320\u001b[0m \u001b[38;5;28;01mif\u001b[39;00m (possible_gradient_type \u001b[38;5;241m==\u001b[39m gradients_util\u001b[38;5;241m.\u001b[39mPOSSIBLE_GRADIENT_TYPES_NONE\n\u001b[1;32m   1321\u001b[0m     \u001b[38;5;129;01mand\u001b[39;00m executing_eagerly):\n\u001b[1;32m   1322\u001b[0m   \u001b[38;5;66;03m# No tape is watching; skip to running the function.\u001b[39;00m\n\u001b[0;32m-> 1323\u001b[0m   \u001b[38;5;28;01mreturn\u001b[39;00m \u001b[38;5;28;43mself\u001b[39;49m\u001b[38;5;241;43m.\u001b[39;49m\u001b[43m_inference_function\u001b[49m\u001b[38;5;241;43m.\u001b[39;49m\u001b[43mcall_preflattened\u001b[49m\u001b[43m(\u001b[49m\u001b[43margs\u001b[49m\u001b[43m)\u001b[49m\n\u001b[1;32m   1324\u001b[0m forward_backward \u001b[38;5;241m=\u001b[39m \u001b[38;5;28mself\u001b[39m\u001b[38;5;241m.\u001b[39m_select_forward_and_backward_functions(\n\u001b[1;32m   1325\u001b[0m     args,\n\u001b[1;32m   1326\u001b[0m     possible_gradient_type,\n\u001b[1;32m   1327\u001b[0m     executing_eagerly)\n\u001b[1;32m   1328\u001b[0m forward_function, args_with_tangents \u001b[38;5;241m=\u001b[39m forward_backward\u001b[38;5;241m.\u001b[39mforward()\n",
      "File \u001b[0;32m~/venv-metal/lib/python3.9/site-packages/tensorflow/python/eager/polymorphic_function/atomic_function.py:216\u001b[0m, in \u001b[0;36mAtomicFunction.call_preflattened\u001b[0;34m(self, args)\u001b[0m\n\u001b[1;32m    214\u001b[0m \u001b[38;5;28;01mdef\u001b[39;00m \u001b[38;5;21mcall_preflattened\u001b[39m(\u001b[38;5;28mself\u001b[39m, args: Sequence[core\u001b[38;5;241m.\u001b[39mTensor]) \u001b[38;5;241m-\u001b[39m\u001b[38;5;241m>\u001b[39m Any:\n\u001b[1;32m    215\u001b[0m \u001b[38;5;250m  \u001b[39m\u001b[38;5;124;03m\"\"\"Calls with flattened tensor inputs and returns the structured output.\"\"\"\u001b[39;00m\n\u001b[0;32m--> 216\u001b[0m   flat_outputs \u001b[38;5;241m=\u001b[39m \u001b[38;5;28;43mself\u001b[39;49m\u001b[38;5;241;43m.\u001b[39;49m\u001b[43mcall_flat\u001b[49m\u001b[43m(\u001b[49m\u001b[38;5;241;43m*\u001b[39;49m\u001b[43margs\u001b[49m\u001b[43m)\u001b[49m\n\u001b[1;32m    217\u001b[0m   \u001b[38;5;28;01mreturn\u001b[39;00m \u001b[38;5;28mself\u001b[39m\u001b[38;5;241m.\u001b[39mfunction_type\u001b[38;5;241m.\u001b[39mpack_output(flat_outputs)\n",
      "File \u001b[0;32m~/venv-metal/lib/python3.9/site-packages/tensorflow/python/eager/polymorphic_function/atomic_function.py:251\u001b[0m, in \u001b[0;36mAtomicFunction.call_flat\u001b[0;34m(self, *args)\u001b[0m\n\u001b[1;32m    249\u001b[0m \u001b[38;5;28;01mwith\u001b[39;00m record\u001b[38;5;241m.\u001b[39mstop_recording():\n\u001b[1;32m    250\u001b[0m   \u001b[38;5;28;01mif\u001b[39;00m \u001b[38;5;28mself\u001b[39m\u001b[38;5;241m.\u001b[39m_bound_context\u001b[38;5;241m.\u001b[39mexecuting_eagerly():\n\u001b[0;32m--> 251\u001b[0m     outputs \u001b[38;5;241m=\u001b[39m \u001b[38;5;28;43mself\u001b[39;49m\u001b[38;5;241;43m.\u001b[39;49m\u001b[43m_bound_context\u001b[49m\u001b[38;5;241;43m.\u001b[39;49m\u001b[43mcall_function\u001b[49m\u001b[43m(\u001b[49m\n\u001b[1;32m    252\u001b[0m \u001b[43m        \u001b[49m\u001b[38;5;28;43mself\u001b[39;49m\u001b[38;5;241;43m.\u001b[39;49m\u001b[43mname\u001b[49m\u001b[43m,\u001b[49m\n\u001b[1;32m    253\u001b[0m \u001b[43m        \u001b[49m\u001b[38;5;28;43mlist\u001b[39;49m\u001b[43m(\u001b[49m\u001b[43margs\u001b[49m\u001b[43m)\u001b[49m\u001b[43m,\u001b[49m\n\u001b[1;32m    254\u001b[0m \u001b[43m        \u001b[49m\u001b[38;5;28;43mlen\u001b[39;49m\u001b[43m(\u001b[49m\u001b[38;5;28;43mself\u001b[39;49m\u001b[38;5;241;43m.\u001b[39;49m\u001b[43mfunction_type\u001b[49m\u001b[38;5;241;43m.\u001b[39;49m\u001b[43mflat_outputs\u001b[49m\u001b[43m)\u001b[49m\u001b[43m,\u001b[49m\n\u001b[1;32m    255\u001b[0m \u001b[43m    \u001b[49m\u001b[43m)\u001b[49m\n\u001b[1;32m    256\u001b[0m   \u001b[38;5;28;01melse\u001b[39;00m:\n\u001b[1;32m    257\u001b[0m     outputs \u001b[38;5;241m=\u001b[39m make_call_op_in_graph(\n\u001b[1;32m    258\u001b[0m         \u001b[38;5;28mself\u001b[39m,\n\u001b[1;32m    259\u001b[0m         \u001b[38;5;28mlist\u001b[39m(args),\n\u001b[1;32m    260\u001b[0m         \u001b[38;5;28mself\u001b[39m\u001b[38;5;241m.\u001b[39m_bound_context\u001b[38;5;241m.\u001b[39mfunction_call_options\u001b[38;5;241m.\u001b[39mas_attrs(),\n\u001b[1;32m    261\u001b[0m     )\n",
      "File \u001b[0;32m~/venv-metal/lib/python3.9/site-packages/tensorflow/python/eager/context.py:1486\u001b[0m, in \u001b[0;36mContext.call_function\u001b[0;34m(self, name, tensor_inputs, num_outputs)\u001b[0m\n\u001b[1;32m   1484\u001b[0m cancellation_context \u001b[38;5;241m=\u001b[39m cancellation\u001b[38;5;241m.\u001b[39mcontext()\n\u001b[1;32m   1485\u001b[0m \u001b[38;5;28;01mif\u001b[39;00m cancellation_context \u001b[38;5;129;01mis\u001b[39;00m \u001b[38;5;28;01mNone\u001b[39;00m:\n\u001b[0;32m-> 1486\u001b[0m   outputs \u001b[38;5;241m=\u001b[39m \u001b[43mexecute\u001b[49m\u001b[38;5;241;43m.\u001b[39;49m\u001b[43mexecute\u001b[49m\u001b[43m(\u001b[49m\n\u001b[1;32m   1487\u001b[0m \u001b[43m      \u001b[49m\u001b[43mname\u001b[49m\u001b[38;5;241;43m.\u001b[39;49m\u001b[43mdecode\u001b[49m\u001b[43m(\u001b[49m\u001b[38;5;124;43m\"\u001b[39;49m\u001b[38;5;124;43mutf-8\u001b[39;49m\u001b[38;5;124;43m\"\u001b[39;49m\u001b[43m)\u001b[49m\u001b[43m,\u001b[49m\n\u001b[1;32m   1488\u001b[0m \u001b[43m      \u001b[49m\u001b[43mnum_outputs\u001b[49m\u001b[38;5;241;43m=\u001b[39;49m\u001b[43mnum_outputs\u001b[49m\u001b[43m,\u001b[49m\n\u001b[1;32m   1489\u001b[0m \u001b[43m      \u001b[49m\u001b[43minputs\u001b[49m\u001b[38;5;241;43m=\u001b[39;49m\u001b[43mtensor_inputs\u001b[49m\u001b[43m,\u001b[49m\n\u001b[1;32m   1490\u001b[0m \u001b[43m      \u001b[49m\u001b[43mattrs\u001b[49m\u001b[38;5;241;43m=\u001b[39;49m\u001b[43mattrs\u001b[49m\u001b[43m,\u001b[49m\n\u001b[1;32m   1491\u001b[0m \u001b[43m      \u001b[49m\u001b[43mctx\u001b[49m\u001b[38;5;241;43m=\u001b[39;49m\u001b[38;5;28;43mself\u001b[39;49m\u001b[43m,\u001b[49m\n\u001b[1;32m   1492\u001b[0m \u001b[43m  \u001b[49m\u001b[43m)\u001b[49m\n\u001b[1;32m   1493\u001b[0m \u001b[38;5;28;01melse\u001b[39;00m:\n\u001b[1;32m   1494\u001b[0m   outputs \u001b[38;5;241m=\u001b[39m execute\u001b[38;5;241m.\u001b[39mexecute_with_cancellation(\n\u001b[1;32m   1495\u001b[0m       name\u001b[38;5;241m.\u001b[39mdecode(\u001b[38;5;124m\"\u001b[39m\u001b[38;5;124mutf-8\u001b[39m\u001b[38;5;124m\"\u001b[39m),\n\u001b[1;32m   1496\u001b[0m       num_outputs\u001b[38;5;241m=\u001b[39mnum_outputs,\n\u001b[0;32m   (...)\u001b[0m\n\u001b[1;32m   1500\u001b[0m       cancellation_manager\u001b[38;5;241m=\u001b[39mcancellation_context,\n\u001b[1;32m   1501\u001b[0m   )\n",
      "File \u001b[0;32m~/venv-metal/lib/python3.9/site-packages/tensorflow/python/eager/execute.py:53\u001b[0m, in \u001b[0;36mquick_execute\u001b[0;34m(op_name, num_outputs, inputs, attrs, ctx, name)\u001b[0m\n\u001b[1;32m     51\u001b[0m \u001b[38;5;28;01mtry\u001b[39;00m:\n\u001b[1;32m     52\u001b[0m   ctx\u001b[38;5;241m.\u001b[39mensure_initialized()\n\u001b[0;32m---> 53\u001b[0m   tensors \u001b[38;5;241m=\u001b[39m \u001b[43mpywrap_tfe\u001b[49m\u001b[38;5;241;43m.\u001b[39;49m\u001b[43mTFE_Py_Execute\u001b[49m\u001b[43m(\u001b[49m\u001b[43mctx\u001b[49m\u001b[38;5;241;43m.\u001b[39;49m\u001b[43m_handle\u001b[49m\u001b[43m,\u001b[49m\u001b[43m \u001b[49m\u001b[43mdevice_name\u001b[49m\u001b[43m,\u001b[49m\u001b[43m \u001b[49m\u001b[43mop_name\u001b[49m\u001b[43m,\u001b[49m\n\u001b[1;32m     54\u001b[0m \u001b[43m                                      \u001b[49m\u001b[43minputs\u001b[49m\u001b[43m,\u001b[49m\u001b[43m \u001b[49m\u001b[43mattrs\u001b[49m\u001b[43m,\u001b[49m\u001b[43m \u001b[49m\u001b[43mnum_outputs\u001b[49m\u001b[43m)\u001b[49m\n\u001b[1;32m     55\u001b[0m \u001b[38;5;28;01mexcept\u001b[39;00m core\u001b[38;5;241m.\u001b[39m_NotOkStatusException \u001b[38;5;28;01mas\u001b[39;00m e:\n\u001b[1;32m     56\u001b[0m   \u001b[38;5;28;01mif\u001b[39;00m name \u001b[38;5;129;01mis\u001b[39;00m \u001b[38;5;129;01mnot\u001b[39;00m \u001b[38;5;28;01mNone\u001b[39;00m:\n",
      "\u001b[0;31mKeyboardInterrupt\u001b[0m: "
     ]
    }
   ],
   "source": [
    "from tensorflow.keras.models import Sequential\n",
    "from tensorflow.keras.layers import Dense, Conv1D, Flatten, MaxPooling1D, Dropout\n",
    "from tensorflow.keras.optimizers import legacy\n",
    "from tensorflow.keras.callbacks import EarlyStopping\n",
    "from tensorflow.keras.regularizers import l2\n",
    "\n",
    "model = Sequential([\n",
    "    Dense(128, activation='relu', input_shape=(X_train.shape[1],), kernel_regularizer=l2(0.001)),\n",
    "    Dropout(0.3),\n",
    "    Dense(64, activation='relu', kernel_regularizer=l2(0.001)),\n",
    "    Dropout(0.2),\n",
    "    Dense(1)\n",
    "])\n",
    "\n",
    "optimizer = legacy.Adam(learning_rate=0.0001)\n",
    "model.compile(optimizer=optimizer, loss='mean_squared_error', metrics=['mae'])\n",
    "\n",
    "early_stopping = EarlyStopping(monitor='val_loss', patience=10, restore_best_weights=True)\n",
    "\n",
    "model.fit(X_train, y_train, validation_split=0.2, epochs=100, batch_size=32, verbose=1, callbacks=[early_stopping])\n",
    "\n",
    "# Evaluate the model on the test data\n",
    "loss, mae = model.evaluate(X_test, y_test, verbose=0)\n",
    "print(f'Test Loss: {loss}, Test MAE: {mae}')\n"
   ]
  },
  {
   "cell_type": "code",
   "execution_count": 12,
   "metadata": {},
   "outputs": [
    {
     "name": "stdout",
     "output_type": "stream",
     "text": [
      "Epoch 1/100\n",
      "18765/18769 [============================>.] - ETA: 0s - loss: 0.0253 - mae: 0.0253\n",
      "Epoch 1: val_loss improved from inf to 0.00071, saving model to best_model.h5\n",
      "18769/18769 [==============================] - 213s 11ms/step - loss: 0.0253 - mae: 0.0253 - val_loss: 7.1430e-04 - val_mae: 0.0127\n",
      "Epoch 2/100\n",
      "   16/18769 [..............................] - ETA: 3:17 - loss: 5.8034e-04 - mae: 0.0118"
     ]
    },
    {
     "name": "stderr",
     "output_type": "stream",
     "text": [
      "/Users/arthurdesmazures/venv-metal/lib/python3.9/site-packages/keras/src/engine/training.py:3103: UserWarning: You are saving your model as an HDF5 file via `model.save()`. This file format is considered legacy. We recommend using instead the native Keras format, e.g. `model.save('my_model.keras')`.\n",
      "  saving_api.save_model(\n"
     ]
    },
    {
     "name": "stdout",
     "output_type": "stream",
     "text": [
      "18766/18769 [============================>.] - ETA: 0s - loss: 5.0294e-04 - mae: 0.0121\n",
      "Epoch 2: val_loss improved from 0.00071 to 0.00060, saving model to best_model.h5\n",
      "18769/18769 [==============================] - 211s 11ms/step - loss: 5.0290e-04 - mae: 0.0121 - val_loss: 6.0289e-04 - val_mae: 0.0145\n",
      "Epoch 3/100\n",
      "18767/18769 [============================>.] - ETA: 0s - loss: 5.0274e-04 - mae: 0.0123\n",
      "Epoch 3: val_loss improved from 0.00060 to 0.00048, saving model to best_model.h5\n",
      "18769/18769 [==============================] - 211s 11ms/step - loss: 5.0273e-04 - mae: 0.0123 - val_loss: 4.7965e-04 - val_mae: 0.0121\n",
      "Epoch 4/100\n",
      "18764/18769 [============================>.] - ETA: 0s - loss: 5.3583e-04 - mae: 0.0129\n",
      "Epoch 4: val_loss did not improve from 0.00048\n",
      "18769/18769 [==============================] - 213s 11ms/step - loss: 5.3579e-04 - mae: 0.0129 - val_loss: 5.0243e-04 - val_mae: 0.0120\n",
      "Epoch 5/100\n",
      "18769/18769 [==============================] - ETA: 0s - loss: 5.3457e-04 - mae: 0.0129\n",
      "Epoch 5: val_loss improved from 0.00048 to 0.00048, saving model to best_model.h5\n",
      "18769/18769 [==============================] - 210s 11ms/step - loss: 5.3457e-04 - mae: 0.0129 - val_loss: 4.7609e-04 - val_mae: 0.0112\n",
      "Epoch 6/100\n",
      "18769/18769 [==============================] - ETA: 0s - loss: 5.2528e-04 - mae: 0.0127\n",
      "Epoch 6: val_loss did not improve from 0.00048\n",
      "18769/18769 [==============================] - 214s 11ms/step - loss: 5.2528e-04 - mae: 0.0127 - val_loss: 5.1205e-04 - val_mae: 0.0127\n",
      "Epoch 7/100\n",
      "18767/18769 [============================>.] - ETA: 0s - loss: 5.3009e-04 - mae: 0.0128\n",
      "Epoch 7: val_loss did not improve from 0.00048\n",
      "18769/18769 [==============================] - 209s 11ms/step - loss: 5.3009e-04 - mae: 0.0128 - val_loss: 6.2829e-04 - val_mae: 0.0174\n",
      "Epoch 8/100\n",
      "18766/18769 [============================>.] - ETA: 0s - loss: 5.3662e-04 - mae: 0.0127\n",
      "Epoch 8: val_loss did not improve from 0.00048\n",
      "18769/18769 [==============================] - 201s 11ms/step - loss: 5.3658e-04 - mae: 0.0127 - val_loss: 5.4006e-04 - val_mae: 0.0136\n",
      "Epoch 9/100\n",
      "18765/18769 [============================>.] - ETA: 0s - loss: 5.2407e-04 - mae: 0.0127\n",
      "Epoch 9: val_loss did not improve from 0.00048\n",
      "18769/18769 [==============================] - 210s 11ms/step - loss: 5.2404e-04 - mae: 0.0127 - val_loss: 4.7646e-04 - val_mae: 0.0122\n",
      "Epoch 10/100\n",
      "18767/18769 [============================>.] - ETA: 0s - loss: 5.1923e-04 - mae: 0.0127\n",
      "Epoch 10: val_loss did not improve from 0.00048\n",
      "18769/18769 [==============================] - 211s 11ms/step - loss: 5.1921e-04 - mae: 0.0127 - val_loss: 4.8268e-04 - val_mae: 0.0117\n",
      "Epoch 11/100\n",
      "18764/18769 [============================>.] - ETA: 0s - loss: 5.3368e-04 - mae: 0.0128\n",
      "Epoch 11: val_loss did not improve from 0.00048\n",
      "18769/18769 [==============================] - 207s 11ms/step - loss: 5.3365e-04 - mae: 0.0128 - val_loss: 4.7919e-04 - val_mae: 0.0120\n",
      "Epoch 12/100\n",
      "18769/18769 [==============================] - ETA: 0s - loss: 5.2428e-04 - mae: 0.0128\n",
      "Epoch 12: val_loss did not improve from 0.00048\n",
      "18769/18769 [==============================] - 206s 11ms/step - loss: 5.2428e-04 - mae: 0.0128 - val_loss: 6.1413e-04 - val_mae: 0.0170\n",
      "Epoch 13/100\n",
      "18767/18769 [============================>.] - ETA: 0s - loss: 5.3402e-04 - mae: 0.0128\n",
      "Epoch 13: val_loss did not improve from 0.00048\n",
      "18769/18769 [==============================] - 207s 11ms/step - loss: 5.3402e-04 - mae: 0.0128 - val_loss: 5.8982e-04 - val_mae: 0.0158\n",
      "Epoch 14/100\n",
      "18769/18769 [==============================] - ETA: 0s - loss: 5.2632e-04 - mae: 0.0128\n",
      "Epoch 14: val_loss did not improve from 0.00048\n",
      "18769/18769 [==============================] - 205s 11ms/step - loss: 5.2632e-04 - mae: 0.0128 - val_loss: 5.4805e-04 - val_mae: 0.0132\n",
      "Epoch 15/100\n",
      "18768/18769 [============================>.] - ETA: 0s - loss: 5.3400e-04 - mae: 0.0128\n",
      "Epoch 15: val_loss did not improve from 0.00048\n",
      "18769/18769 [==============================] - 206s 11ms/step - loss: 5.3399e-04 - mae: 0.0128 - val_loss: 5.1223e-04 - val_mae: 0.0120\n",
      "Test Loss: 0.00048496644012629986, Test MAE: 0.01111568696796894\n",
      "5866/5866 [==============================] - 6s 1ms/step\n"
     ]
    }
   ],
   "source": [
    "import numpy as np\n",
    "import pandas as pd\n",
    "from sklearn.model_selection import train_test_split\n",
    "from sklearn.preprocessing import MinMaxScaler, StandardScaler\n",
    "from tensorflow.keras.models import Sequential\n",
    "from tensorflow.keras.layers import Dense\n",
    "from tensorflow.keras.optimizers import legacy\n",
    "from tensorflow.keras.callbacks import EarlyStopping, ModelCheckpoint\n",
    "\n",
    "# Assuming 'df' is your DataFrame and 'Prix_m' is the target variable\n",
    "\n",
    "# Separate features and target\n",
    "X = all.drop(columns=[\"valeur_fonciere\", \"Prix_m\"]).values\n",
    "y = all['Prix_m'].values  # Target variable: house prices\n",
    "\n",
    "# Reshape target variable to 2D array for Scikit-Learn compatibility\n",
    "y = y.reshape(-1, 1)\n",
    "\n",
    "# Normalize the features\n",
    "feature_scaler = StandardScaler()\n",
    "X_scaled = feature_scaler.fit_transform(X)\n",
    "\n",
    "# Normalize the target variable to range [0, 1]\n",
    "target_scaler = MinMaxScaler(feature_range=(0, 1))\n",
    "y_normalized = target_scaler.fit_transform(y)\n",
    "\n",
    "X_train, X_test, y_train, y_test = train_test_split(X_scaled, y_normalized, test_size=0.2, random_state=42)\n",
    "\n",
    "# Model architecture\n",
    "model = Sequential([\n",
    "    Dense(128, activation='relu', input_shape=(X_train.shape[1],), kernel_regularizer=l2(0.001)),\n",
    "    Dropout(0.3),\n",
    "    Dense(64, activation='relu', kernel_regularizer=l2(0.001)),\n",
    "    Dropout(0.2),\n",
    "    Dense(1)  # Output layer for regression tasks\n",
    "])\n",
    "\n",
    "# Use the legacy version of Adam optimizer with a lower learning rate\n",
    "optimizer = legacy.Adam(learning_rate=0.0005)\n",
    "\n",
    "model.compile(optimizer=optimizer, loss='mean_squared_error', metrics=['mae'])\n",
    "\n",
    "# EarlyStopping to halt training when validation loss ceases to decrease\n",
    "early_stopping = EarlyStopping(monitor='val_loss', patience=10, restore_best_weights=True)\n",
    "\n",
    "# ModelCheckpoint to save the model after every epoch where val_loss has improved\n",
    "model_checkpoint = ModelCheckpoint('best_model.h5', monitor='val_loss', save_best_only=True, verbose=1)\n",
    "\n",
    "history = model.fit(\n",
    "    X_train, y_train,\n",
    "    validation_split=0.2,\n",
    "    epochs=100,\n",
    "    batch_size=32,\n",
    "    verbose=1,\n",
    "    callbacks=[early_stopping, model_checkpoint]\n",
    ")\n",
    "\n",
    "# Evaluate model performance on the test set\n",
    "test_loss, test_mae = model.evaluate(X_test, y_test, verbose=0)\n",
    "print(f'Test Loss: {test_loss}, Test MAE: {test_mae}')\n",
    "\n",
    "# Assuming you have some predictions\n",
    "predictions_normalized = model.predict(X_test)\n",
    "\n",
    "# Inverse transform to original scale\n",
    "predictions = target_scaler.inverse_transform(predictions_normalized)"
   ]
  },
  {
   "cell_type": "code",
   "execution_count": 16,
   "metadata": {},
   "outputs": [
    {
     "name": "stderr",
     "output_type": "stream",
     "text": [
      "/Users/arthurdesmazures/venv-metal/lib/python3.9/site-packages/keras/src/engine/training.py:3103: UserWarning: You are saving your model as an HDF5 file via `model.save()`. This file format is considered legacy. We recommend using instead the native Keras format, e.g. `model.save('my_model.keras')`.\n",
      "  saving_api.save_model(\n"
     ]
    },
    {
     "name": "stdout",
     "output_type": "stream",
     "text": [
      "INFO:tensorflow:Assets written to: my_model/assets\n"
     ]
    },
    {
     "name": "stderr",
     "output_type": "stream",
     "text": [
      "INFO:tensorflow:Assets written to: my_model/assets\n"
     ]
    }
   ],
   "source": [
    "model.save('my_model.h5')  # Saves the model as 'my_model.h5'\n",
    "model.save('my_model')  # Saves the model in the SavedModel format in a directory named 'my_model'"
   ]
  },
  {
   "cell_type": "code",
   "execution_count": 17,
   "metadata": {},
   "outputs": [
    {
     "data": {
      "image/png": "[encoded data removed]",
      "text/plain": [
       "<Figure size 640x480 with 1 Axes>"
      ]
     },
     "metadata": {},
     "output_type": "display_data"
    }
   ],
   "source": [
    "import matplotlib.pyplot as plt\n",
    "\n",
    "# Assuming 'history' is the object returned by the 'fit' method of your model\n",
    "# It contains training and validation loss values under 'loss' and 'val_loss' keys, respectively.\n",
    "\n",
    "# Plotting training and validation loss\n",
    "plt.plot(history.history['loss'], label='Training Loss')\n",
    "plt.plot(history.history['val_loss'], label='Validation Loss')\n",
    "plt.title('Model Loss')\n",
    "plt.ylabel('Loss')\n",
    "plt.xlabel('Epoch')\n",
    "plt.legend(loc='upper right')\n",
    "plt.show()\n"
   ]
  },
  {
   "cell_type": "code",
   "execution_count": 18,
   "metadata": {},
   "outputs": [
    {
     "name": "stdout",
     "output_type": "stream",
     "text": [
      "5866/5866 [==============================] - 7s 1ms/step\n",
      "Mean Absolute Error (MAE): 825.6850230619715\n"
     ]
    }
   ],
   "source": [
    "from sklearn.metrics import mean_absolute_error\n",
    "\n",
    "# Predicting the target values for the test set\n",
    "y_pred = model.predict(X_test)\n",
    "\n",
    "# Inverse transform the predictions and actual values if they were normalized\n",
    "y_pred_inverse = target_scaler.inverse_transform(y_pred)\n",
    "y_test_inverse = target_scaler.inverse_transform(y_test)\n",
    "\n",
    "# Calculate MAE\n",
    "mae = mean_absolute_error(y_test_inverse, y_pred_inverse)\n",
    "print(f'Mean Absolute Error (MAE): {mae}')\n"
   ]
  },
  {
   "cell_type": "code",
   "execution_count": 19,
   "metadata": {},
   "outputs": [
    {
     "name": "stdout",
     "output_type": "stream",
     "text": [
      "Root Mean Squared Error (RMSE): 1475.2435567202322\n"
     ]
    }
   ],
   "source": [
    "from sklearn.metrics import mean_squared_error\n",
    "import numpy as np\n",
    "\n",
    "# Calculate RMSE\n",
    "rmse = np.sqrt(mean_squared_error(y_test_inverse, y_pred_inverse))\n",
    "print(f'Root Mean Squared Error (RMSE): {rmse}')\n"
   ]
  },
  {
   "cell_type": "markdown",
   "metadata": {},
   "source": [
    "## AI APLICATION ##"
   ]
  },
  {
   "cell_type": "code",
   "execution_count": 20,
   "metadata": {},
   "outputs": [],
   "source": [
    "from tensorflow.keras.models import load_model\n",
    "\n",
    "# Load a model from HDF5 file\n",
    "model_h5 = load_model('my_model.h5')\n",
    "\n",
    "# Load a model from a SavedModel directory\n",
    "model_saved_model = load_model('my_model')\n"
   ]
  },
  {
   "cell_type": "code",
   "execution_count": 21,
   "metadata": {},
   "outputs": [],
   "source": [
    "def find_nearest_properties_mean(latitude, longitude, model, all_properties, property_type, k=10, max_attempts=10):\n",
    "    attempt = 0\n",
    "    mean_price = None\n",
    "\n",
    "    while attempt < max_attempts:\n",
    "        # Query the model for nearest properties\n",
    "        dist, indices = model.query(np.array([[latitude, longitude]]), k=k)\n",
    "\n",
    "        # Get the nearest properties\n",
    "        nearest_properties = all_properties.iloc[indices[0]]\n",
    "\n",
    "        # Filter properties by type\n",
    "        filtered_properties = nearest_properties[nearest_properties['type_local'] == property_type]\n",
    "\n",
    "        # Check if there are at least 10 properties\n",
    "        if len(filtered_properties) >= 10:\n",
    "            # Calculate average price based on the 10 nearest properties of the specified type\n",
    "            mean_price = filtered_properties.head(10)['Prix_m'].mean()\n",
    "            break\n",
    "        else:\n",
    "            # Increase k by 100 for the next attempt\n",
    "            k += 20\n",
    "            attempt += 1\n",
    "\n",
    "    return mean_price\n"
   ]
  },
  {
   "cell_type": "code",
   "execution_count": 22,
   "metadata": {},
   "outputs": [],
   "source": [
    "def calculate_distance_moyenne(latitude, longitude, model, k=10):\n",
    "    \n",
    "    # Query the model for nearest properties\n",
    "    dist, indices = model.query(np.array([[latitude, longitude]]), k=k)\n",
    "\n",
    "    # Calculate the mean distance (excluding the first element which is zero)\n",
    "    mean_distance = np.mean(dist[0][1:]) * 6371 # Convert to meters\n",
    "\n",
    "    return mean_distance\n"
   ]
  },
  {
   "cell_type": "code",
   "execution_count": 23,
   "metadata": {},
   "outputs": [
    {
     "ename": "KeyError",
     "evalue": "'type_local'",
     "output_type": "error",
     "traceback": [
      "\u001b[0;31m---------------------------------------------------------------------------\u001b[0m",
      "\u001b[0;31mKeyError\u001b[0m                                  Traceback (most recent call last)",
      "File \u001b[0;32m~/venv-metal/lib/python3.9/site-packages/pandas/core/indexes/base.py:3802\u001b[0m, in \u001b[0;36mIndex.get_loc\u001b[0;34m(self, key)\u001b[0m\n\u001b[1;32m   3801\u001b[0m \u001b[38;5;28;01mtry\u001b[39;00m:\n\u001b[0;32m-> 3802\u001b[0m     \u001b[38;5;28;01mreturn\u001b[39;00m \u001b[38;5;28;43mself\u001b[39;49m\u001b[38;5;241;43m.\u001b[39;49m\u001b[43m_engine\u001b[49m\u001b[38;5;241;43m.\u001b[39;49m\u001b[43mget_loc\u001b[49m\u001b[43m(\u001b[49m\u001b[43mcasted_key\u001b[49m\u001b[43m)\u001b[49m\n\u001b[1;32m   3803\u001b[0m \u001b[38;5;28;01mexcept\u001b[39;00m \u001b[38;5;167;01mKeyError\u001b[39;00m \u001b[38;5;28;01mas\u001b[39;00m err:\n",
      "File \u001b[0;32mindex.pyx:153\u001b[0m, in \u001b[0;36mpandas._libs.index.IndexEngine.get_loc\u001b[0;34m()\u001b[0m\n",
      "File \u001b[0;32mindex.pyx:182\u001b[0m, in \u001b[0;36mpandas._libs.index.IndexEngine.get_loc\u001b[0;34m()\u001b[0m\n",
      "File \u001b[0;32mpandas/_libs/hashtable_class_helper.pxi:7081\u001b[0m, in \u001b[0;36mpandas._libs.hashtable.PyObjectHashTable.get_item\u001b[0;34m()\u001b[0m\n",
      "File \u001b[0;32mpandas/_libs/hashtable_class_helper.pxi:7089\u001b[0m, in \u001b[0;36mpandas._libs.hashtable.PyObjectHashTable.get_item\u001b[0;34m()\u001b[0m\n",
      "\u001b[0;31mKeyError\u001b[0m: 'type_local'",
      "\nThe above exception was the direct cause of the following exception:\n",
      "\u001b[0;31mKeyError\u001b[0m                                  Traceback (most recent call last)",
      "Cell \u001b[0;32mIn[23], line 22\u001b[0m\n\u001b[1;32m     19\u001b[0m longitude_r \u001b[38;5;241m=\u001b[39m np\u001b[38;5;241m.\u001b[39mdeg2rad(c2)\n\u001b[1;32m     21\u001b[0m \u001b[38;5;66;03m# Assuming functions 'find_nearest_properties_mean' and 'calculate_distance_moyenne' are defined\u001b[39;00m\n\u001b[0;32m---> 22\u001b[0m Prix_moyen_du_quartier \u001b[38;5;241m=\u001b[39m \u001b[43mfind_nearest_properties_mean\u001b[49m\u001b[43m(\u001b[49m\u001b[43mlatitude_r\u001b[49m\u001b[43m,\u001b[49m\u001b[43m \u001b[49m\u001b[43mlongitude_r\u001b[49m\u001b[43m,\u001b[49m\u001b[43m \u001b[49m\u001b[43mballtree_model\u001b[49m\u001b[43m,\u001b[49m\u001b[43m \u001b[49m\u001b[43mproperties_data\u001b[49m\u001b[43m,\u001b[49m\u001b[43m \u001b[49m\u001b[38;5;124;43m\"\u001b[39;49m\u001b[38;5;124;43mMaison\u001b[39;49m\u001b[38;5;124;43m\"\u001b[39;49m\u001b[43m)\u001b[49m\n\u001b[1;32m     23\u001b[0m distance_moyenne \u001b[38;5;241m=\u001b[39m calculate_distance_moyenne(latitude_r, longitude_r, balltree_model)\n\u001b[1;32m     25\u001b[0m \u001b[38;5;66;03m# Example property details\u001b[39;00m\n",
      "Cell \u001b[0;32mIn[21], line 13\u001b[0m, in \u001b[0;36mfind_nearest_properties_mean\u001b[0;34m(latitude, longitude, model, all_properties, property_type, k, max_attempts)\u001b[0m\n\u001b[1;32m     10\u001b[0m nearest_properties \u001b[38;5;241m=\u001b[39m all_properties\u001b[38;5;241m.\u001b[39miloc[indices[\u001b[38;5;241m0\u001b[39m]]\n\u001b[1;32m     12\u001b[0m \u001b[38;5;66;03m# Filter properties by type\u001b[39;00m\n\u001b[0;32m---> 13\u001b[0m filtered_properties \u001b[38;5;241m=\u001b[39m nearest_properties[\u001b[43mnearest_properties\u001b[49m\u001b[43m[\u001b[49m\u001b[38;5;124;43m'\u001b[39;49m\u001b[38;5;124;43mtype_local\u001b[39;49m\u001b[38;5;124;43m'\u001b[39;49m\u001b[43m]\u001b[49m \u001b[38;5;241m==\u001b[39m property_type]\n\u001b[1;32m     15\u001b[0m \u001b[38;5;66;03m# Check if there are at least 10 properties\u001b[39;00m\n\u001b[1;32m     16\u001b[0m \u001b[38;5;28;01mif\u001b[39;00m \u001b[38;5;28mlen\u001b[39m(filtered_properties) \u001b[38;5;241m>\u001b[39m\u001b[38;5;241m=\u001b[39m \u001b[38;5;241m10\u001b[39m:\n\u001b[1;32m     17\u001b[0m     \u001b[38;5;66;03m# Calculate average price based on the 10 nearest properties of the specified type\u001b[39;00m\n",
      "File \u001b[0;32m~/venv-metal/lib/python3.9/site-packages/pandas/core/frame.py:4090\u001b[0m, in \u001b[0;36mDataFrame.__getitem__\u001b[0;34m(self, key)\u001b[0m\n\u001b[1;32m   4088\u001b[0m \u001b[38;5;28;01mif\u001b[39;00m \u001b[38;5;28mself\u001b[39m\u001b[38;5;241m.\u001b[39mcolumns\u001b[38;5;241m.\u001b[39mnlevels \u001b[38;5;241m>\u001b[39m \u001b[38;5;241m1\u001b[39m:\n\u001b[1;32m   4089\u001b[0m     \u001b[38;5;28;01mreturn\u001b[39;00m \u001b[38;5;28mself\u001b[39m\u001b[38;5;241m.\u001b[39m_getitem_multilevel(key)\n\u001b[0;32m-> 4090\u001b[0m indexer \u001b[38;5;241m=\u001b[39m \u001b[38;5;28;43mself\u001b[39;49m\u001b[38;5;241;43m.\u001b[39;49m\u001b[43mcolumns\u001b[49m\u001b[38;5;241;43m.\u001b[39;49m\u001b[43mget_loc\u001b[49m\u001b[43m(\u001b[49m\u001b[43mkey\u001b[49m\u001b[43m)\u001b[49m\n\u001b[1;32m   4091\u001b[0m \u001b[38;5;28;01mif\u001b[39;00m is_integer(indexer):\n\u001b[1;32m   4092\u001b[0m     indexer \u001b[38;5;241m=\u001b[39m [indexer]\n",
      "File \u001b[0;32m~/venv-metal/lib/python3.9/site-packages/pandas/core/indexes/base.py:3809\u001b[0m, in \u001b[0;36mIndex.get_loc\u001b[0;34m(self, key)\u001b[0m\n\u001b[1;32m   3804\u001b[0m     \u001b[38;5;28;01mif\u001b[39;00m \u001b[38;5;28misinstance\u001b[39m(casted_key, \u001b[38;5;28mslice\u001b[39m) \u001b[38;5;129;01mor\u001b[39;00m (\n\u001b[1;32m   3805\u001b[0m         \u001b[38;5;28misinstance\u001b[39m(casted_key, abc\u001b[38;5;241m.\u001b[39mIterable)\n\u001b[1;32m   3806\u001b[0m         \u001b[38;5;129;01mand\u001b[39;00m \u001b[38;5;28many\u001b[39m(\u001b[38;5;28misinstance\u001b[39m(x, \u001b[38;5;28mslice\u001b[39m) \u001b[38;5;28;01mfor\u001b[39;00m x \u001b[38;5;129;01min\u001b[39;00m casted_key)\n\u001b[1;32m   3807\u001b[0m     ):\n\u001b[1;32m   3808\u001b[0m         \u001b[38;5;28;01mraise\u001b[39;00m InvalidIndexError(key)\n\u001b[0;32m-> 3809\u001b[0m     \u001b[38;5;28;01mraise\u001b[39;00m \u001b[38;5;167;01mKeyError\u001b[39;00m(key) \u001b[38;5;28;01mfrom\u001b[39;00m \u001b[38;5;21;01merr\u001b[39;00m\n\u001b[1;32m   3810\u001b[0m \u001b[38;5;28;01mexcept\u001b[39;00m \u001b[38;5;167;01mTypeError\u001b[39;00m:\n\u001b[1;32m   3811\u001b[0m     \u001b[38;5;66;03m# If we have a listlike key, _check_indexing_error will raise\u001b[39;00m\n\u001b[1;32m   3812\u001b[0m     \u001b[38;5;66;03m#  InvalidIndexError. Otherwise we fall through and re-raise\u001b[39;00m\n\u001b[1;32m   3813\u001b[0m     \u001b[38;5;66;03m#  the TypeError.\u001b[39;00m\n\u001b[1;32m   3814\u001b[0m     \u001b[38;5;28mself\u001b[39m\u001b[38;5;241m.\u001b[39m_check_indexing_error(key)\n",
      "\u001b[0;31mKeyError\u001b[0m: 'type_local'"
     ]
    }
   ],
   "source": [
    "import pandas as pd\n",
    "import numpy as np\n",
    "from sklearn.neighbors import BallTree\n",
    "import pickle\n",
    "\n",
    "# Load your BallTree model and properties data\n",
    "with open('data/balltree_model_all.pkl', 'rb') as balltree_file:\n",
    "    balltree_model = pickle.load(balltree_file)\n",
    "\n",
    "# Provided data\n",
    "properties_data = pd.read_csv('data/combined_properties_france.csv')\n",
    "\n",
    "# Example coordinates for a property\n",
    "c1 = 45.92759323120117\n",
    "c2 = 6.866420745849609\n",
    "\n",
    "# Convert coordinates to radians\n",
    "latitude_r = np.deg2rad(c1)\n",
    "longitude_r = np.deg2rad(c2)\n",
    "\n",
    "# Assuming functions 'find_nearest_properties_mean' and 'calculate_distance_moyenne' are defined\n",
    "Prix_moyen_du_quartier = find_nearest_properties_mean(latitude_r, longitude_r, balltree_model, properties_data, \"Maison\")\n",
    "distance_moyenne = calculate_distance_moyenne(latitude_r, longitude_r, balltree_model)\n",
    "\n",
    "# Example property details\n",
    "surface_reelle_bati = 285\n",
    "surface_terrain = 1488\n",
    "nombre_pieces_principales = 7\n",
    "p_pop = 8644\n",
    "number_of_sales = 309\n",
    "\n",
    "# Data for prediction\n",
    "data_for_prediction = {\n",
    "    'code_departement': [33],\n",
    "    'surface_reelle_bati': [surface_reelle_bati],\n",
    "    'nombre_pieces_principales': [nombre_pieces_principales],\n",
    "    'surface_terrain': [surface_terrain],\n",
    "    'latitude_r': [latitude_r],\n",
    "    'longitude_r': [longitude_r],\n",
    "    'p_pop': [p_pop],\n",
    "    'distance_moyenne': [distance_moyenne],\n",
    "    'Prix_moyen_du_quartier': [Prix_moyen_du_quartier],\n",
    "    'type_local_Appartement': [0],\n",
    "    'type_local_Maison': [1],\n",
    "    'number_of_sales': [number_of_sales]\n",
    "}\n",
    "\n",
    "# Create DataFrame from the data\n",
    "new_sample = pd.DataFrame(data_for_prediction)\n",
    "\n",
    "# Scale the data\n",
    "new_sample_scaled = feature_scaler.transform(new_sample)\n",
    "\n",
    "# Make predictions\n",
    "predictions_normalized = model.predict(new_sample_scaled)\n",
    "\n",
    "# Inverse transform predictions\n",
    "predictions = target_scaler.inverse_transform(predictions_normalized)\n",
    "\n",
    "print(predictions)\n"
   ]
  },
  {
   "cell_type": "code",
   "execution_count": null,
   "metadata": {},
   "outputs": [
    {
     "name": "stderr",
     "output_type": "stream",
     "text": [
      "/var/folders/tz/clsh4w9x0wjbfnz7p3jr9xch0000gn/T/ipykernel_1395/2043126014.py:17: DtypeWarning: Columns (3,12) have mixed types. Specify dtype option on import or set low_memory=False.\n",
      "  properties_data = pd.read_csv('data/combined_properties_france.csv')\n",
      "/Users/arthurdesmazures/Library/Python/3.9/lib/python/site-packages/sklearn/base.py:458: UserWarning: X has feature names, but StandardScaler was fitted without feature names\n",
      "  warnings.warn(\n"
     ]
    }
   ],
   "source": [
    "import numpy as np\n",
    "import pandas as pd\n",
    "import pickle\n",
    "from sklearn.neighbors import BallTree\n",
    "\n",
    "# Load scaler and model\n",
    "with open('data/scaler.pkl', 'rb') as scaler_file:\n",
    "    scaler = pickle.load(scaler_file)\n",
    "\n",
    "with open('data/model.pkl', 'rb') as model_file:\n",
    "    model = pickle.load(model_file)\n",
    "\n",
    "# Load your BallTree model and properties data\n",
    "with open('data/balltree_model_all.pkl', 'rb') as balltree_file:\n",
    "    balltree_model = pickle.load(balltree_file)\n",
    "\n",
    "properties_data = pd.read_csv('data/combined_properties_france.csv')\n",
    "\n",
    "s1 = 43.643516540527344\n",
    "s2 = 5.097583293914795\n",
    "\n",
    "a1 = 44.636693\n",
    "a2 = -1.197042\n",
    "\n",
    "c1 = 45.92759323120117\n",
    "c2 = 6.866420745849609\n",
    "\n",
    "# Convert coordinates to radians\n",
    "latitude_r = np.deg2rad(c1)\n",
    "longitude_r = np.deg2rad(c2)\n",
    "\n",
    "# Use the functions to get the needed data\n",
    "Prix_moyen_du_quartier = find_nearest_properties_mean(latitude_r, longitude_r, balltree_model, properties_data, \"Maison\")\n",
    "distance_moyenne = calculate_distance_moyenne(latitude_r, longitude_r, balltree_model)\n",
    "\n",
    "\n",
    "# Other property details arcachon\n",
    "# surface_reelle_bati = 91\n",
    "# surface_terrain = 450\n",
    "# nombre_pieces_principales = 5\n",
    "# p_pop = 26269\n",
    "# number_of_sales = 457\n",
    "\n",
    "#salon \n",
    "# Other property details\n",
    "# surface_reelle_bati = 170\n",
    "# surface_terrain = 240\n",
    "# nombre_pieces_principales = 6\n",
    "# p_pop = 45009\n",
    "# number_of_sales = 517\n",
    "\n",
    "#Cham\n",
    "surface_reelle_bati = 285\n",
    "surface_terrain = 1488\n",
    "nombre_pieces_principales = 7\n",
    "p_pop = 8644\n",
    "number_of_sales = 309\n",
    "\n",
    "# Prepare data for prediction\n",
    "data_for_prediction = {\n",
    "    'code_departement': [33],\n",
    "    'surface_reelle_bati': [surface_reelle_bati],\n",
    "    \"nombre_pieces_principales\": [nombre_pieces_principales],\n",
    "    \"surface_terrain\": [surface_terrain],\n",
    "    'latitude_r': [latitude_r],\n",
    "    'longitude_r': [longitude_r],\n",
    "    'p_pop': [p_pop],\n",
    "    'distance_moyenne': [distance_moyenne],\n",
    "    'Prix_moyen_du_quartier': [Prix_moyen_du_quartier],\n",
    "    'type_local_Appartement': [0],\n",
    "    'type_local_Maison': [1],\n",
    "    'number_of_sales': [number_of_sales]\n",
    "}\n",
    "\n",
    "# Create DataFrame from the data\n",
    "new_sample = pd.DataFrame(data_for_prediction)\n",
    "\n",
    "# Scale the data\n",
    "new_sample_scaled = scaler.transform(new_sample)"
   ]
  },
  {
   "cell_type": "code",
   "execution_count": null,
   "metadata": {},
   "outputs": [
    {
     "data": {
      "text/html": [
       "<div>\n",
       "<style scoped>\n",
       "    .dataframe tbody tr th:only-of-type {\n",
       "        vertical-align: middle;\n",
       "    }\n",
       "\n",
       "    .dataframe tbody tr th {\n",
       "        vertical-align: top;\n",
       "    }\n",
       "\n",
       "    .dataframe thead th {\n",
       "        text-align: right;\n",
       "    }\n",
       "</style>\n",
       "<table border=\"1\" class=\"dataframe\">\n",
       "  <thead>\n",
       "    <tr style=\"text-align: right;\">\n",
       "      <th></th>\n",
       "      <th>date_mutation</th>\n",
       "      <th>nature_mutation</th>\n",
       "      <th>valeur_fonciere</th>\n",
       "      <th>code_commune</th>\n",
       "      <th>code_departement</th>\n",
       "      <th>type_local</th>\n",
       "      <th>surface_reelle_bati</th>\n",
       "      <th>nombre_pieces_principales</th>\n",
       "      <th>surface_terrain</th>\n",
       "      <th>Prix_m</th>\n",
       "      <th>latitude_r</th>\n",
       "      <th>longitude_r</th>\n",
       "      <th>codgeo</th>\n",
       "      <th>p_pop</th>\n",
       "      <th>distance_moyenne</th>\n",
       "      <th>Prix_moyen_du_quartier</th>\n",
       "      <th>number_of_sales</th>\n",
       "    </tr>\n",
       "  </thead>\n",
       "  <tbody>\n",
       "    <tr>\n",
       "      <th>201515</th>\n",
       "      <td>2022-01-07</td>\n",
       "      <td>Vente</td>\n",
       "      <td>208336.0</td>\n",
       "      <td>74056</td>\n",
       "      <td>74</td>\n",
       "      <td>Appartement</td>\n",
       "      <td>79.0</td>\n",
       "      <td>3.0</td>\n",
       "      <td>0.0</td>\n",
       "      <td>2637</td>\n",
       "      <td>0.801069</td>\n",
       "      <td>0.119197</td>\n",
       "      <td>74056.0</td>\n",
       "      <td>8644.0</td>\n",
       "      <td>0.245629</td>\n",
       "      <td>8317.444444</td>\n",
       "      <td>309</td>\n",
       "    </tr>\n",
       "    <tr>\n",
       "      <th>201516</th>\n",
       "      <td>2022-02-18</td>\n",
       "      <td>Vente</td>\n",
       "      <td>245000.0</td>\n",
       "      <td>74056</td>\n",
       "      <td>74</td>\n",
       "      <td>Appartement</td>\n",
       "      <td>38.0</td>\n",
       "      <td>3.0</td>\n",
       "      <td>0.0</td>\n",
       "      <td>6447</td>\n",
       "      <td>0.801087</td>\n",
       "      <td>0.119456</td>\n",
       "      <td>74056.0</td>\n",
       "      <td>8644.0</td>\n",
       "      <td>0.283981</td>\n",
       "      <td>7671.666667</td>\n",
       "      <td>309</td>\n",
       "    </tr>\n",
       "    <tr>\n",
       "      <th>201517</th>\n",
       "      <td>2022-04-19</td>\n",
       "      <td>Vente</td>\n",
       "      <td>165000.0</td>\n",
       "      <td>74056</td>\n",
       "      <td>74</td>\n",
       "      <td>Appartement</td>\n",
       "      <td>22.0</td>\n",
       "      <td>2.0</td>\n",
       "      <td>0.0</td>\n",
       "      <td>7500</td>\n",
       "      <td>0.801088</td>\n",
       "      <td>0.119395</td>\n",
       "      <td>74056.0</td>\n",
       "      <td>8644.0</td>\n",
       "      <td>0.139831</td>\n",
       "      <td>7554.666667</td>\n",
       "      <td>309</td>\n",
       "    </tr>\n",
       "    <tr>\n",
       "      <th>201518</th>\n",
       "      <td>2022-08-03</td>\n",
       "      <td>Vente</td>\n",
       "      <td>270000.0</td>\n",
       "      <td>74056</td>\n",
       "      <td>74</td>\n",
       "      <td>Appartement</td>\n",
       "      <td>52.0</td>\n",
       "      <td>3.0</td>\n",
       "      <td>0.0</td>\n",
       "      <td>5192</td>\n",
       "      <td>0.801088</td>\n",
       "      <td>0.119395</td>\n",
       "      <td>74056.0</td>\n",
       "      <td>8644.0</td>\n",
       "      <td>0.139831</td>\n",
       "      <td>7554.666667</td>\n",
       "      <td>309</td>\n",
       "    </tr>\n",
       "    <tr>\n",
       "      <th>201519</th>\n",
       "      <td>2022-09-08</td>\n",
       "      <td>Vente</td>\n",
       "      <td>158000.0</td>\n",
       "      <td>74056</td>\n",
       "      <td>74</td>\n",
       "      <td>Appartement</td>\n",
       "      <td>19.0</td>\n",
       "      <td>1.0</td>\n",
       "      <td>0.0</td>\n",
       "      <td>8316</td>\n",
       "      <td>0.801088</td>\n",
       "      <td>0.119395</td>\n",
       "      <td>74056.0</td>\n",
       "      <td>8644.0</td>\n",
       "      <td>0.139831</td>\n",
       "      <td>7554.666667</td>\n",
       "      <td>309</td>\n",
       "    </tr>\n",
       "    <tr>\n",
       "      <th>...</th>\n",
       "      <td>...</td>\n",
       "      <td>...</td>\n",
       "      <td>...</td>\n",
       "      <td>...</td>\n",
       "      <td>...</td>\n",
       "      <td>...</td>\n",
       "      <td>...</td>\n",
       "      <td>...</td>\n",
       "      <td>...</td>\n",
       "      <td>...</td>\n",
       "      <td>...</td>\n",
       "      <td>...</td>\n",
       "      <td>...</td>\n",
       "      <td>...</td>\n",
       "      <td>...</td>\n",
       "      <td>...</td>\n",
       "      <td>...</td>\n",
       "    </tr>\n",
       "    <tr>\n",
       "      <th>803750</th>\n",
       "      <td>2022-02-10</td>\n",
       "      <td>Vente</td>\n",
       "      <td>1400000.0</td>\n",
       "      <td>74056</td>\n",
       "      <td>74</td>\n",
       "      <td>Maison</td>\n",
       "      <td>140.0</td>\n",
       "      <td>4.0</td>\n",
       "      <td>163.0</td>\n",
       "      <td>10000</td>\n",
       "      <td>0.802574</td>\n",
       "      <td>0.120938</td>\n",
       "      <td>74056.0</td>\n",
       "      <td>8644.0</td>\n",
       "      <td>0.146516</td>\n",
       "      <td>7952.888889</td>\n",
       "      <td>309</td>\n",
       "    </tr>\n",
       "    <tr>\n",
       "      <th>803751</th>\n",
       "      <td>2022-01-14</td>\n",
       "      <td>Vente</td>\n",
       "      <td>1246000.0</td>\n",
       "      <td>74056</td>\n",
       "      <td>74</td>\n",
       "      <td>Maison</td>\n",
       "      <td>152.0</td>\n",
       "      <td>5.0</td>\n",
       "      <td>712.0</td>\n",
       "      <td>8197</td>\n",
       "      <td>0.802595</td>\n",
       "      <td>0.120932</td>\n",
       "      <td>74056.0</td>\n",
       "      <td>8644.0</td>\n",
       "      <td>0.192404</td>\n",
       "      <td>8153.222222</td>\n",
       "      <td>309</td>\n",
       "    </tr>\n",
       "    <tr>\n",
       "      <th>803752</th>\n",
       "      <td>2022-01-14</td>\n",
       "      <td>Vente</td>\n",
       "      <td>1246000.0</td>\n",
       "      <td>74056</td>\n",
       "      <td>74</td>\n",
       "      <td>Maison</td>\n",
       "      <td>152.0</td>\n",
       "      <td>5.0</td>\n",
       "      <td>878.0</td>\n",
       "      <td>8197</td>\n",
       "      <td>0.802595</td>\n",
       "      <td>0.120932</td>\n",
       "      <td>74056.0</td>\n",
       "      <td>8644.0</td>\n",
       "      <td>0.192404</td>\n",
       "      <td>8153.222222</td>\n",
       "      <td>309</td>\n",
       "    </tr>\n",
       "    <tr>\n",
       "      <th>803753</th>\n",
       "      <td>2022-05-25</td>\n",
       "      <td>Vente</td>\n",
       "      <td>1400000.0</td>\n",
       "      <td>74056</td>\n",
       "      <td>74</td>\n",
       "      <td>Maison</td>\n",
       "      <td>144.0</td>\n",
       "      <td>5.0</td>\n",
       "      <td>0.0</td>\n",
       "      <td>9722</td>\n",
       "      <td>0.802759</td>\n",
       "      <td>0.120970</td>\n",
       "      <td>74056.0</td>\n",
       "      <td>8644.0</td>\n",
       "      <td>0.461331</td>\n",
       "      <td>10716.888889</td>\n",
       "      <td>309</td>\n",
       "    </tr>\n",
       "    <tr>\n",
       "      <th>803754</th>\n",
       "      <td>2022-11-18</td>\n",
       "      <td>Vente</td>\n",
       "      <td>1230000.0</td>\n",
       "      <td>74056</td>\n",
       "      <td>74</td>\n",
       "      <td>Maison</td>\n",
       "      <td>121.0</td>\n",
       "      <td>5.0</td>\n",
       "      <td>0.0</td>\n",
       "      <td>10165</td>\n",
       "      <td>0.802759</td>\n",
       "      <td>0.120970</td>\n",
       "      <td>74056.0</td>\n",
       "      <td>8644.0</td>\n",
       "      <td>0.461331</td>\n",
       "      <td>10716.888889</td>\n",
       "      <td>309</td>\n",
       "    </tr>\n",
       "  </tbody>\n",
       "</table>\n",
       "<p>309 rows × 17 columns</p>\n",
       "</div>"
      ],
      "text/plain": [
       "       date_mutation nature_mutation  valeur_fonciere code_commune  \\\n",
       "201515    2022-01-07           Vente         208336.0        74056   \n",
       "201516    2022-02-18           Vente         245000.0        74056   \n",
       "201517    2022-04-19           Vente         165000.0        74056   \n",
       "201518    2022-08-03           Vente         270000.0        74056   \n",
       "201519    2022-09-08           Vente         158000.0        74056   \n",
       "...              ...             ...              ...          ...   \n",
       "803750    2022-02-10           Vente        1400000.0        74056   \n",
       "803751    2022-01-14           Vente        1246000.0        74056   \n",
       "803752    2022-01-14           Vente        1246000.0        74056   \n",
       "803753    2022-05-25           Vente        1400000.0        74056   \n",
       "803754    2022-11-18           Vente        1230000.0        74056   \n",
       "\n",
       "        code_departement   type_local  surface_reelle_bati  \\\n",
       "201515                74  Appartement                 79.0   \n",
       "201516                74  Appartement                 38.0   \n",
       "201517                74  Appartement                 22.0   \n",
       "201518                74  Appartement                 52.0   \n",
       "201519                74  Appartement                 19.0   \n",
       "...                  ...          ...                  ...   \n",
       "803750                74       Maison                140.0   \n",
       "803751                74       Maison                152.0   \n",
       "803752                74       Maison                152.0   \n",
       "803753                74       Maison                144.0   \n",
       "803754                74       Maison                121.0   \n",
       "\n",
       "        nombre_pieces_principales  surface_terrain  Prix_m  latitude_r  \\\n",
       "201515                        3.0              0.0    2637    0.801069   \n",
       "201516                        3.0              0.0    6447    0.801087   \n",
       "201517                        2.0              0.0    7500    0.801088   \n",
       "201518                        3.0              0.0    5192    0.801088   \n",
       "201519                        1.0              0.0    8316    0.801088   \n",
       "...                           ...              ...     ...         ...   \n",
       "803750                        4.0            163.0   10000    0.802574   \n",
       "803751                        5.0            712.0    8197    0.802595   \n",
       "803752                        5.0            878.0    8197    0.802595   \n",
       "803753                        5.0              0.0    9722    0.802759   \n",
       "803754                        5.0              0.0   10165    0.802759   \n",
       "\n",
       "        longitude_r   codgeo   p_pop  distance_moyenne  \\\n",
       "201515     0.119197  74056.0  8644.0          0.245629   \n",
       "201516     0.119456  74056.0  8644.0          0.283981   \n",
       "201517     0.119395  74056.0  8644.0          0.139831   \n",
       "201518     0.119395  74056.0  8644.0          0.139831   \n",
       "201519     0.119395  74056.0  8644.0          0.139831   \n",
       "...             ...      ...     ...               ...   \n",
       "803750     0.120938  74056.0  8644.0          0.146516   \n",
       "803751     0.120932  74056.0  8644.0          0.192404   \n",
       "803752     0.120932  74056.0  8644.0          0.192404   \n",
       "803753     0.120970  74056.0  8644.0          0.461331   \n",
       "803754     0.120970  74056.0  8644.0          0.461331   \n",
       "\n",
       "        Prix_moyen_du_quartier  number_of_sales  \n",
       "201515             8317.444444              309  \n",
       "201516             7671.666667              309  \n",
       "201517             7554.666667              309  \n",
       "201518             7554.666667              309  \n",
       "201519             7554.666667              309  \n",
       "...                        ...              ...  \n",
       "803750             7952.888889              309  \n",
       "803751             8153.222222              309  \n",
       "803752             8153.222222              309  \n",
       "803753            10716.888889              309  \n",
       "803754            10716.888889              309  \n",
       "\n",
       "[309 rows x 17 columns]"
      ]
     },
     "execution_count": 55,
     "metadata": {},
     "output_type": "execute_result"
    }
   ],
   "source": [
    "properties_data[properties_data['code_commune'] == 74056]\n",
    "\n"
   ]
  },
  {
   "cell_type": "code",
   "execution_count": null,
   "metadata": {},
   "outputs": [
    {
     "name": "stdout",
     "output_type": "stream",
     "text": [
      "Predicted Price: 9723.786337884336\n",
      "Prix du bien [2771279.10629704]\n"
     ]
    }
   ],
   "source": [
    "# Predict the price\n",
    "predicted_price = model.predict(new_sample_scaled)\n",
    "\n",
    "# Output the prediction\n",
    "print(\"Predicted Price:\", predicted_price[0])\n",
    "print(\"Prix du bien\", predicted_price * surface_reelle_bati)"
   ]
  },
  {
   "cell_type": "code",
   "execution_count": null,
   "metadata": {},
   "outputs": [
    {
     "data": {
      "text/plain": [
       "12713.4"
      ]
     },
     "execution_count": 57,
     "metadata": {},
     "output_type": "execute_result"
    }
   ],
   "source": [
    "Prix_moyen_du_quartier"
   ]
  },
  {
   "cell_type": "code",
   "execution_count": null,
   "metadata": {},
   "outputs": [
    {
     "data": {
      "text/plain": [
       "0.1976292084957498"
      ]
     },
     "execution_count": 58,
     "metadata": {},
     "output_type": "execute_result"
    }
   ],
   "source": [
    "distance_moyenne"
   ]
  },
  {
   "cell_type": "code",
   "execution_count": null,
   "metadata": {},
   "outputs": [
    {
     "ename": "ModuleNotFoundError",
     "evalue": "No module named 'winsound'",
     "output_type": "error",
     "traceback": [
      "\u001b[0;31m---------------------------------------------------------------------------\u001b[0m",
      "\u001b[0;31mModuleNotFoundError\u001b[0m                       Traceback (most recent call last)",
      "Cell \u001b[0;32mIn[59], line 1\u001b[0m\n\u001b[0;32m----> 1\u001b[0m \u001b[38;5;28;01mimport\u001b[39;00m \u001b[38;5;21;01mwinsound\u001b[39;00m\n\u001b[1;32m      3\u001b[0m \u001b[38;5;66;03m# Jouer un son à la fin\u001b[39;00m\n\u001b[1;32m      4\u001b[0m frequency \u001b[38;5;241m=\u001b[39m \u001b[38;5;241m2500\u001b[39m  \u001b[38;5;66;03m# en Hertz\u001b[39;00m\n",
      "\u001b[0;31mModuleNotFoundError\u001b[0m: No module named 'winsound'"
     ]
    }
   ],
   "source": [
    "import winsound\n",
    "\n",
    "# Jouer un son à la fin\n",
    "frequency = 2500  # en Hertz\n",
    "duration = 500   # en millisecondes\n",
    "winsound.Beep(frequency, duration)"
   ]
  }
 ],
 "metadata": {
  "kernelspec": {
   "display_name": "Python 3",
   "language": "python",
   "name": "python3"
  },
  "language_info": {
   "codemirror_mode": {
    "name": "ipython",
    "version": 3
   },
   "file_extension": ".py",
   "mimetype": "text/x-python",
   "name": "python",
   "nbconvert_exporter": "python",
   "pygments_lexer": "ipython3",
   "version": "3.9.6"
  }
 },
 "nbformat": 4,
 "nbformat_minor": 2
}
